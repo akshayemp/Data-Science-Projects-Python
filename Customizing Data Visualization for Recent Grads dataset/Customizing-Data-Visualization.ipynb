{
 "cells": [
  {
   "cell_type": "code",
   "execution_count": 2,
   "metadata": {
    "collapsed": true
   },
   "outputs": [],
   "source": [
    "# Import libraries\n",
    "import pandas as pd\n",
    "import matplotlib.pyplot as plt\n",
    "import numpy as np\n",
    "%matplotlib inline"
   ]
  },
  {
   "cell_type": "code",
   "execution_count": 3,
   "metadata": {
    "collapsed": true
   },
   "outputs": [],
   "source": [
    "# Load datasets\n",
    "\n",
    "recent_grads = pd.read_csv('recent-grads.csv')"
   ]
  },
  {
   "cell_type": "markdown",
   "metadata": {},
   "source": [
    "# Data Exploration"
   ]
  },
  {
   "cell_type": "code",
   "execution_count": 4,
   "metadata": {
    "collapsed": false
   },
   "outputs": [
    {
     "data": {
      "text/html": [
       "<div style=\"max-height:1000px;max-width:1500px;overflow:auto;\">\n",
       "<table border=\"1\" class=\"dataframe\">\n",
       "  <thead>\n",
       "    <tr style=\"text-align: right;\">\n",
       "      <th></th>\n",
       "      <th>Rank</th>\n",
       "      <th>Major_code</th>\n",
       "      <th>Major</th>\n",
       "      <th>Total</th>\n",
       "      <th>Men</th>\n",
       "      <th>Women</th>\n",
       "      <th>Major_category</th>\n",
       "      <th>ShareWomen</th>\n",
       "      <th>Sample_size</th>\n",
       "      <th>Employed</th>\n",
       "      <th>...</th>\n",
       "      <th>Part_time</th>\n",
       "      <th>Full_time_year_round</th>\n",
       "      <th>Unemployed</th>\n",
       "      <th>Unemployment_rate</th>\n",
       "      <th>Median</th>\n",
       "      <th>P25th</th>\n",
       "      <th>P75th</th>\n",
       "      <th>College_jobs</th>\n",
       "      <th>Non_college_jobs</th>\n",
       "      <th>Low_wage_jobs</th>\n",
       "    </tr>\n",
       "  </thead>\n",
       "  <tbody>\n",
       "    <tr>\n",
       "      <th>0</th>\n",
       "      <td> 1</td>\n",
       "      <td> 2419</td>\n",
       "      <td>                     PETROLEUM ENGINEERING</td>\n",
       "      <td>  2339</td>\n",
       "      <td>  2057</td>\n",
       "      <td>   282</td>\n",
       "      <td> Engineering</td>\n",
       "      <td> 0.120564</td>\n",
       "      <td>  36</td>\n",
       "      <td>  1976</td>\n",
       "      <td>...</td>\n",
       "      <td>  270</td>\n",
       "      <td>  1207</td>\n",
       "      <td>   37</td>\n",
       "      <td> 0.018381</td>\n",
       "      <td> 110000</td>\n",
       "      <td> 95000</td>\n",
       "      <td> 125000</td>\n",
       "      <td>  1534</td>\n",
       "      <td>  364</td>\n",
       "      <td> 193</td>\n",
       "    </tr>\n",
       "    <tr>\n",
       "      <th>1</th>\n",
       "      <td> 2</td>\n",
       "      <td> 2416</td>\n",
       "      <td>            MINING AND MINERAL ENGINEERING</td>\n",
       "      <td>   756</td>\n",
       "      <td>   679</td>\n",
       "      <td>    77</td>\n",
       "      <td> Engineering</td>\n",
       "      <td> 0.101852</td>\n",
       "      <td>   7</td>\n",
       "      <td>   640</td>\n",
       "      <td>...</td>\n",
       "      <td>  170</td>\n",
       "      <td>   388</td>\n",
       "      <td>   85</td>\n",
       "      <td> 0.117241</td>\n",
       "      <td>  75000</td>\n",
       "      <td> 55000</td>\n",
       "      <td>  90000</td>\n",
       "      <td>   350</td>\n",
       "      <td>  257</td>\n",
       "      <td>  50</td>\n",
       "    </tr>\n",
       "    <tr>\n",
       "      <th>2</th>\n",
       "      <td> 3</td>\n",
       "      <td> 2415</td>\n",
       "      <td>                 METALLURGICAL ENGINEERING</td>\n",
       "      <td>   856</td>\n",
       "      <td>   725</td>\n",
       "      <td>   131</td>\n",
       "      <td> Engineering</td>\n",
       "      <td> 0.153037</td>\n",
       "      <td>   3</td>\n",
       "      <td>   648</td>\n",
       "      <td>...</td>\n",
       "      <td>  133</td>\n",
       "      <td>   340</td>\n",
       "      <td>   16</td>\n",
       "      <td> 0.024096</td>\n",
       "      <td>  73000</td>\n",
       "      <td> 50000</td>\n",
       "      <td> 105000</td>\n",
       "      <td>   456</td>\n",
       "      <td>  176</td>\n",
       "      <td>   0</td>\n",
       "    </tr>\n",
       "    <tr>\n",
       "      <th>3</th>\n",
       "      <td> 4</td>\n",
       "      <td> 2417</td>\n",
       "      <td> NAVAL ARCHITECTURE AND MARINE ENGINEERING</td>\n",
       "      <td>  1258</td>\n",
       "      <td>  1123</td>\n",
       "      <td>   135</td>\n",
       "      <td> Engineering</td>\n",
       "      <td> 0.107313</td>\n",
       "      <td>  16</td>\n",
       "      <td>   758</td>\n",
       "      <td>...</td>\n",
       "      <td>  150</td>\n",
       "      <td>   692</td>\n",
       "      <td>   40</td>\n",
       "      <td> 0.050125</td>\n",
       "      <td>  70000</td>\n",
       "      <td> 43000</td>\n",
       "      <td>  80000</td>\n",
       "      <td>   529</td>\n",
       "      <td>  102</td>\n",
       "      <td>   0</td>\n",
       "    </tr>\n",
       "    <tr>\n",
       "      <th>4</th>\n",
       "      <td> 5</td>\n",
       "      <td> 2405</td>\n",
       "      <td>                      CHEMICAL ENGINEERING</td>\n",
       "      <td> 32260</td>\n",
       "      <td> 21239</td>\n",
       "      <td> 11021</td>\n",
       "      <td> Engineering</td>\n",
       "      <td> 0.341631</td>\n",
       "      <td> 289</td>\n",
       "      <td> 25694</td>\n",
       "      <td>...</td>\n",
       "      <td> 5180</td>\n",
       "      <td> 16697</td>\n",
       "      <td> 1672</td>\n",
       "      <td> 0.061098</td>\n",
       "      <td>  65000</td>\n",
       "      <td> 50000</td>\n",
       "      <td>  75000</td>\n",
       "      <td> 18314</td>\n",
       "      <td> 4440</td>\n",
       "      <td> 972</td>\n",
       "    </tr>\n",
       "  </tbody>\n",
       "</table>\n",
       "<p>5 rows × 21 columns</p>\n",
       "</div>"
      ],
      "text/plain": [
       "   Rank  Major_code                                      Major  Total    Men  \\\n",
       "0     1        2419                      PETROLEUM ENGINEERING   2339   2057   \n",
       "1     2        2416             MINING AND MINERAL ENGINEERING    756    679   \n",
       "2     3        2415                  METALLURGICAL ENGINEERING    856    725   \n",
       "3     4        2417  NAVAL ARCHITECTURE AND MARINE ENGINEERING   1258   1123   \n",
       "4     5        2405                       CHEMICAL ENGINEERING  32260  21239   \n",
       "\n",
       "   Women Major_category  ShareWomen  Sample_size  Employed      ...        \\\n",
       "0    282    Engineering    0.120564           36      1976      ...         \n",
       "1     77    Engineering    0.101852            7       640      ...         \n",
       "2    131    Engineering    0.153037            3       648      ...         \n",
       "3    135    Engineering    0.107313           16       758      ...         \n",
       "4  11021    Engineering    0.341631          289     25694      ...         \n",
       "\n",
       "   Part_time  Full_time_year_round  Unemployed  Unemployment_rate  Median  \\\n",
       "0        270                  1207          37           0.018381  110000   \n",
       "1        170                   388          85           0.117241   75000   \n",
       "2        133                   340          16           0.024096   73000   \n",
       "3        150                   692          40           0.050125   70000   \n",
       "4       5180                 16697        1672           0.061098   65000   \n",
       "\n",
       "   P25th   P75th  College_jobs  Non_college_jobs  Low_wage_jobs  \n",
       "0  95000  125000          1534               364            193  \n",
       "1  55000   90000           350               257             50  \n",
       "2  50000  105000           456               176              0  \n",
       "3  43000   80000           529               102              0  \n",
       "4  50000   75000         18314              4440            972  \n",
       "\n",
       "[5 rows x 21 columns]"
      ]
     },
     "execution_count": 4,
     "metadata": {},
     "output_type": "execute_result"
    }
   ],
   "source": [
    "# Top rows\n",
    "recent_grads.head()"
   ]
  },
  {
   "cell_type": "code",
   "execution_count": 5,
   "metadata": {
    "collapsed": false
   },
   "outputs": [
    {
     "data": {
      "text/html": [
       "<div style=\"max-height:1000px;max-width:1500px;overflow:auto;\">\n",
       "<table border=\"1\" class=\"dataframe\">\n",
       "  <thead>\n",
       "    <tr style=\"text-align: right;\">\n",
       "      <th></th>\n",
       "      <th>Rank</th>\n",
       "      <th>Major_code</th>\n",
       "      <th>Major</th>\n",
       "      <th>Total</th>\n",
       "      <th>Men</th>\n",
       "      <th>Women</th>\n",
       "      <th>Major_category</th>\n",
       "      <th>ShareWomen</th>\n",
       "      <th>Sample_size</th>\n",
       "      <th>Employed</th>\n",
       "      <th>...</th>\n",
       "      <th>Part_time</th>\n",
       "      <th>Full_time_year_round</th>\n",
       "      <th>Unemployed</th>\n",
       "      <th>Unemployment_rate</th>\n",
       "      <th>Median</th>\n",
       "      <th>P25th</th>\n",
       "      <th>P75th</th>\n",
       "      <th>College_jobs</th>\n",
       "      <th>Non_college_jobs</th>\n",
       "      <th>Low_wage_jobs</th>\n",
       "    </tr>\n",
       "  </thead>\n",
       "  <tbody>\n",
       "    <tr>\n",
       "      <th>168</th>\n",
       "      <td> 169</td>\n",
       "      <td> 3609</td>\n",
       "      <td>                ZOOLOGY</td>\n",
       "      <td> 8409</td>\n",
       "      <td> 3050</td>\n",
       "      <td> 5359</td>\n",
       "      <td>   Biology &amp; Life Science</td>\n",
       "      <td> 0.637293</td>\n",
       "      <td> 47</td>\n",
       "      <td> 6259</td>\n",
       "      <td>...</td>\n",
       "      <td> 2190</td>\n",
       "      <td> 3602</td>\n",
       "      <td> 304</td>\n",
       "      <td> 0.046320</td>\n",
       "      <td> 26000</td>\n",
       "      <td> 20000</td>\n",
       "      <td> 39000</td>\n",
       "      <td> 2771</td>\n",
       "      <td> 2947</td>\n",
       "      <td> 743</td>\n",
       "    </tr>\n",
       "    <tr>\n",
       "      <th>169</th>\n",
       "      <td> 170</td>\n",
       "      <td> 5201</td>\n",
       "      <td> EDUCATIONAL PSYCHOLOGY</td>\n",
       "      <td> 2854</td>\n",
       "      <td>  522</td>\n",
       "      <td> 2332</td>\n",
       "      <td> Psychology &amp; Social Work</td>\n",
       "      <td> 0.817099</td>\n",
       "      <td>  7</td>\n",
       "      <td> 2125</td>\n",
       "      <td>...</td>\n",
       "      <td>  572</td>\n",
       "      <td> 1211</td>\n",
       "      <td> 148</td>\n",
       "      <td> 0.065112</td>\n",
       "      <td> 25000</td>\n",
       "      <td> 24000</td>\n",
       "      <td> 34000</td>\n",
       "      <td> 1488</td>\n",
       "      <td>  615</td>\n",
       "      <td>  82</td>\n",
       "    </tr>\n",
       "    <tr>\n",
       "      <th>170</th>\n",
       "      <td> 171</td>\n",
       "      <td> 5202</td>\n",
       "      <td>    CLINICAL PSYCHOLOGY</td>\n",
       "      <td> 2838</td>\n",
       "      <td>  568</td>\n",
       "      <td> 2270</td>\n",
       "      <td> Psychology &amp; Social Work</td>\n",
       "      <td> 0.799859</td>\n",
       "      <td> 13</td>\n",
       "      <td> 2101</td>\n",
       "      <td>...</td>\n",
       "      <td>  648</td>\n",
       "      <td> 1293</td>\n",
       "      <td> 368</td>\n",
       "      <td> 0.149048</td>\n",
       "      <td> 25000</td>\n",
       "      <td> 25000</td>\n",
       "      <td> 40000</td>\n",
       "      <td>  986</td>\n",
       "      <td>  870</td>\n",
       "      <td> 622</td>\n",
       "    </tr>\n",
       "    <tr>\n",
       "      <th>171</th>\n",
       "      <td> 172</td>\n",
       "      <td> 5203</td>\n",
       "      <td>  COUNSELING PSYCHOLOGY</td>\n",
       "      <td> 4626</td>\n",
       "      <td>  931</td>\n",
       "      <td> 3695</td>\n",
       "      <td> Psychology &amp; Social Work</td>\n",
       "      <td> 0.798746</td>\n",
       "      <td> 21</td>\n",
       "      <td> 3777</td>\n",
       "      <td>...</td>\n",
       "      <td>  965</td>\n",
       "      <td> 2738</td>\n",
       "      <td> 214</td>\n",
       "      <td> 0.053621</td>\n",
       "      <td> 23400</td>\n",
       "      <td> 19200</td>\n",
       "      <td> 26000</td>\n",
       "      <td> 2403</td>\n",
       "      <td> 1245</td>\n",
       "      <td> 308</td>\n",
       "    </tr>\n",
       "    <tr>\n",
       "      <th>172</th>\n",
       "      <td> 173</td>\n",
       "      <td> 3501</td>\n",
       "      <td>        LIBRARY SCIENCE</td>\n",
       "      <td> 1098</td>\n",
       "      <td>  134</td>\n",
       "      <td>  964</td>\n",
       "      <td>                Education</td>\n",
       "      <td> 0.877960</td>\n",
       "      <td>  2</td>\n",
       "      <td>  742</td>\n",
       "      <td>...</td>\n",
       "      <td>  237</td>\n",
       "      <td>  410</td>\n",
       "      <td>  87</td>\n",
       "      <td> 0.104946</td>\n",
       "      <td> 22000</td>\n",
       "      <td> 20000</td>\n",
       "      <td> 22000</td>\n",
       "      <td>  288</td>\n",
       "      <td>  338</td>\n",
       "      <td> 192</td>\n",
       "    </tr>\n",
       "  </tbody>\n",
       "</table>\n",
       "<p>5 rows × 21 columns</p>\n",
       "</div>"
      ],
      "text/plain": [
       "     Rank  Major_code                   Major  Total   Men  Women  \\\n",
       "168   169        3609                 ZOOLOGY   8409  3050   5359   \n",
       "169   170        5201  EDUCATIONAL PSYCHOLOGY   2854   522   2332   \n",
       "170   171        5202     CLINICAL PSYCHOLOGY   2838   568   2270   \n",
       "171   172        5203   COUNSELING PSYCHOLOGY   4626   931   3695   \n",
       "172   173        3501         LIBRARY SCIENCE   1098   134    964   \n",
       "\n",
       "               Major_category  ShareWomen  Sample_size  Employed  \\\n",
       "168    Biology & Life Science    0.637293           47      6259   \n",
       "169  Psychology & Social Work    0.817099            7      2125   \n",
       "170  Psychology & Social Work    0.799859           13      2101   \n",
       "171  Psychology & Social Work    0.798746           21      3777   \n",
       "172                 Education    0.877960            2       742   \n",
       "\n",
       "         ...        Part_time  Full_time_year_round  Unemployed  \\\n",
       "168      ...             2190                  3602         304   \n",
       "169      ...              572                  1211         148   \n",
       "170      ...              648                  1293         368   \n",
       "171      ...              965                  2738         214   \n",
       "172      ...              237                   410          87   \n",
       "\n",
       "     Unemployment_rate  Median  P25th  P75th  College_jobs  Non_college_jobs  \\\n",
       "168           0.046320   26000  20000  39000          2771              2947   \n",
       "169           0.065112   25000  24000  34000          1488               615   \n",
       "170           0.149048   25000  25000  40000           986               870   \n",
       "171           0.053621   23400  19200  26000          2403              1245   \n",
       "172           0.104946   22000  20000  22000           288               338   \n",
       "\n",
       "     Low_wage_jobs  \n",
       "168            743  \n",
       "169             82  \n",
       "170            622  \n",
       "171            308  \n",
       "172            192  \n",
       "\n",
       "[5 rows x 21 columns]"
      ]
     },
     "execution_count": 5,
     "metadata": {},
     "output_type": "execute_result"
    }
   ],
   "source": [
    "# Last rows\n",
    "recent_grads.tail()"
   ]
  },
  {
   "cell_type": "code",
   "execution_count": 6,
   "metadata": {
    "collapsed": false
   },
   "outputs": [
    {
     "data": {
      "text/plain": [
       "(173, 21)"
      ]
     },
     "execution_count": 6,
     "metadata": {},
     "output_type": "execute_result"
    }
   ],
   "source": [
    "# Shape of the dataframe\n",
    "recent_grads.shape"
   ]
  },
  {
   "cell_type": "markdown",
   "metadata": {},
   "source": [
    "# Cleaning data"
   ]
  },
  {
   "cell_type": "code",
   "execution_count": 7,
   "metadata": {
    "collapsed": false
   },
   "outputs": [
    {
     "data": {
      "text/plain": [
       "(172, 21)"
      ]
     },
     "execution_count": 7,
     "metadata": {},
     "output_type": "execute_result"
    }
   ],
   "source": [
    "# Drop the NaN values\n",
    "recent_grads = recent_grads.dropna()\n",
    "\n",
    "# Check shape now\n",
    "recent_grads.shape"
   ]
  },
  {
   "cell_type": "markdown",
   "metadata": {},
   "source": [
    "We lost a row."
   ]
  },
  {
   "cell_type": "markdown",
   "metadata": {},
   "source": [
    "# Data Visualization"
   ]
  },
  {
   "cell_type": "code",
   "execution_count": 8,
   "metadata": {
    "collapsed": false,
    "scrolled": true
   },
   "outputs": [
    {
     "data": {
      "image/png": "[encoded data removed]",
      "text/plain": [
       "<matplotlib.figure.Figure at 0x7f6e9782c6d8>"
      ]
     },
     "metadata": {},
     "output_type": "display_data"
    }
   ],
   "source": [
    "# Scatter Matrix tuning using medial level abstraction.\n",
    "fig = plt.figure(figsize = (8,8))\n",
    "ax1 = fig.add_subplot(2,2,1)\n",
    "ax2 = fig.add_subplot(2,2,2)\n",
    "ax3 = fig.add_subplot(2,2,3)\n",
    "ax4 = fig.add_subplot(2,2,4)\n",
    "ax1.hist(recent_grads[\"ShareWomen\"])\n",
    "ax2.scatter(recent_grads[\"Unemployment_rate\"], recent_grads[\"ShareWomen\"])\n",
    "ax3.scatter(recent_grads[\"ShareWomen\"], recent_grads[\"Unemployment_rate\"])\n",
    "ax4.hist(recent_grads[\"Unemployment_rate\"])\n",
    "#ax1.set_xlim(0,30)\n",
    "#ax2.set_xlim(0.0,1.0)\n",
    "ax3.set_xlim(0.0,1.0)\n",
    "ax3.set_ylim(0.0,0.20)\n",
    "ax4.set_xlim(0.0, 0.20)\n",
    "ax1.get_xaxis().set_visible(False)\n",
    "ax2.get_xaxis().set_visible(False)\n",
    "ax2.get_yaxis().set_visible(False)\n",
    "ax4.get_yaxis().set_visible(False)\n",
    "ax1.set_ylabel(\"ShareWomen\")\n",
    "ax3.set_xlabel(\"ShareWomen\")\n",
    "ax3.set_ylabel(\"Unemployment_rate\")\n",
    "ax4.set_xlabel(\"Unemployment_rate\")\n",
    "ax1.set_yticklabels([0,5,10,15,20,25,30])\n",
    "ax3.set_yticklabels([0.00,0.05,0.10,0.15])\n",
    "ax3.set_xticklabels([0.0,0.2,0.4,0.6,0.8], rotation=90)\n",
    "ax4.set_xticklabels([0.00,0.05,0.10,0.15,0.20], rotation=90)\n",
    "fig.subplots_adjust(hspace = 0, wspace = 0)\n",
    "plt.show()\n",
    "\n"
   ]
  },
  {
   "cell_type": "markdown",
   "metadata": {},
   "source": [
    "A scatter Matrix"
   ]
  },
  {
   "cell_type": "code",
   "execution_count": 24,
   "metadata": {
    "collapsed": false
   },
   "outputs": [
    {
     "data": {
      "image/png": "[encoded data removed]",
      "text/plain": [
       "<matplotlib.figure.Figure at 0x7f6e97359748>"
      ]
     },
     "metadata": {},
     "output_type": "display_data"
    }
   ],
   "source": [
    "# Grouped Bar Plot\n",
    "recent_grads[\"ShareMen\"] = recent_grads[\"Men\"]/recent_grads[\"Total\"]\n",
    "arts_majors = recent_grads[recent_grads[\"Major_category\"] == \"Arts\"]\n",
    "fig = plt.figure(figsize=(8,8))\n",
    "ax1 = fig.add_subplot(1,1,1)\n",
    "locs = np.arange(0,8)\n",
    "width = 0.35\n",
    "bar_1 = ax1.bar(left = locs, height = arts_majors[\"ShareMen\"].tolist(), width = width)\n",
    "ax1.set_xticklabels( arts_majors[\"Major\"].tolist(), rotation = 90)\n",
    "offset_locs = locs + width\n",
    "bar_2 = ax1.bar(left = offset_locs, height = arts_majors[\"ShareWomen\"].tolist(), width = width, color = \"green\")\n",
    "ax1.set_xticks(offset_locs)\n",
    "plt.legend((bar_1,bar_2),(\"ShareMen\",\"ShareWomen\"), loc = \"upper left\")\n",
    "plt.grid()\n",
    "\n",
    "\n",
    "\n"
   ]
  },
  {
   "cell_type": "code",
   "execution_count": 34,
   "metadata": {
    "collapsed": false
   },
   "outputs": [
    {
     "data": {
      "image/png": "[encoded data removed]",
      "text/plain": [
       "<matplotlib.figure.Figure at 0x7f6e2f2ddac8>"
      ]
     },
     "metadata": {},
     "output_type": "display_data"
    }
   ],
   "source": [
    "# A grouped histogram\n",
    "fig = plt.figure(figsize=(8,8))\n",
    "ax1 = fig.add_subplot(1,1,1)\n",
    "locs = np.arange(0,8)\n",
    "width = 0.35\n",
    "bar_1 = ax1.bar(left = locs, height = arts_majors[\"Men\"].tolist(), width = width)\n",
    "ax1.set_xticklabels( arts_majors[\"Major\"].tolist(), rotation = 90)\n",
    "offset_locs = locs + width\n",
    "bar_2 = ax1.bar(left = offset_locs, height = arts_majors[\"Women\"].tolist(), width = width, color = \"green\")\n",
    "ax1.set_xticks(offset_locs)\n",
    "plt.legend((bar_1,bar_2),(\"ShareMen\",\"ShareWomen\"), loc = \"upper left\")\n",
    "plt.title(\"Grouped Histogram\")\n",
    "plt.grid()\n"
   ]
  },
  {
   "cell_type": "code",
   "execution_count": null,
   "metadata": {
    "collapsed": true
   },
   "outputs": [],
   "source": []
  }
 ],
 "metadata": {
  "kernelspec": {
   "display_name": "Python 3",
   "language": "python",
   "name": "python3"
  },
  "language_info": {
   "codemirror_mode": {
    "name": "ipython",
    "version": 3
   },
   "file_extension": ".py",
   "mimetype": "text/x-python",
   "name": "python",
   "nbconvert_exporter": "python",
   "pygments_lexer": "ipython3",
   "version": "3.4.3"
  }
 },
 "nbformat": 4,
 "nbformat_minor": 0
}
