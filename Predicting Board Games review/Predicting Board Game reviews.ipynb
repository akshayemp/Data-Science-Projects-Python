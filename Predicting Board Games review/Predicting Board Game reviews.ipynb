{
 "cells": [
  {
   "cell_type": "markdown",
   "metadata": {},
   "source": [
    "# Predicting board game reviews"
   ]
  },
  {
   "cell_type": "code",
   "execution_count": 165,
   "metadata": {
    "collapsed": true
   },
   "outputs": [],
   "source": [
    "import pandas as pd\n",
    "import numpy as np\n",
    "import matplotlib.pyplot as plt\n",
    "from sklearn.cluster import KMeans\n",
    "%matplotlib inline\n",
    "\n",
    "# Reading the dataset\n",
    "\n",
    "board_games = pd.read_csv(\"board_games.csv\")"
   ]
  },
  {
   "cell_type": "code",
   "execution_count": 166,
   "metadata": {
    "collapsed": false
   },
   "outputs": [
    {
     "name": "stdout",
     "output_type": "stream",
     "text": [
      "(81312, 20)\n"
     ]
    },
    {
     "data": {
      "text/html": [
       "<div style=\"max-height:1000px;max-width:1500px;overflow:auto;\">\n",
       "<table border=\"1\" class=\"dataframe\">\n",
       "  <thead>\n",
       "    <tr style=\"text-align: right;\">\n",
       "      <th></th>\n",
       "      <th>id</th>\n",
       "      <th>type</th>\n",
       "      <th>name</th>\n",
       "      <th>yearpublished</th>\n",
       "      <th>minplayers</th>\n",
       "      <th>maxplayers</th>\n",
       "      <th>playingtime</th>\n",
       "      <th>minplaytime</th>\n",
       "      <th>maxplaytime</th>\n",
       "      <th>minage</th>\n",
       "      <th>users_rated</th>\n",
       "      <th>average_rating</th>\n",
       "      <th>bayes_average_rating</th>\n",
       "      <th>total_owners</th>\n",
       "      <th>total_traders</th>\n",
       "      <th>total_wanters</th>\n",
       "      <th>total_wishers</th>\n",
       "      <th>total_comments</th>\n",
       "      <th>total_weights</th>\n",
       "      <th>average_weight</th>\n",
       "    </tr>\n",
       "  </thead>\n",
       "  <tbody>\n",
       "    <tr>\n",
       "      <th>0</th>\n",
       "      <td>  12333</td>\n",
       "      <td> boardgame</td>\n",
       "      <td>                         Twilight Struggle</td>\n",
       "      <td> 2005</td>\n",
       "      <td> 2</td>\n",
       "      <td> 2</td>\n",
       "      <td> 180</td>\n",
       "      <td> 180</td>\n",
       "      <td> 180</td>\n",
       "      <td> 13</td>\n",
       "      <td> 20113</td>\n",
       "      <td> 8.33774</td>\n",
       "      <td> 8.22186</td>\n",
       "      <td> 26647</td>\n",
       "      <td> 372</td>\n",
       "      <td> 1219</td>\n",
       "      <td> 5865</td>\n",
       "      <td> 5347</td>\n",
       "      <td> 2562</td>\n",
       "      <td> 3.4785</td>\n",
       "    </tr>\n",
       "    <tr>\n",
       "      <th>1</th>\n",
       "      <td> 120677</td>\n",
       "      <td> boardgame</td>\n",
       "      <td>                             Terra Mystica</td>\n",
       "      <td> 2012</td>\n",
       "      <td> 2</td>\n",
       "      <td> 5</td>\n",
       "      <td> 150</td>\n",
       "      <td>  60</td>\n",
       "      <td> 150</td>\n",
       "      <td> 12</td>\n",
       "      <td> 14383</td>\n",
       "      <td> 8.28798</td>\n",
       "      <td> 8.14232</td>\n",
       "      <td> 16519</td>\n",
       "      <td> 132</td>\n",
       "      <td> 1586</td>\n",
       "      <td> 6277</td>\n",
       "      <td> 2526</td>\n",
       "      <td> 1423</td>\n",
       "      <td> 3.8939</td>\n",
       "    </tr>\n",
       "    <tr>\n",
       "      <th>2</th>\n",
       "      <td> 102794</td>\n",
       "      <td> boardgame</td>\n",
       "      <td>                 Caverna: The Cave Farmers</td>\n",
       "      <td> 2013</td>\n",
       "      <td> 1</td>\n",
       "      <td> 7</td>\n",
       "      <td> 210</td>\n",
       "      <td>  30</td>\n",
       "      <td> 210</td>\n",
       "      <td> 12</td>\n",
       "      <td>  9262</td>\n",
       "      <td> 8.28994</td>\n",
       "      <td> 8.06886</td>\n",
       "      <td> 12230</td>\n",
       "      <td>  99</td>\n",
       "      <td> 1476</td>\n",
       "      <td> 5600</td>\n",
       "      <td> 1700</td>\n",
       "      <td>  777</td>\n",
       "      <td> 3.7761</td>\n",
       "    </tr>\n",
       "    <tr>\n",
       "      <th>3</th>\n",
       "      <td>  25613</td>\n",
       "      <td> boardgame</td>\n",
       "      <td> Through the Ages: A Story of Civilization</td>\n",
       "      <td> 2006</td>\n",
       "      <td> 2</td>\n",
       "      <td> 4</td>\n",
       "      <td> 240</td>\n",
       "      <td> 240</td>\n",
       "      <td> 240</td>\n",
       "      <td> 12</td>\n",
       "      <td> 13294</td>\n",
       "      <td> 8.20407</td>\n",
       "      <td> 8.05804</td>\n",
       "      <td> 14343</td>\n",
       "      <td> 362</td>\n",
       "      <td> 1084</td>\n",
       "      <td> 5075</td>\n",
       "      <td> 3378</td>\n",
       "      <td> 1642</td>\n",
       "      <td> 4.1590</td>\n",
       "    </tr>\n",
       "    <tr>\n",
       "      <th>4</th>\n",
       "      <td>   3076</td>\n",
       "      <td> boardgame</td>\n",
       "      <td>                               Puerto Rico</td>\n",
       "      <td> 2002</td>\n",
       "      <td> 2</td>\n",
       "      <td> 5</td>\n",
       "      <td> 150</td>\n",
       "      <td>  90</td>\n",
       "      <td> 150</td>\n",
       "      <td> 12</td>\n",
       "      <td> 39883</td>\n",
       "      <td> 8.14261</td>\n",
       "      <td> 8.04524</td>\n",
       "      <td> 44362</td>\n",
       "      <td> 795</td>\n",
       "      <td>  861</td>\n",
       "      <td> 5414</td>\n",
       "      <td> 9173</td>\n",
       "      <td> 5213</td>\n",
       "      <td> 3.2943</td>\n",
       "    </tr>\n",
       "  </tbody>\n",
       "</table>\n",
       "</div>"
      ],
      "text/plain": [
       "       id       type                                       name  \\\n",
       "0   12333  boardgame                          Twilight Struggle   \n",
       "1  120677  boardgame                              Terra Mystica   \n",
       "2  102794  boardgame                  Caverna: The Cave Farmers   \n",
       "3   25613  boardgame  Through the Ages: A Story of Civilization   \n",
       "4    3076  boardgame                                Puerto Rico   \n",
       "\n",
       "   yearpublished  minplayers  maxplayers  playingtime  minplaytime  \\\n",
       "0           2005           2           2          180          180   \n",
       "1           2012           2           5          150           60   \n",
       "2           2013           1           7          210           30   \n",
       "3           2006           2           4          240          240   \n",
       "4           2002           2           5          150           90   \n",
       "\n",
       "   maxplaytime  minage  users_rated  average_rating  bayes_average_rating  \\\n",
       "0          180      13        20113         8.33774               8.22186   \n",
       "1          150      12        14383         8.28798               8.14232   \n",
       "2          210      12         9262         8.28994               8.06886   \n",
       "3          240      12        13294         8.20407               8.05804   \n",
       "4          150      12        39883         8.14261               8.04524   \n",
       "\n",
       "   total_owners  total_traders  total_wanters  total_wishers  total_comments  \\\n",
       "0         26647            372           1219           5865            5347   \n",
       "1         16519            132           1586           6277            2526   \n",
       "2         12230             99           1476           5600            1700   \n",
       "3         14343            362           1084           5075            3378   \n",
       "4         44362            795            861           5414            9173   \n",
       "\n",
       "   total_weights  average_weight  \n",
       "0           2562          3.4785  \n",
       "1           1423          3.8939  \n",
       "2            777          3.7761  \n",
       "3           1642          4.1590  \n",
       "4           5213          3.2943  "
      ]
     },
     "execution_count": 166,
     "metadata": {},
     "output_type": "execute_result"
    }
   ],
   "source": [
    "# Initial exploration\n",
    "print(board_games.shape)\n",
    "board_games.head()"
   ]
  },
  {
   "cell_type": "markdown",
   "metadata": {},
   "source": [
    "## Data Cleaning"
   ]
  },
  {
   "cell_type": "code",
   "execution_count": 167,
   "metadata": {
    "collapsed": true
   },
   "outputs": [],
   "source": [
    "board_games.dropna(axis = 1)\n",
    "board_games = board_games[board_games[\"users_rated\"] != 0]"
   ]
  },
  {
   "cell_type": "markdown",
   "metadata": {},
   "source": [
    "## Data exploration"
   ]
  },
  {
   "cell_type": "code",
   "execution_count": 168,
   "metadata": {
    "collapsed": false
   },
   "outputs": [
    {
     "data": {
      "text/plain": [
       "1.5785522573378215"
      ]
     },
     "execution_count": 168,
     "metadata": {},
     "output_type": "execute_result"
    },
    {
     "data": {
      "image/png": "[encoded data removed]",
      "text/plain": [
       "<matplotlib.figure.Figure at 0x7f6542974b38>"
      ]
     },
     "metadata": {},
     "output_type": "display_data"
    }
   ],
   "source": [
    "# Checking the distribution using histogram.\n",
    "\n",
    "board_games[\"average_rating\"].hist()\n",
    "\n",
    "# Standard deviation.\n",
    "\n",
    "board_games[\"average_rating\"].std()\n"
   ]
  },
  {
   "cell_type": "code",
   "execution_count": 169,
   "metadata": {
    "collapsed": false
   },
   "outputs": [
    {
     "data": {
      "text/plain": [
       "6.0159108485561728"
      ]
     },
     "execution_count": 169,
     "metadata": {},
     "output_type": "execute_result"
    }
   ],
   "source": [
    "# Calculating mean\n",
    "board_games[\"average_rating\"].mean()"
   ]
  },
  {
   "cell_type": "markdown",
   "metadata": {},
   "source": [
    "The distribution appears to more of normal distribution so Sum of square error is a much better choice for an error metric"
   ]
  },
  {
   "cell_type": "markdown",
   "metadata": {},
   "source": [
    "## Plotting clusters"
   ]
  },
  {
   "cell_type": "code",
   "execution_count": 170,
   "metadata": {
    "collapsed": false
   },
   "outputs": [],
   "source": [
    "numeric_data = board_games._get_numeric_data()\n",
    "clean_data = numeric_data.drop(\"id\", axis = 1)\n",
    "clean_data = clean_data.dropna()\n",
    "clean_data.head()\n",
    "board_games_numeric = clean_data\n",
    "km = KMeans(n_clusters = 5, random_state = 1)\n",
    "km.fit(board_games_numeric)\n",
    "labels = km.labels_\n",
    "game_mean = board_games_numeric.apply(axis = 1, func = np.mean)\n",
    "game_std = board_games_numeric.apply(axis = 1, func = np.std)"
   ]
  },
  {
   "cell_type": "code",
   "execution_count": 171,
   "metadata": {
    "collapsed": false
   },
   "outputs": [
    {
     "data": {
      "image/png": "[encoded data removed]",
      "text/plain": [
       "<matplotlib.figure.Figure at 0x7f65428c16a0>"
      ]
     },
     "metadata": {},
     "output_type": "display_data"
    }
   ],
   "source": [
    "plt.scatter(x = game_mean, y = game_std, c = labels)\n",
    "plt.show()"
   ]
  },
  {
   "cell_type": "markdown",
   "metadata": {
    "collapsed": true
   },
   "source": [
    "## Finding correlations"
   ]
  },
  {
   "cell_type": "code",
   "execution_count": 172,
   "metadata": {
    "collapsed": false
   },
   "outputs": [],
   "source": [
    "correlations = board_games_numeric.corr(method = \"pearson\")"
   ]
  },
  {
   "cell_type": "code",
   "execution_count": 173,
   "metadata": {
    "collapsed": false
   },
   "outputs": [
    {
     "data": {
      "text/plain": [
       "yearpublished           0.108396\n",
       "minplayers             -0.032841\n",
       "maxplayers             -0.008338\n",
       "playingtime             0.048987\n",
       "minplaytime             0.043978\n",
       "maxplaytime             0.048987\n",
       "minage                  0.209900\n",
       "users_rated             0.112570\n",
       "average_rating          1.000000\n",
       "bayes_average_rating    0.231579\n",
       "total_owners            0.137485\n",
       "total_traders           0.119472\n",
       "total_wanters           0.196567\n",
       "total_wishers           0.171377\n",
       "total_comments          0.123723\n",
       "total_weights           0.109697\n",
       "average_weight          0.351053\n",
       "Name: average_rating, dtype: float64"
      ]
     },
     "execution_count": 173,
     "metadata": {},
     "output_type": "execute_result"
    }
   ],
   "source": [
    "correlations[\"average_rating\"]"
   ]
  },
  {
   "cell_type": "markdown",
   "metadata": {},
   "source": [
    "That's intereseting average weight is most positively correlated to the average rating. There is no clear thoughts on bayes_average_rating and appears to same form of ratings. If it is than this would cause the model to overfit."
   ]
  },
  {
   "cell_type": "markdown",
   "metadata": {},
   "source": [
    "### Droping the table columns that are irrelevant."
   ]
  },
  {
   "cell_type": "code",
   "execution_count": 174,
   "metadata": {
    "collapsed": false
   },
   "outputs": [],
   "source": [
    "fe_board_games = board_games_numeric.drop([\"minplayers\",\"playingtime\",\"minplaytime\",\"maxplaytime\",\"bayes_average_rating\"], axis = 1)"
   ]
  },
  {
   "cell_type": "code",
   "execution_count": 175,
   "metadata": {
    "collapsed": false
   },
   "outputs": [
    {
     "data": {
      "text/plain": [
       "Index(['yearpublished', 'maxplayers', 'minage', 'users_rated', 'average_rating', 'total_owners', 'total_traders', 'total_wanters', 'total_wishers', 'total_comments', 'total_weights', 'average_weight'], dtype='object')"
      ]
     },
     "execution_count": 175,
     "metadata": {},
     "output_type": "execute_result"
    }
   ],
   "source": [
    "fe_board_games.shape\n",
    "fe_board_games.columns"
   ]
  },
  {
   "cell_type": "markdown",
   "metadata": {},
   "source": [
    "## Model creation"
   ]
  },
  {
   "cell_type": "code",
   "execution_count": 176,
   "metadata": {
    "collapsed": false
   },
   "outputs": [
    {
     "data": {
      "text/plain": [
       "2.0963933803300936"
      ]
     },
     "execution_count": 176,
     "metadata": {},
     "output_type": "execute_result"
    }
   ],
   "source": [
    "from sklearn.linear_model import LinearRegression\n",
    "\n",
    "linear_model = LinearRegression()\n",
    "cols = list(fe_board_games.columns)\n",
    "cols.remove(\"average_rating\")\n",
    "linear_model.fit(fe_board_games[cols],fe_board_games[\"average_rating\"])\n",
    "predicted_ratings = linear_model.predict(fe_board_games[cols])\n",
    "\n",
    "# Error\n",
    "np.mean((predicted_ratings - fe_board_games[\"average_rating\"]) ** 2)"
   ]
  },
  {
   "cell_type": "markdown",
   "metadata": {},
   "source": [
    "The mean squared error is very large and hence this is not a good predictor. "
   ]
  },
  {
   "cell_type": "code",
   "execution_count": 177,
   "metadata": {
    "collapsed": false
   },
   "outputs": [],
   "source": [
    "## Using cross validation\n",
    "\n",
    "shuffler = np.random.permutation(fe_board_games.index)\n",
    "shuffler_board_games = fe_board_games.loc[shuffler]\n",
    "split_percent = int(0.8 * shuffler_board_games.shape[0])\n",
    "\n",
    "train = shuffler_board_games.iloc[0:split_percent]\n",
    "test = shuffler_board_games.iloc[split_percent: len(shuffler_board_games)]"
   ]
  },
  {
   "cell_type": "code",
   "execution_count": 178,
   "metadata": {
    "collapsed": true
   },
   "outputs": [],
   "source": [
    "cv_linear_model = LinearRegression()\n",
    "cv_linear_model.fit(train[cols], train[\"average_rating\"])\n",
    "predicted_rating = cv_linear_model.predict(test[cols])"
   ]
  },
  {
   "cell_type": "code",
   "execution_count": 179,
   "metadata": {
    "collapsed": false
   },
   "outputs": [
    {
     "data": {
      "text/plain": [
       "2.1534524770861498"
      ]
     },
     "execution_count": 179,
     "metadata": {},
     "output_type": "execute_result"
    }
   ],
   "source": [
    "np.mean((predicted_rating - test[\"average_rating\"]) ** 2)"
   ]
  },
  {
   "cell_type": "markdown",
   "metadata": {},
   "source": [
    "Even after cross validation the squared error is very large and hence this confirms that the predictions are not perfect and hence we need to have good predictors."
   ]
  },
  {
   "cell_type": "code",
   "execution_count": null,
   "metadata": {
    "collapsed": true
   },
   "outputs": [],
   "source": []
  }
 ],
 "metadata": {
  "kernelspec": {
   "display_name": "Python 3",
   "language": "python",
   "name": "python3"
  },
  "language_info": {
   "codemirror_mode": {
    "name": "ipython",
    "version": 3
   },
   "file_extension": ".py",
   "mimetype": "text/x-python",
   "name": "python",
   "nbconvert_exporter": "python",
   "pygments_lexer": "ipython3",
   "version": "3.4.3"
  }
 },
 "nbformat": 4,
 "nbformat_minor": 0
}
