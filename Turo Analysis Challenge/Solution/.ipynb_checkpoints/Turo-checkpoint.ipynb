{
 "cells": [
  {
   "cell_type": "code",
   "execution_count": 318,
   "metadata": {
    "collapsed": true
   },
   "outputs": [],
   "source": [
    "import pandas as pd\n",
    "import numpy as np\n",
    "import matplotlib.pyplot as plt\n",
    "#%matplotlib inline"
   ]
  },
  {
   "cell_type": "code",
   "execution_count": 319,
   "metadata": {
    "collapsed": false
   },
   "outputs": [
    {
     "name": "stdout",
     "output_type": "stream",
     "text": [
      "Dimensions of vehicles dataset:  (1000, 7)\n",
      "Dimensions of reservations dataset:  (6376, 2)\n"
     ]
    }
   ],
   "source": [
    "# Loading data\n",
    "\n",
    "reservations = pd.read_csv(\"../Data/reservations_(5).csv\")\n",
    "vehicles = pd.read_csv(\"../Data/vehicles_(6).csv\")\n",
    "print(\"Dimensions of vehicles dataset: \",vehicles.shape)\n",
    "print(\"Dimensions of reservations dataset: \",reservations.shape)"
   ]
  },
  {
   "cell_type": "code",
   "execution_count": 320,
   "metadata": {
    "collapsed": false
   },
   "outputs": [
    {
     "data": {
      "text/html": [
       "<div>\n",
       "<table border=\"1\" class=\"dataframe\">\n",
       "  <thead>\n",
       "    <tr style=\"text-align: right;\">\n",
       "      <th></th>\n",
       "      <th>vehicle_id</th>\n",
       "      <th>technology</th>\n",
       "      <th>actual_price</th>\n",
       "      <th>recommended_price</th>\n",
       "      <th>num_images</th>\n",
       "      <th>street_parked</th>\n",
       "      <th>description</th>\n",
       "    </tr>\n",
       "  </thead>\n",
       "  <tbody>\n",
       "    <tr>\n",
       "      <th>0</th>\n",
       "      <td>1</td>\n",
       "      <td>1</td>\n",
       "      <td>67.85</td>\n",
       "      <td>59</td>\n",
       "      <td>5</td>\n",
       "      <td>0</td>\n",
       "      <td>7</td>\n",
       "    </tr>\n",
       "    <tr>\n",
       "      <th>1</th>\n",
       "      <td>2</td>\n",
       "      <td>0</td>\n",
       "      <td>100.70</td>\n",
       "      <td>53</td>\n",
       "      <td>5</td>\n",
       "      <td>0</td>\n",
       "      <td>224</td>\n",
       "    </tr>\n",
       "    <tr>\n",
       "      <th>2</th>\n",
       "      <td>3</td>\n",
       "      <td>0</td>\n",
       "      <td>74.00</td>\n",
       "      <td>74</td>\n",
       "      <td>4</td>\n",
       "      <td>1</td>\n",
       "      <td>21</td>\n",
       "    </tr>\n",
       "    <tr>\n",
       "      <th>3</th>\n",
       "      <td>4</td>\n",
       "      <td>0</td>\n",
       "      <td>135.00</td>\n",
       "      <td>75</td>\n",
       "      <td>1</td>\n",
       "      <td>0</td>\n",
       "      <td>184</td>\n",
       "    </tr>\n",
       "    <tr>\n",
       "      <th>4</th>\n",
       "      <td>5</td>\n",
       "      <td>0</td>\n",
       "      <td>59.36</td>\n",
       "      <td>53</td>\n",
       "      <td>2</td>\n",
       "      <td>1</td>\n",
       "      <td>31</td>\n",
       "    </tr>\n",
       "  </tbody>\n",
       "</table>\n",
       "</div>"
      ],
      "text/plain": [
       "   vehicle_id  technology  actual_price  recommended_price  num_images  \\\n",
       "0           1           1         67.85                 59           5   \n",
       "1           2           0        100.70                 53           5   \n",
       "2           3           0         74.00                 74           4   \n",
       "3           4           0        135.00                 75           1   \n",
       "4           5           0         59.36                 53           2   \n",
       "\n",
       "   street_parked  description  \n",
       "0              0            7  \n",
       "1              0          224  \n",
       "2              1           21  \n",
       "3              0          184  \n",
       "4              1           31  "
      ]
     },
     "execution_count": 320,
     "metadata": {},
     "output_type": "execute_result"
    }
   ],
   "source": [
    "vehicles.head()"
   ]
  },
  {
   "cell_type": "code",
   "execution_count": 321,
   "metadata": {
    "collapsed": false,
    "scrolled": true
   },
   "outputs": [
    {
     "data": {
      "text/html": [
       "<div>\n",
       "<table border=\"1\" class=\"dataframe\">\n",
       "  <thead>\n",
       "    <tr style=\"text-align: right;\">\n",
       "      <th></th>\n",
       "      <th>vehicle_id</th>\n",
       "      <th>reservation_type</th>\n",
       "    </tr>\n",
       "  </thead>\n",
       "  <tbody>\n",
       "    <tr>\n",
       "      <th>0</th>\n",
       "      <td>208</td>\n",
       "      <td>1</td>\n",
       "    </tr>\n",
       "    <tr>\n",
       "      <th>1</th>\n",
       "      <td>601</td>\n",
       "      <td>3</td>\n",
       "    </tr>\n",
       "    <tr>\n",
       "      <th>2</th>\n",
       "      <td>993</td>\n",
       "      <td>1</td>\n",
       "    </tr>\n",
       "    <tr>\n",
       "      <th>3</th>\n",
       "      <td>423</td>\n",
       "      <td>2</td>\n",
       "    </tr>\n",
       "    <tr>\n",
       "      <th>4</th>\n",
       "      <td>685</td>\n",
       "      <td>3</td>\n",
       "    </tr>\n",
       "  </tbody>\n",
       "</table>\n",
       "</div>"
      ],
      "text/plain": [
       "   vehicle_id  reservation_type\n",
       "0         208                 1\n",
       "1         601                 3\n",
       "2         993                 1\n",
       "3         423                 2\n",
       "4         685                 3"
      ]
     },
     "execution_count": 321,
     "metadata": {},
     "output_type": "execute_result"
    }
   ],
   "source": [
    "reservations.head()"
   ]
  },
  {
   "cell_type": "code",
   "execution_count": 322,
   "metadata": {
    "collapsed": false
   },
   "outputs": [
    {
     "name": "stdout",
     "output_type": "stream",
     "text": [
      "<class 'pandas.core.frame.DataFrame'>\n",
      "RangeIndex: 6376 entries, 0 to 6375\n",
      "Data columns (total 2 columns):\n",
      "vehicle_id          6376 non-null int64\n",
      "reservation_type    6376 non-null int64\n",
      "dtypes: int64(2)\n",
      "memory usage: 99.7 KB\n"
     ]
    }
   ],
   "source": [
    "reservations.info()"
   ]
  },
  {
   "cell_type": "code",
   "execution_count": 323,
   "metadata": {
    "collapsed": false
   },
   "outputs": [
    {
     "name": "stdout",
     "output_type": "stream",
     "text": [
      "<class 'pandas.core.frame.DataFrame'>\n",
      "RangeIndex: 1000 entries, 0 to 999\n",
      "Data columns (total 7 columns):\n",
      "vehicle_id           1000 non-null int64\n",
      "technology           1000 non-null int64\n",
      "actual_price         1000 non-null float64\n",
      "recommended_price    1000 non-null int64\n",
      "num_images           1000 non-null int64\n",
      "street_parked        1000 non-null int64\n",
      "description          1000 non-null int64\n",
      "dtypes: float64(1), int64(6)\n",
      "memory usage: 54.8 KB\n"
     ]
    }
   ],
   "source": [
    "vehicles.info()"
   ]
  },
  {
   "cell_type": "code",
   "execution_count": 324,
   "metadata": {
    "collapsed": false
   },
   "outputs": [
    {
     "data": {
      "text/plain": [
       "False"
      ]
     },
     "execution_count": 324,
     "metadata": {},
     "output_type": "execute_result"
    }
   ],
   "source": [
    "len(reservations[\"vehicle_id\"].unique()) == len(vehicles[\"vehicle_id\"].unique()) "
   ]
  },
  {
   "cell_type": "code",
   "execution_count": 325,
   "metadata": {
    "collapsed": false
   },
   "outputs": [
    {
     "data": {
      "text/plain": [
       "array([1, 3, 2])"
      ]
     },
     "execution_count": 325,
     "metadata": {},
     "output_type": "execute_result"
    }
   ],
   "source": [
    "reservations[\"reservation_type\"].unique()"
   ]
  },
  {
   "cell_type": "code",
   "execution_count": 326,
   "metadata": {
    "collapsed": false
   },
   "outputs": [
    {
     "name": "stdout",
     "output_type": "stream",
     "text": [
      "Number of unique Reservations: 911\n",
      "Total Number of reservations: 6376\n"
     ]
    }
   ],
   "source": [
    "from collections import Counter\n",
    "print(\"Number of unique Reservations:\",len(reservations[\"vehicle_id\"].unique()))\n",
    "print(\"Total Number of reservations:\",reservations.shape[0])"
   ]
  },
  {
   "cell_type": "markdown",
   "metadata": {},
   "source": [
    "This shows that there are multiple reservations for a single vehicle type."
   ]
  },
  {
   "cell_type": "code",
   "execution_count": 327,
   "metadata": {
    "collapsed": false
   },
   "outputs": [
    {
     "name": "stdout",
     "output_type": "stream",
     "text": [
      "Are all rows unique in vehicle dataset? :  True\n",
      "Never have I ever booked these vehicles: {7, 523, 13, 528, 537, 538, 33, 45, 560, 579, 580, 587, 590, 597, 86, 101, 104, 112, 635, 644, 654, 143, 672, 161, 168, 170, 682, 683, 706, 198, 209, 214, 738, 239, 241, 755, 758, 760, 761, 765, 255, 771, 783, 272, 785, 793, 803, 815, 819, 309, 823, 322, 329, 334, 337, 342, 856, 346, 859, 868, 357, 361, 875, 879, 373, 886, 895, 902, 903, 905, 911, 400, 925, 944, 945, 438, 955, 444, 452, 454, 969, 972, 461, 973, 974, 992, 487, 488, 502}\n"
     ]
    }
   ],
   "source": [
    "print(\"Are all rows unique in vehicle dataset? : \",len(vehicles[\"vehicle_id\"]) == len(vehicles[\"vehicle_id\"].unique()))\n",
    "vehicles_not_reserved_ever = set(vehicles[\"vehicle_id\"].unique()) - set(reservations[\"vehicle_id\"].unique())\n",
    "print(\"Never have I ever booked these vehicles:\",vehicles_not_reserved_ever)"
   ]
  },
  {
   "cell_type": "code",
   "execution_count": 328,
   "metadata": {
    "collapsed": false
   },
   "outputs": [
    {
     "data": {
      "text/plain": [
       "89"
      ]
     },
     "execution_count": 328,
     "metadata": {},
     "output_type": "execute_result"
    }
   ],
   "source": [
    "len(vehicles_not_reserved_ever)"
   ]
  },
  {
   "cell_type": "markdown",
   "metadata": {},
   "source": [
    "Out of 1000 vehicles 89 were never booked."
   ]
  },
  {
   "cell_type": "code",
   "execution_count": 329,
   "metadata": {
    "collapsed": false
   },
   "outputs": [
    {
     "data": {
      "text/html": [
       "<div>\n",
       "<table border=\"1\" class=\"dataframe\">\n",
       "  <thead>\n",
       "    <tr style=\"text-align: right;\">\n",
       "      <th></th>\n",
       "      <th>total_reservations</th>\n",
       "      <th>vehicle_id</th>\n",
       "    </tr>\n",
       "  </thead>\n",
       "  <tbody>\n",
       "    <tr>\n",
       "      <th>0</th>\n",
       "      <td>1</td>\n",
       "      <td>1</td>\n",
       "    </tr>\n",
       "    <tr>\n",
       "      <th>1</th>\n",
       "      <td>7</td>\n",
       "      <td>2</td>\n",
       "    </tr>\n",
       "    <tr>\n",
       "      <th>2</th>\n",
       "      <td>17</td>\n",
       "      <td>3</td>\n",
       "    </tr>\n",
       "    <tr>\n",
       "      <th>3</th>\n",
       "      <td>2</td>\n",
       "      <td>4</td>\n",
       "    </tr>\n",
       "    <tr>\n",
       "      <th>4</th>\n",
       "      <td>2</td>\n",
       "      <td>5</td>\n",
       "    </tr>\n",
       "    <tr>\n",
       "      <th>5</th>\n",
       "      <td>13</td>\n",
       "      <td>6</td>\n",
       "    </tr>\n",
       "    <tr>\n",
       "      <th>6</th>\n",
       "      <td>8</td>\n",
       "      <td>8</td>\n",
       "    </tr>\n",
       "    <tr>\n",
       "      <th>7</th>\n",
       "      <td>11</td>\n",
       "      <td>9</td>\n",
       "    </tr>\n",
       "    <tr>\n",
       "      <th>8</th>\n",
       "      <td>9</td>\n",
       "      <td>10</td>\n",
       "    </tr>\n",
       "    <tr>\n",
       "      <th>9</th>\n",
       "      <td>4</td>\n",
       "      <td>11</td>\n",
       "    </tr>\n",
       "    <tr>\n",
       "      <th>10</th>\n",
       "      <td>4</td>\n",
       "      <td>12</td>\n",
       "    </tr>\n",
       "    <tr>\n",
       "      <th>11</th>\n",
       "      <td>3</td>\n",
       "      <td>14</td>\n",
       "    </tr>\n",
       "    <tr>\n",
       "      <th>12</th>\n",
       "      <td>5</td>\n",
       "      <td>15</td>\n",
       "    </tr>\n",
       "    <tr>\n",
       "      <th>13</th>\n",
       "      <td>2</td>\n",
       "      <td>16</td>\n",
       "    </tr>\n",
       "    <tr>\n",
       "      <th>14</th>\n",
       "      <td>5</td>\n",
       "      <td>17</td>\n",
       "    </tr>\n",
       "    <tr>\n",
       "      <th>15</th>\n",
       "      <td>7</td>\n",
       "      <td>18</td>\n",
       "    </tr>\n",
       "    <tr>\n",
       "      <th>16</th>\n",
       "      <td>3</td>\n",
       "      <td>19</td>\n",
       "    </tr>\n",
       "    <tr>\n",
       "      <th>17</th>\n",
       "      <td>12</td>\n",
       "      <td>20</td>\n",
       "    </tr>\n",
       "    <tr>\n",
       "      <th>18</th>\n",
       "      <td>9</td>\n",
       "      <td>21</td>\n",
       "    </tr>\n",
       "    <tr>\n",
       "      <th>19</th>\n",
       "      <td>13</td>\n",
       "      <td>22</td>\n",
       "    </tr>\n",
       "  </tbody>\n",
       "</table>\n",
       "</div>"
      ],
      "text/plain": [
       "    total_reservations  vehicle_id\n",
       "0                    1           1\n",
       "1                    7           2\n",
       "2                   17           3\n",
       "3                    2           4\n",
       "4                    2           5\n",
       "5                   13           6\n",
       "6                    8           8\n",
       "7                   11           9\n",
       "8                    9          10\n",
       "9                    4          11\n",
       "10                   4          12\n",
       "11                   3          14\n",
       "12                   5          15\n",
       "13                   2          16\n",
       "14                   5          17\n",
       "15                   7          18\n",
       "16                   3          19\n",
       "17                  12          20\n",
       "18                   9          21\n",
       "19                  13          22"
      ]
     },
     "execution_count": 329,
     "metadata": {},
     "output_type": "execute_result"
    }
   ],
   "source": [
    "# Creating a new dataset for total reservations.\n",
    "total_reservations_per_vehicle = Counter(reservations[\"vehicle_id\"])\n",
    "total_reservation_dataframe = pd.DataFrame({\"vehicle_id\":list(total_reservations_per_vehicle.keys()),\n",
    "                                            \"total_reservations\":list(total_reservations_per_vehicle.values())})\n",
    "total_reservation_dataframe.head(20)"
   ]
  },
  {
   "cell_type": "code",
   "execution_count": 330,
   "metadata": {
    "collapsed": false
   },
   "outputs": [
    {
     "name": "stdout",
     "output_type": "stream",
     "text": [
      "(1000, 8)\n"
     ]
    },
    {
     "data": {
      "text/html": [
       "<div>\n",
       "<table border=\"1\" class=\"dataframe\">\n",
       "  <thead>\n",
       "    <tr style=\"text-align: right;\">\n",
       "      <th></th>\n",
       "      <th>vehicle_id</th>\n",
       "      <th>technology</th>\n",
       "      <th>actual_price</th>\n",
       "      <th>recommended_price</th>\n",
       "      <th>num_images</th>\n",
       "      <th>street_parked</th>\n",
       "      <th>description</th>\n",
       "      <th>total_reservations</th>\n",
       "    </tr>\n",
       "  </thead>\n",
       "  <tbody>\n",
       "    <tr>\n",
       "      <th>0</th>\n",
       "      <td>1</td>\n",
       "      <td>1</td>\n",
       "      <td>67.85</td>\n",
       "      <td>59</td>\n",
       "      <td>5</td>\n",
       "      <td>0</td>\n",
       "      <td>7</td>\n",
       "      <td>1.0</td>\n",
       "    </tr>\n",
       "    <tr>\n",
       "      <th>1</th>\n",
       "      <td>2</td>\n",
       "      <td>0</td>\n",
       "      <td>100.70</td>\n",
       "      <td>53</td>\n",
       "      <td>5</td>\n",
       "      <td>0</td>\n",
       "      <td>224</td>\n",
       "      <td>7.0</td>\n",
       "    </tr>\n",
       "    <tr>\n",
       "      <th>2</th>\n",
       "      <td>3</td>\n",
       "      <td>0</td>\n",
       "      <td>74.00</td>\n",
       "      <td>74</td>\n",
       "      <td>4</td>\n",
       "      <td>1</td>\n",
       "      <td>21</td>\n",
       "      <td>17.0</td>\n",
       "    </tr>\n",
       "    <tr>\n",
       "      <th>3</th>\n",
       "      <td>4</td>\n",
       "      <td>0</td>\n",
       "      <td>135.00</td>\n",
       "      <td>75</td>\n",
       "      <td>1</td>\n",
       "      <td>0</td>\n",
       "      <td>184</td>\n",
       "      <td>2.0</td>\n",
       "    </tr>\n",
       "    <tr>\n",
       "      <th>4</th>\n",
       "      <td>5</td>\n",
       "      <td>0</td>\n",
       "      <td>59.36</td>\n",
       "      <td>53</td>\n",
       "      <td>2</td>\n",
       "      <td>1</td>\n",
       "      <td>31</td>\n",
       "      <td>2.0</td>\n",
       "    </tr>\n",
       "    <tr>\n",
       "      <th>5</th>\n",
       "      <td>6</td>\n",
       "      <td>0</td>\n",
       "      <td>82.15</td>\n",
       "      <td>53</td>\n",
       "      <td>5</td>\n",
       "      <td>1</td>\n",
       "      <td>44</td>\n",
       "      <td>13.0</td>\n",
       "    </tr>\n",
       "    <tr>\n",
       "      <th>6</th>\n",
       "      <td>7</td>\n",
       "      <td>0</td>\n",
       "      <td>165.17</td>\n",
       "      <td>83</td>\n",
       "      <td>3</td>\n",
       "      <td>0</td>\n",
       "      <td>32</td>\n",
       "      <td>0.0</td>\n",
       "    </tr>\n",
       "    <tr>\n",
       "      <th>7</th>\n",
       "      <td>8</td>\n",
       "      <td>0</td>\n",
       "      <td>98.56</td>\n",
       "      <td>88</td>\n",
       "      <td>5</td>\n",
       "      <td>1</td>\n",
       "      <td>174</td>\n",
       "      <td>8.0</td>\n",
       "    </tr>\n",
       "    <tr>\n",
       "      <th>8</th>\n",
       "      <td>9</td>\n",
       "      <td>1</td>\n",
       "      <td>69.96</td>\n",
       "      <td>44</td>\n",
       "      <td>4</td>\n",
       "      <td>1</td>\n",
       "      <td>32</td>\n",
       "      <td>11.0</td>\n",
       "    </tr>\n",
       "    <tr>\n",
       "      <th>9</th>\n",
       "      <td>10</td>\n",
       "      <td>0</td>\n",
       "      <td>98.04</td>\n",
       "      <td>76</td>\n",
       "      <td>4</td>\n",
       "      <td>1</td>\n",
       "      <td>204</td>\n",
       "      <td>9.0</td>\n",
       "    </tr>\n",
       "    <tr>\n",
       "      <th>10</th>\n",
       "      <td>11</td>\n",
       "      <td>0</td>\n",
       "      <td>123.08</td>\n",
       "      <td>68</td>\n",
       "      <td>2</td>\n",
       "      <td>0</td>\n",
       "      <td>46</td>\n",
       "      <td>4.0</td>\n",
       "    </tr>\n",
       "    <tr>\n",
       "      <th>11</th>\n",
       "      <td>12</td>\n",
       "      <td>0</td>\n",
       "      <td>128.00</td>\n",
       "      <td>64</td>\n",
       "      <td>2</td>\n",
       "      <td>1</td>\n",
       "      <td>227</td>\n",
       "      <td>4.0</td>\n",
       "    </tr>\n",
       "    <tr>\n",
       "      <th>12</th>\n",
       "      <td>13</td>\n",
       "      <td>0</td>\n",
       "      <td>109.80</td>\n",
       "      <td>60</td>\n",
       "      <td>1</td>\n",
       "      <td>0</td>\n",
       "      <td>40</td>\n",
       "      <td>0.0</td>\n",
       "    </tr>\n",
       "    <tr>\n",
       "      <th>13</th>\n",
       "      <td>14</td>\n",
       "      <td>0</td>\n",
       "      <td>104.50</td>\n",
       "      <td>55</td>\n",
       "      <td>1</td>\n",
       "      <td>1</td>\n",
       "      <td>213</td>\n",
       "      <td>3.0</td>\n",
       "    </tr>\n",
       "    <tr>\n",
       "      <th>14</th>\n",
       "      <td>15</td>\n",
       "      <td>0</td>\n",
       "      <td>142.56</td>\n",
       "      <td>81</td>\n",
       "      <td>3</td>\n",
       "      <td>0</td>\n",
       "      <td>36</td>\n",
       "      <td>5.0</td>\n",
       "    </tr>\n",
       "    <tr>\n",
       "      <th>15</th>\n",
       "      <td>16</td>\n",
       "      <td>0</td>\n",
       "      <td>55.66</td>\n",
       "      <td>46</td>\n",
       "      <td>2</td>\n",
       "      <td>0</td>\n",
       "      <td>204</td>\n",
       "      <td>2.0</td>\n",
       "    </tr>\n",
       "    <tr>\n",
       "      <th>16</th>\n",
       "      <td>17</td>\n",
       "      <td>0</td>\n",
       "      <td>43.46</td>\n",
       "      <td>53</td>\n",
       "      <td>5</td>\n",
       "      <td>1</td>\n",
       "      <td>132</td>\n",
       "      <td>5.0</td>\n",
       "    </tr>\n",
       "    <tr>\n",
       "      <th>17</th>\n",
       "      <td>18</td>\n",
       "      <td>0</td>\n",
       "      <td>82.08</td>\n",
       "      <td>54</td>\n",
       "      <td>5</td>\n",
       "      <td>0</td>\n",
       "      <td>244</td>\n",
       "      <td>7.0</td>\n",
       "    </tr>\n",
       "    <tr>\n",
       "      <th>18</th>\n",
       "      <td>19</td>\n",
       "      <td>0</td>\n",
       "      <td>109.98</td>\n",
       "      <td>78</td>\n",
       "      <td>2</td>\n",
       "      <td>0</td>\n",
       "      <td>156</td>\n",
       "      <td>3.0</td>\n",
       "    </tr>\n",
       "    <tr>\n",
       "      <th>19</th>\n",
       "      <td>20</td>\n",
       "      <td>0</td>\n",
       "      <td>99.40</td>\n",
       "      <td>71</td>\n",
       "      <td>3</td>\n",
       "      <td>0</td>\n",
       "      <td>12</td>\n",
       "      <td>12.0</td>\n",
       "    </tr>\n",
       "  </tbody>\n",
       "</table>\n",
       "</div>"
      ],
      "text/plain": [
       "    vehicle_id  technology  actual_price  recommended_price  num_images  \\\n",
       "0            1           1         67.85                 59           5   \n",
       "1            2           0        100.70                 53           5   \n",
       "2            3           0         74.00                 74           4   \n",
       "3            4           0        135.00                 75           1   \n",
       "4            5           0         59.36                 53           2   \n",
       "5            6           0         82.15                 53           5   \n",
       "6            7           0        165.17                 83           3   \n",
       "7            8           0         98.56                 88           5   \n",
       "8            9           1         69.96                 44           4   \n",
       "9           10           0         98.04                 76           4   \n",
       "10          11           0        123.08                 68           2   \n",
       "11          12           0        128.00                 64           2   \n",
       "12          13           0        109.80                 60           1   \n",
       "13          14           0        104.50                 55           1   \n",
       "14          15           0        142.56                 81           3   \n",
       "15          16           0         55.66                 46           2   \n",
       "16          17           0         43.46                 53           5   \n",
       "17          18           0         82.08                 54           5   \n",
       "18          19           0        109.98                 78           2   \n",
       "19          20           0         99.40                 71           3   \n",
       "\n",
       "    street_parked  description  total_reservations  \n",
       "0               0            7                 1.0  \n",
       "1               0          224                 7.0  \n",
       "2               1           21                17.0  \n",
       "3               0          184                 2.0  \n",
       "4               1           31                 2.0  \n",
       "5               1           44                13.0  \n",
       "6               0           32                 0.0  \n",
       "7               1          174                 8.0  \n",
       "8               1           32                11.0  \n",
       "9               1          204                 9.0  \n",
       "10              0           46                 4.0  \n",
       "11              1          227                 4.0  \n",
       "12              0           40                 0.0  \n",
       "13              1          213                 3.0  \n",
       "14              0           36                 5.0  \n",
       "15              0          204                 2.0  \n",
       "16              1          132                 5.0  \n",
       "17              0          244                 7.0  \n",
       "18              0          156                 3.0  \n",
       "19              0           12                12.0  "
      ]
     },
     "execution_count": 330,
     "metadata": {},
     "output_type": "execute_result"
    }
   ],
   "source": [
    "# Join the tables.\n",
    "new_vehicles = pd.merge(vehicles,total_reservation_dataframe,how=\"left\",on=\"vehicle_id\")\n",
    "\n",
    "# Impute the values.\n",
    "new_vehicles = new_vehicles.fillna(0)\n",
    "print(new_vehicles.shape)\n",
    "new_vehicles.head(20)\n"
   ]
  },
  {
   "cell_type": "code",
   "execution_count": 331,
   "metadata": {
    "collapsed": false
   },
   "outputs": [
    {
     "name": "stdout",
     "output_type": "stream",
     "text": [
      "<class 'pandas.core.frame.DataFrame'>\n",
      "Int64Index: 1000 entries, 0 to 999\n",
      "Data columns (total 8 columns):\n",
      "vehicle_id            1000 non-null int64\n",
      "technology            1000 non-null int64\n",
      "actual_price          1000 non-null float64\n",
      "recommended_price     1000 non-null int64\n",
      "num_images            1000 non-null int64\n",
      "street_parked         1000 non-null int64\n",
      "description           1000 non-null int64\n",
      "total_reservations    1000 non-null float64\n",
      "dtypes: float64(2), int64(6)\n",
      "memory usage: 70.3 KB\n"
     ]
    }
   ],
   "source": [
    "new_vehicles.shape\n",
    "new_vehicles.info()"
   ]
  },
  {
   "cell_type": "code",
   "execution_count": 332,
   "metadata": {
    "collapsed": false
   },
   "outputs": [
    {
     "data": {
      "text/plain": [
       "(1000, 6)"
      ]
     },
     "execution_count": 332,
     "metadata": {},
     "output_type": "execute_result"
    }
   ],
   "source": [
    "from sklearn.linear_model import ElasticNet\n",
    "from sklearn.preprocessing import StandardScaler\n",
    "columns = new_vehicles.columns[1:new_vehicles.shape[1]-1]\n",
    "sc = StandardScaler()\n",
    "sc.fit(new_vehicles.iloc[:,1:new_vehicles.shape[1]-1])\n",
    "new_vehicle_std = sc.transform(new_vehicles.iloc[:,1:new_vehicles.shape[1]-1])\n",
    "new_vehicle_std.shape"
   ]
  },
  {
   "cell_type": "code",
   "execution_count": 333,
   "metadata": {
    "collapsed": false
   },
   "outputs": [
    {
     "data": {
      "text/plain": [
       "ElasticNet(alpha=0.05, copy_X=True, fit_intercept=True, l1_ratio=0.6,\n",
       "      max_iter=1000, normalize=False, positive=False, precompute=False,\n",
       "      random_state=None, selection='cyclic', tol=0.0001, warm_start=False)"
      ]
     },
     "execution_count": 333,
     "metadata": {},
     "output_type": "execute_result"
    }
   ],
   "source": [
    "lr = ElasticNet(alpha=0.05,l1_ratio = 0.6)\n",
    "y = new_vehicles.iloc[:,[new_vehicles.shape[1]-1]]\n",
    "lr.fit(new_vehicle_std,y)"
   ]
  },
  {
   "cell_type": "code",
   "execution_count": 334,
   "metadata": {
    "collapsed": false
   },
   "outputs": [
    {
     "data": {
      "image/png": "[encoded data removed]",
      "text/plain": [
       "<matplotlib.figure.Figure at 0x7f4a6bf46860>"
      ]
     },
     "metadata": {},
     "output_type": "display_data"
    }
   ],
   "source": [
    "plt.title('Importance of Feature using Elastic Net')\n",
    "plt.bar(range(new_vehicle_std.shape[1]),abs(lr.coef_),color='brown',align='center')\n",
    "plt.xticks(range(new_vehicle_std.shape[1]),columns,rotation=90)\n",
    "plt.xlabel(\"Features\")\n",
    "plt.ylabel(\"Weights\")\n",
    "plt.show()"
   ]
  },
  {
   "cell_type": "code",
   "execution_count": 335,
   "metadata": {
    "collapsed": false
   },
   "outputs": [
    {
     "name": "stdout",
     "output_type": "stream",
     "text": [
      "SSE= 19138.0923301\n"
     ]
    }
   ],
   "source": [
    "y_pred = lr.predict(new_vehicle_std)\n",
    "y = np.array(y[\"total_reservations\"])\n",
    "error = sum((y-y_pred)**2)\n",
    "print(\"SSE=\",error)"
   ]
  },
  {
   "cell_type": "markdown",
   "metadata": {},
   "source": [
    "This shows that the linear regression gives high weights on the actual_price,num_images available. These two features appears to be highly important as per weight coefficients in linear regression."
   ]
  },
  {
   "cell_type": "code",
   "execution_count": 336,
   "metadata": {
    "collapsed": false
   },
   "outputs": [
    {
     "data": {
      "text/plain": [
       "RandomForestRegressor(bootstrap=True, criterion='mse', max_depth=None,\n",
       "           max_features='auto', max_leaf_nodes=None,\n",
       "           min_impurity_split=1e-07, min_samples_leaf=1,\n",
       "           min_samples_split=2, min_weight_fraction_leaf=0.0,\n",
       "           n_estimators=10000, n_jobs=-1, oob_score=False, random_state=0,\n",
       "           verbose=0, warm_start=False)"
      ]
     },
     "execution_count": 336,
     "metadata": {},
     "output_type": "execute_result"
    }
   ],
   "source": [
    "from sklearn.ensemble import RandomForestRegressor\n",
    "forest = RandomForestRegressor(n_estimators=10000,random_state=0,n_jobs=-1)\n",
    "forest.fit(new_vehicle_std,y)"
   ]
  },
  {
   "cell_type": "code",
   "execution_count": null,
   "metadata": {
    "collapsed": false
   },
   "outputs": [],
   "source": [
    "importances = forest.feature_importances_\n",
    "indices = np.argsort(importances)[::-1]"
   ]
  },
  {
   "cell_type": "code",
   "execution_count": null,
   "metadata": {
    "collapsed": false
   },
   "outputs": [],
   "source": [
    "plt.title('Feature Importances')\n",
    "plt.bar(range(new_vehicle_std.shape[1]),importances[indices],color='lightblue',align='center')\n",
    "plt.xticks(range(new_vehicle_std.shape[1]),columns[indices],rotation=90)\n",
    "plt.show()"
   ]
  },
  {
   "cell_type": "markdown",
   "metadata": {
    "collapsed": true
   },
   "source": [
    "Now, according to random forest actual_price, recommended_price and description are the most important. Right now we are only sure that **pricings** are the key important features. Taking the votes from Elastic Net and Random Forests."
   ]
  },
  {
   "cell_type": "markdown",
   "metadata": {},
   "source": [
    "In real world, this often true. The better the price are and better the description is, that car is highly likely to be booked."
   ]
  },
  {
   "cell_type": "markdown",
   "metadata": {},
   "source": [
    "Now, lets see if our experiment and finding were actually correct or not."
   ]
  },
  {
   "cell_type": "code",
   "execution_count": null,
   "metadata": {
    "collapsed": false
   },
   "outputs": [],
   "source": [
    "# Subselect the features {acutal_price, recommended_price and description}\n",
    "vehicle_subset = new_vehicles.loc[:,[\"vehicle_id\",\"actual_price\",\"recommended_price\",\"description\",\"total_reservations\"]]"
   ]
  },
  {
   "cell_type": "code",
   "execution_count": null,
   "metadata": {
    "collapsed": false
   },
   "outputs": [],
   "source": [
    "vehicle_subset.head()"
   ]
  },
  {
   "cell_type": "code",
   "execution_count": null,
   "metadata": {
    "collapsed": false
   },
   "outputs": [],
   "source": [
    "vehicle_subset.info()"
   ]
  },
  {
   "cell_type": "code",
   "execution_count": null,
   "metadata": {
    "collapsed": false
   },
   "outputs": [],
   "source": [
    "vehicle_subset_sorted = vehicle_subset.sort_values(by=\"total_reservations\",ascending=False)\n",
    "vehicle_subset_sorted.head(20)"
   ]
  },
  {
   "cell_type": "code",
   "execution_count": null,
   "metadata": {
    "collapsed": false
   },
   "outputs": [],
   "source": [
    "vehicle_subset_sorted.tail(20)"
   ]
  },
  {
   "cell_type": "markdown",
   "metadata": {},
   "source": [
    "That is interesting. See people who are actually having *actual_price* near to that of *recommended_price* have been better rewarded by more number of reservations. They get better reservations. There can be many other hidden variables but this data doesn't have that information."
   ]
  },
  {
   "cell_type": "code",
   "execution_count": null,
   "metadata": {
    "collapsed": false
   },
   "outputs": [],
   "source": [
    "vehicle_subset_group = vehicle_subset.loc[:,[\"actual_price\",\"recommended_price\"]].groupby(vehicle_subset.total_reservations).mean()\n",
    "print(vehicle_subset_group.shape)\n",
    "vehicle_subset_group"
   ]
  },
  {
   "cell_type": "code",
   "execution_count": null,
   "metadata": {
    "collapsed": false
   },
   "outputs": [],
   "source": [
    "plt.plot(vehicle_subset_group.index,\n",
    "         abs(vehicle_subset_group.actual_price - vehicle_subset_group.recommended_price),\n",
    "         linewidth=3)\n",
    "plt.xlabel(\"Total Number of Reservations\")\n",
    "plt.ylabel(\"Average Difference in Actual and Recommended Cost\")\n",
    "plt.show()"
   ]
  },
  {
   "cell_type": "markdown",
   "metadata": {},
   "source": [
    "The above graph proves that if the owners want to have more reservations they should keep the actual price as near to the recommended price.\n",
    "\n",
    "This shows that the **most important features in the dataset are the pricings, more specifically the difference in actual and recommended prices**. "
   ]
  },
  {
   "cell_type": "markdown",
   "metadata": {},
   "source": [
    "### Car technology and reservations."
   ]
  },
  {
   "cell_type": "code",
   "execution_count": null,
   "metadata": {
    "collapsed": false
   },
   "outputs": [],
   "source": [
    "vehicle_tech = new_vehicles.loc[:,[\"vehicle_id\",\"technology\",\"total_reservations\"]]\n",
    "vehicle_tech.head()"
   ]
  },
  {
   "cell_type": "code",
   "execution_count": null,
   "metadata": {
    "collapsed": false
   },
   "outputs": [],
   "source": [
    "vehicle_tech.info()"
   ]
  },
  {
   "cell_type": "code",
   "execution_count": null,
   "metadata": {
    "collapsed": false
   },
   "outputs": [],
   "source": [
    "veh_tec_tot_res = vehicle_tech.groupby(\"technology\").sum().loc[:,[\"total_reservations\"]]\n",
    "veh_tec_tot_res"
   ]
  },
  {
   "cell_type": "code",
   "execution_count": null,
   "metadata": {
    "collapsed": false
   },
   "outputs": [],
   "source": [
    "import matplotlib.ticker as ticker\n",
    "pos_list = (\"Without Technology\",\"With Technology\")\n",
    "ax = plt.axes()\n",
    "ax.xaxis.set_major_locator(ticker.FixedLocator([0,1]))\n",
    "ax.xaxis.set_major_formatter(ticker.FixedFormatter(pos_list))\n",
    "plt.bar([0,1],veh_tec_tot_res.total_reservations,align='center',color=\"purple\")\n",
    "plt.show()"
   ]
  },
  {
   "cell_type": "markdown",
   "metadata": {},
   "source": [
    "From this it seems that most of reservations that were made didn't have any technology involved in it. So, it seems most people don't want technology in their cars. "
   ]
  },
  {
   "cell_type": "code",
   "execution_count": null,
   "metadata": {
    "collapsed": false
   },
   "outputs": [],
   "source": [
    "plt.title('Feature Importances')\n",
    "plt.bar(range(new_vehicle_std.shape[1]),importances[indices],color='lightblue',align='center')\n",
    "plt.xticks(range(new_vehicle_std.shape[1]),columns[indices],rotation=90)\n",
    "plt.show()"
   ]
  },
  {
   "cell_type": "markdown",
   "metadata": {},
   "source": [
    "Also from our feature importance graph we can see that technology is the least important feature in the whole dataset and doesn't affect the total reservations much."
   ]
  },
  {
   "cell_type": "code",
   "execution_count": null,
   "metadata": {
    "collapsed": false
   },
   "outputs": [],
   "source": [
    "hourly_reservations = reservations.loc[(reservations.reservation_type == 1),:]\n",
    "daily_reservations = reservations.loc[(reservations.reservation_type == 2),:]\n",
    "weekly_reservations = reservations.loc[(reservations.reservation_type == 3),:]"
   ]
  },
  {
   "cell_type": "code",
   "execution_count": null,
   "metadata": {
    "collapsed": false
   },
   "outputs": [],
   "source": [
    "print(\"## Hourly Reservations ##\")\n",
    "hourly_reservations.info()\n",
    "print(\"\\n\")\n",
    "\n",
    "print(\"## Daily Reservations ##\")\n",
    "daily_reservations.info()\n",
    "print(\"\\n\")\n",
    "\n",
    "print(\"## Weekly Reservations ##\")\n",
    "weekly_reservations.info()\n"
   ]
  },
  {
   "cell_type": "code",
   "execution_count": null,
   "metadata": {
    "collapsed": false
   },
   "outputs": [],
   "source": [
    "hourly_veh_res = pd.merge(vehicles,hourly_reservations,on=\"vehicle_id\",how=\"inner\")\n",
    "hourly_veh_res.info()"
   ]
  },
  {
   "cell_type": "code",
   "execution_count": null,
   "metadata": {
    "collapsed": false
   },
   "outputs": [],
   "source": [
    "print(\"Hourly with technology:\",hourly_veh_res.technology.sum())\n",
    "print(\"Hourly without technology:\",hourly_veh_res.shape[0] - hourly_veh_res.technology.sum())\n",
    "print(\"With technology {:0.3f} %\".format(hourly_veh_res.technology.sum()/(hourly_veh_res.shape[0])*100))\n",
    "print(\"Without technology {:0.3f} %\".format(100-(hourly_veh_res.technology.sum()/(hourly_veh_res.shape[0])*100)))"
   ]
  },
  {
   "cell_type": "code",
   "execution_count": null,
   "metadata": {
    "collapsed": false
   },
   "outputs": [],
   "source": [
    "daily_veh_res = pd.merge(vehicles,daily_reservations,on=\"vehicle_id\",how=\"inner\")\n",
    "daily_veh_res.head()"
   ]
  },
  {
   "cell_type": "code",
   "execution_count": null,
   "metadata": {
    "collapsed": false
   },
   "outputs": [],
   "source": [
    "print(\"Daily with technology:\",daily_veh_res.technology.sum())\n",
    "print(\"Daily without technology:\",daily_veh_res.shape[0] - daily_veh_res.technology.sum())\n",
    "print(\"With technology {:0.3f} %\".format(daily_veh_res.technology.sum()/(daily_veh_res.shape[0])*100))\n",
    "print(\"Without technology {:0.3f} %\".format(100-(daily_veh_res.technology.sum()/(daily_veh_res.shape[0])*100)))"
   ]
  },
  {
   "cell_type": "code",
   "execution_count": null,
   "metadata": {
    "collapsed": false
   },
   "outputs": [],
   "source": [
    "weekly_veh_res = pd.merge(vehicles,weekly_reservations,on=\"vehicle_id\",how=\"inner\")\n",
    "weekly_veh_res.head()"
   ]
  },
  {
   "cell_type": "code",
   "execution_count": null,
   "metadata": {
    "collapsed": false
   },
   "outputs": [],
   "source": [
    "print(\"Weekly with technology:\",weekly_veh_res.technology.sum())\n",
    "print(\"Weekly without technology:\",weekly_veh_res.shape[0] - daily_veh_res.technology.sum())\n",
    "print(\"With technology {:0.3f} %\".format(weekly_veh_res.technology.sum()/(weekly_veh_res.shape[0])*100))\n",
    "print(\"Without technology {:0.3f} %\".format(100-(weekly_veh_res.technology.sum()/(weekly_veh_res.shape[0])*100)))"
   ]
  },
  {
   "cell_type": "markdown",
   "metadata": {},
   "source": [
    "It appears people don't want high technology cars. Question is why?"
   ]
  },
  {
   "cell_type": "code",
   "execution_count": null,
   "metadata": {
    "collapsed": false
   },
   "outputs": [],
   "source": [
    "vehicles_without_tech = new_vehicles.loc[(new_vehicles.technology == 0),:].sort_values(by=\"total_reservations\",ascending=False)\n",
    "vehicles_without_tech.head()"
   ]
  },
  {
   "cell_type": "code",
   "execution_count": null,
   "metadata": {
    "collapsed": false
   },
   "outputs": [],
   "source": [
    "vehicles_with_tech = new_vehicles.loc[(new_vehicles.technology == 1),:].sort_values(by=\"total_reservations\",ascending=False)\n",
    "vehicles_with_tech.head()"
   ]
  },
  {
   "cell_type": "code",
   "execution_count": null,
   "metadata": {
    "collapsed": true
   },
   "outputs": [],
   "source": []
  }
 ],
 "metadata": {
  "anaconda-cloud": {},
  "kernelspec": {
   "display_name": "Python [Root]",
   "language": "python",
   "name": "Python [Root]"
  },
  "language_info": {
   "codemirror_mode": {
    "name": "ipython",
    "version": 3
   },
   "file_extension": ".py",
   "mimetype": "text/x-python",
   "name": "python",
   "nbconvert_exporter": "python",
   "pygments_lexer": "ipython3",
   "version": "3.5.2"
  }
 },
 "nbformat": 4,
 "nbformat_minor": 0
}
