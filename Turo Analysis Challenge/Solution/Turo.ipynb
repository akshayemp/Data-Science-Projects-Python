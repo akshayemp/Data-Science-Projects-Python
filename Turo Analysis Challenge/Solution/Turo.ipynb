{
 "cells": [
  {
   "cell_type": "code",
   "execution_count": 418,
   "metadata": {
    "collapsed": true
   },
   "outputs": [],
   "source": [
    "import pandas as pd\n",
    "import numpy as np\n",
    "import matplotlib.pyplot as plt\n",
    "plt.rcParams['axes.facecolor'] = '#ccebff'\n",
    "#%matplotlib inline"
   ]
  },
  {
   "cell_type": "code",
   "execution_count": 362,
   "metadata": {
    "collapsed": false
   },
   "outputs": [
    {
     "name": "stdout",
     "output_type": "stream",
     "text": [
      "Dimensions of vehicles dataset:  (1000, 7)\n",
      "Dimensions of reservations dataset:  (6376, 2)\n"
     ]
    }
   ],
   "source": [
    "# Loading data\n",
    "\n",
    "reservations = pd.read_csv(\"../Data/reservations_(5).csv\")\n",
    "vehicles = pd.read_csv(\"../Data/vehicles_(6).csv\")\n",
    "print(\"Dimensions of vehicles dataset: \",vehicles.shape)\n",
    "print(\"Dimensions of reservations dataset: \",reservations.shape)"
   ]
  },
  {
   "cell_type": "code",
   "execution_count": 363,
   "metadata": {
    "collapsed": false
   },
   "outputs": [
    {
     "data": {
      "text/html": [
       "<div>\n",
       "<table border=\"1\" class=\"dataframe\">\n",
       "  <thead>\n",
       "    <tr style=\"text-align: right;\">\n",
       "      <th></th>\n",
       "      <th>vehicle_id</th>\n",
       "      <th>technology</th>\n",
       "      <th>actual_price</th>\n",
       "      <th>recommended_price</th>\n",
       "      <th>num_images</th>\n",
       "      <th>street_parked</th>\n",
       "      <th>description</th>\n",
       "    </tr>\n",
       "  </thead>\n",
       "  <tbody>\n",
       "    <tr>\n",
       "      <th>0</th>\n",
       "      <td>1</td>\n",
       "      <td>1</td>\n",
       "      <td>67.85</td>\n",
       "      <td>59</td>\n",
       "      <td>5</td>\n",
       "      <td>0</td>\n",
       "      <td>7</td>\n",
       "    </tr>\n",
       "    <tr>\n",
       "      <th>1</th>\n",
       "      <td>2</td>\n",
       "      <td>0</td>\n",
       "      <td>100.70</td>\n",
       "      <td>53</td>\n",
       "      <td>5</td>\n",
       "      <td>0</td>\n",
       "      <td>224</td>\n",
       "    </tr>\n",
       "    <tr>\n",
       "      <th>2</th>\n",
       "      <td>3</td>\n",
       "      <td>0</td>\n",
       "      <td>74.00</td>\n",
       "      <td>74</td>\n",
       "      <td>4</td>\n",
       "      <td>1</td>\n",
       "      <td>21</td>\n",
       "    </tr>\n",
       "    <tr>\n",
       "      <th>3</th>\n",
       "      <td>4</td>\n",
       "      <td>0</td>\n",
       "      <td>135.00</td>\n",
       "      <td>75</td>\n",
       "      <td>1</td>\n",
       "      <td>0</td>\n",
       "      <td>184</td>\n",
       "    </tr>\n",
       "    <tr>\n",
       "      <th>4</th>\n",
       "      <td>5</td>\n",
       "      <td>0</td>\n",
       "      <td>59.36</td>\n",
       "      <td>53</td>\n",
       "      <td>2</td>\n",
       "      <td>1</td>\n",
       "      <td>31</td>\n",
       "    </tr>\n",
       "  </tbody>\n",
       "</table>\n",
       "</div>"
      ],
      "text/plain": [
       "   vehicle_id  technology  actual_price  recommended_price  num_images  \\\n",
       "0           1           1         67.85                 59           5   \n",
       "1           2           0        100.70                 53           5   \n",
       "2           3           0         74.00                 74           4   \n",
       "3           4           0        135.00                 75           1   \n",
       "4           5           0         59.36                 53           2   \n",
       "\n",
       "   street_parked  description  \n",
       "0              0            7  \n",
       "1              0          224  \n",
       "2              1           21  \n",
       "3              0          184  \n",
       "4              1           31  "
      ]
     },
     "execution_count": 363,
     "metadata": {},
     "output_type": "execute_result"
    }
   ],
   "source": [
    "vehicles.head()"
   ]
  },
  {
   "cell_type": "code",
   "execution_count": 364,
   "metadata": {
    "collapsed": false,
    "scrolled": true
   },
   "outputs": [
    {
     "data": {
      "text/html": [
       "<div>\n",
       "<table border=\"1\" class=\"dataframe\">\n",
       "  <thead>\n",
       "    <tr style=\"text-align: right;\">\n",
       "      <th></th>\n",
       "      <th>vehicle_id</th>\n",
       "      <th>reservation_type</th>\n",
       "    </tr>\n",
       "  </thead>\n",
       "  <tbody>\n",
       "    <tr>\n",
       "      <th>0</th>\n",
       "      <td>208</td>\n",
       "      <td>1</td>\n",
       "    </tr>\n",
       "    <tr>\n",
       "      <th>1</th>\n",
       "      <td>601</td>\n",
       "      <td>3</td>\n",
       "    </tr>\n",
       "    <tr>\n",
       "      <th>2</th>\n",
       "      <td>993</td>\n",
       "      <td>1</td>\n",
       "    </tr>\n",
       "    <tr>\n",
       "      <th>3</th>\n",
       "      <td>423</td>\n",
       "      <td>2</td>\n",
       "    </tr>\n",
       "    <tr>\n",
       "      <th>4</th>\n",
       "      <td>685</td>\n",
       "      <td>3</td>\n",
       "    </tr>\n",
       "  </tbody>\n",
       "</table>\n",
       "</div>"
      ],
      "text/plain": [
       "   vehicle_id  reservation_type\n",
       "0         208                 1\n",
       "1         601                 3\n",
       "2         993                 1\n",
       "3         423                 2\n",
       "4         685                 3"
      ]
     },
     "execution_count": 364,
     "metadata": {},
     "output_type": "execute_result"
    }
   ],
   "source": [
    "reservations.head()"
   ]
  },
  {
   "cell_type": "code",
   "execution_count": 365,
   "metadata": {
    "collapsed": false
   },
   "outputs": [
    {
     "name": "stdout",
     "output_type": "stream",
     "text": [
      "<class 'pandas.core.frame.DataFrame'>\n",
      "RangeIndex: 6376 entries, 0 to 6375\n",
      "Data columns (total 2 columns):\n",
      "vehicle_id          6376 non-null int64\n",
      "reservation_type    6376 non-null int64\n",
      "dtypes: int64(2)\n",
      "memory usage: 99.7 KB\n"
     ]
    }
   ],
   "source": [
    "reservations.info()"
   ]
  },
  {
   "cell_type": "code",
   "execution_count": 366,
   "metadata": {
    "collapsed": false
   },
   "outputs": [
    {
     "name": "stdout",
     "output_type": "stream",
     "text": [
      "<class 'pandas.core.frame.DataFrame'>\n",
      "RangeIndex: 1000 entries, 0 to 999\n",
      "Data columns (total 7 columns):\n",
      "vehicle_id           1000 non-null int64\n",
      "technology           1000 non-null int64\n",
      "actual_price         1000 non-null float64\n",
      "recommended_price    1000 non-null int64\n",
      "num_images           1000 non-null int64\n",
      "street_parked        1000 non-null int64\n",
      "description          1000 non-null int64\n",
      "dtypes: float64(1), int64(6)\n",
      "memory usage: 54.8 KB\n"
     ]
    }
   ],
   "source": [
    "vehicles.info()"
   ]
  },
  {
   "cell_type": "code",
   "execution_count": 367,
   "metadata": {
    "collapsed": false
   },
   "outputs": [
    {
     "data": {
      "text/plain": [
       "False"
      ]
     },
     "execution_count": 367,
     "metadata": {},
     "output_type": "execute_result"
    }
   ],
   "source": [
    "len(reservations[\"vehicle_id\"].unique()) == len(vehicles[\"vehicle_id\"].unique()) "
   ]
  },
  {
   "cell_type": "code",
   "execution_count": 368,
   "metadata": {
    "collapsed": false
   },
   "outputs": [
    {
     "data": {
      "text/plain": [
       "array([1, 3, 2])"
      ]
     },
     "execution_count": 368,
     "metadata": {},
     "output_type": "execute_result"
    }
   ],
   "source": [
    "reservations[\"reservation_type\"].unique()"
   ]
  },
  {
   "cell_type": "code",
   "execution_count": 369,
   "metadata": {
    "collapsed": false
   },
   "outputs": [
    {
     "name": "stdout",
     "output_type": "stream",
     "text": [
      "Number of unique Reservations: 911\n",
      "Total Number of reservations: 6376\n"
     ]
    }
   ],
   "source": [
    "from collections import Counter\n",
    "print(\"Number of unique Reservations:\",len(reservations[\"vehicle_id\"].unique()))\n",
    "print(\"Total Number of reservations:\",reservations.shape[0])"
   ]
  },
  {
   "cell_type": "markdown",
   "metadata": {},
   "source": [
    "This shows that there are multiple reservations for a single vehicle type."
   ]
  },
  {
   "cell_type": "code",
   "execution_count": 370,
   "metadata": {
    "collapsed": false
   },
   "outputs": [
    {
     "name": "stdout",
     "output_type": "stream",
     "text": [
      "Are all rows unique in vehicle dataset? :  True\n",
      "Never have I ever booked these vehicles: {7, 523, 13, 528, 537, 538, 33, 45, 560, 579, 580, 587, 590, 597, 86, 101, 104, 112, 635, 644, 654, 143, 672, 161, 168, 170, 682, 683, 706, 198, 209, 214, 738, 239, 241, 755, 758, 760, 761, 765, 255, 771, 783, 272, 785, 793, 803, 815, 819, 309, 823, 322, 329, 334, 337, 342, 856, 346, 859, 868, 357, 361, 875, 879, 373, 886, 895, 902, 903, 905, 911, 400, 925, 944, 945, 438, 955, 444, 452, 454, 969, 972, 461, 973, 974, 992, 487, 488, 502}\n"
     ]
    }
   ],
   "source": [
    "print(\"Are all rows unique in vehicle dataset? : \",len(vehicles[\"vehicle_id\"]) == len(vehicles[\"vehicle_id\"].unique()))\n",
    "vehicles_not_reserved_ever = set(vehicles[\"vehicle_id\"].unique()) - set(reservations[\"vehicle_id\"].unique())\n",
    "print(\"Never have I ever booked these vehicles:\",vehicles_not_reserved_ever)"
   ]
  },
  {
   "cell_type": "code",
   "execution_count": 371,
   "metadata": {
    "collapsed": false
   },
   "outputs": [
    {
     "data": {
      "text/plain": [
       "89"
      ]
     },
     "execution_count": 371,
     "metadata": {},
     "output_type": "execute_result"
    }
   ],
   "source": [
    "len(vehicles_not_reserved_ever)"
   ]
  },
  {
   "cell_type": "markdown",
   "metadata": {},
   "source": [
    "Out of 1000 vehicles 89 were never booked."
   ]
  },
  {
   "cell_type": "code",
   "execution_count": 372,
   "metadata": {
    "collapsed": false
   },
   "outputs": [
    {
     "data": {
      "text/html": [
       "<div>\n",
       "<table border=\"1\" class=\"dataframe\">\n",
       "  <thead>\n",
       "    <tr style=\"text-align: right;\">\n",
       "      <th></th>\n",
       "      <th>total_reservations</th>\n",
       "      <th>vehicle_id</th>\n",
       "    </tr>\n",
       "  </thead>\n",
       "  <tbody>\n",
       "    <tr>\n",
       "      <th>0</th>\n",
       "      <td>1</td>\n",
       "      <td>1</td>\n",
       "    </tr>\n",
       "    <tr>\n",
       "      <th>1</th>\n",
       "      <td>7</td>\n",
       "      <td>2</td>\n",
       "    </tr>\n",
       "    <tr>\n",
       "      <th>2</th>\n",
       "      <td>17</td>\n",
       "      <td>3</td>\n",
       "    </tr>\n",
       "    <tr>\n",
       "      <th>3</th>\n",
       "      <td>2</td>\n",
       "      <td>4</td>\n",
       "    </tr>\n",
       "    <tr>\n",
       "      <th>4</th>\n",
       "      <td>2</td>\n",
       "      <td>5</td>\n",
       "    </tr>\n",
       "    <tr>\n",
       "      <th>5</th>\n",
       "      <td>13</td>\n",
       "      <td>6</td>\n",
       "    </tr>\n",
       "    <tr>\n",
       "      <th>6</th>\n",
       "      <td>8</td>\n",
       "      <td>8</td>\n",
       "    </tr>\n",
       "    <tr>\n",
       "      <th>7</th>\n",
       "      <td>11</td>\n",
       "      <td>9</td>\n",
       "    </tr>\n",
       "    <tr>\n",
       "      <th>8</th>\n",
       "      <td>9</td>\n",
       "      <td>10</td>\n",
       "    </tr>\n",
       "    <tr>\n",
       "      <th>9</th>\n",
       "      <td>4</td>\n",
       "      <td>11</td>\n",
       "    </tr>\n",
       "    <tr>\n",
       "      <th>10</th>\n",
       "      <td>4</td>\n",
       "      <td>12</td>\n",
       "    </tr>\n",
       "    <tr>\n",
       "      <th>11</th>\n",
       "      <td>3</td>\n",
       "      <td>14</td>\n",
       "    </tr>\n",
       "    <tr>\n",
       "      <th>12</th>\n",
       "      <td>5</td>\n",
       "      <td>15</td>\n",
       "    </tr>\n",
       "    <tr>\n",
       "      <th>13</th>\n",
       "      <td>2</td>\n",
       "      <td>16</td>\n",
       "    </tr>\n",
       "    <tr>\n",
       "      <th>14</th>\n",
       "      <td>5</td>\n",
       "      <td>17</td>\n",
       "    </tr>\n",
       "    <tr>\n",
       "      <th>15</th>\n",
       "      <td>7</td>\n",
       "      <td>18</td>\n",
       "    </tr>\n",
       "    <tr>\n",
       "      <th>16</th>\n",
       "      <td>3</td>\n",
       "      <td>19</td>\n",
       "    </tr>\n",
       "    <tr>\n",
       "      <th>17</th>\n",
       "      <td>12</td>\n",
       "      <td>20</td>\n",
       "    </tr>\n",
       "    <tr>\n",
       "      <th>18</th>\n",
       "      <td>9</td>\n",
       "      <td>21</td>\n",
       "    </tr>\n",
       "    <tr>\n",
       "      <th>19</th>\n",
       "      <td>13</td>\n",
       "      <td>22</td>\n",
       "    </tr>\n",
       "  </tbody>\n",
       "</table>\n",
       "</div>"
      ],
      "text/plain": [
       "    total_reservations  vehicle_id\n",
       "0                    1           1\n",
       "1                    7           2\n",
       "2                   17           3\n",
       "3                    2           4\n",
       "4                    2           5\n",
       "5                   13           6\n",
       "6                    8           8\n",
       "7                   11           9\n",
       "8                    9          10\n",
       "9                    4          11\n",
       "10                   4          12\n",
       "11                   3          14\n",
       "12                   5          15\n",
       "13                   2          16\n",
       "14                   5          17\n",
       "15                   7          18\n",
       "16                   3          19\n",
       "17                  12          20\n",
       "18                   9          21\n",
       "19                  13          22"
      ]
     },
     "execution_count": 372,
     "metadata": {},
     "output_type": "execute_result"
    }
   ],
   "source": [
    "# Creating a new dataset for total reservations.\n",
    "total_reservations_per_vehicle = Counter(reservations[\"vehicle_id\"])\n",
    "total_reservation_dataframe = pd.DataFrame({\"vehicle_id\":list(total_reservations_per_vehicle.keys()),\n",
    "                                            \"total_reservations\":list(total_reservations_per_vehicle.values())})\n",
    "total_reservation_dataframe.head(20)"
   ]
  },
  {
   "cell_type": "code",
   "execution_count": 373,
   "metadata": {
    "collapsed": false
   },
   "outputs": [
    {
     "name": "stdout",
     "output_type": "stream",
     "text": [
      "(1000, 8)\n"
     ]
    },
    {
     "data": {
      "text/html": [
       "<div>\n",
       "<table border=\"1\" class=\"dataframe\">\n",
       "  <thead>\n",
       "    <tr style=\"text-align: right;\">\n",
       "      <th></th>\n",
       "      <th>vehicle_id</th>\n",
       "      <th>technology</th>\n",
       "      <th>actual_price</th>\n",
       "      <th>recommended_price</th>\n",
       "      <th>num_images</th>\n",
       "      <th>street_parked</th>\n",
       "      <th>description</th>\n",
       "      <th>total_reservations</th>\n",
       "    </tr>\n",
       "  </thead>\n",
       "  <tbody>\n",
       "    <tr>\n",
       "      <th>0</th>\n",
       "      <td>1</td>\n",
       "      <td>1</td>\n",
       "      <td>67.85</td>\n",
       "      <td>59</td>\n",
       "      <td>5</td>\n",
       "      <td>0</td>\n",
       "      <td>7</td>\n",
       "      <td>1.0</td>\n",
       "    </tr>\n",
       "    <tr>\n",
       "      <th>1</th>\n",
       "      <td>2</td>\n",
       "      <td>0</td>\n",
       "      <td>100.70</td>\n",
       "      <td>53</td>\n",
       "      <td>5</td>\n",
       "      <td>0</td>\n",
       "      <td>224</td>\n",
       "      <td>7.0</td>\n",
       "    </tr>\n",
       "    <tr>\n",
       "      <th>2</th>\n",
       "      <td>3</td>\n",
       "      <td>0</td>\n",
       "      <td>74.00</td>\n",
       "      <td>74</td>\n",
       "      <td>4</td>\n",
       "      <td>1</td>\n",
       "      <td>21</td>\n",
       "      <td>17.0</td>\n",
       "    </tr>\n",
       "    <tr>\n",
       "      <th>3</th>\n",
       "      <td>4</td>\n",
       "      <td>0</td>\n",
       "      <td>135.00</td>\n",
       "      <td>75</td>\n",
       "      <td>1</td>\n",
       "      <td>0</td>\n",
       "      <td>184</td>\n",
       "      <td>2.0</td>\n",
       "    </tr>\n",
       "    <tr>\n",
       "      <th>4</th>\n",
       "      <td>5</td>\n",
       "      <td>0</td>\n",
       "      <td>59.36</td>\n",
       "      <td>53</td>\n",
       "      <td>2</td>\n",
       "      <td>1</td>\n",
       "      <td>31</td>\n",
       "      <td>2.0</td>\n",
       "    </tr>\n",
       "    <tr>\n",
       "      <th>5</th>\n",
       "      <td>6</td>\n",
       "      <td>0</td>\n",
       "      <td>82.15</td>\n",
       "      <td>53</td>\n",
       "      <td>5</td>\n",
       "      <td>1</td>\n",
       "      <td>44</td>\n",
       "      <td>13.0</td>\n",
       "    </tr>\n",
       "    <tr>\n",
       "      <th>6</th>\n",
       "      <td>7</td>\n",
       "      <td>0</td>\n",
       "      <td>165.17</td>\n",
       "      <td>83</td>\n",
       "      <td>3</td>\n",
       "      <td>0</td>\n",
       "      <td>32</td>\n",
       "      <td>0.0</td>\n",
       "    </tr>\n",
       "    <tr>\n",
       "      <th>7</th>\n",
       "      <td>8</td>\n",
       "      <td>0</td>\n",
       "      <td>98.56</td>\n",
       "      <td>88</td>\n",
       "      <td>5</td>\n",
       "      <td>1</td>\n",
       "      <td>174</td>\n",
       "      <td>8.0</td>\n",
       "    </tr>\n",
       "    <tr>\n",
       "      <th>8</th>\n",
       "      <td>9</td>\n",
       "      <td>1</td>\n",
       "      <td>69.96</td>\n",
       "      <td>44</td>\n",
       "      <td>4</td>\n",
       "      <td>1</td>\n",
       "      <td>32</td>\n",
       "      <td>11.0</td>\n",
       "    </tr>\n",
       "    <tr>\n",
       "      <th>9</th>\n",
       "      <td>10</td>\n",
       "      <td>0</td>\n",
       "      <td>98.04</td>\n",
       "      <td>76</td>\n",
       "      <td>4</td>\n",
       "      <td>1</td>\n",
       "      <td>204</td>\n",
       "      <td>9.0</td>\n",
       "    </tr>\n",
       "    <tr>\n",
       "      <th>10</th>\n",
       "      <td>11</td>\n",
       "      <td>0</td>\n",
       "      <td>123.08</td>\n",
       "      <td>68</td>\n",
       "      <td>2</td>\n",
       "      <td>0</td>\n",
       "      <td>46</td>\n",
       "      <td>4.0</td>\n",
       "    </tr>\n",
       "    <tr>\n",
       "      <th>11</th>\n",
       "      <td>12</td>\n",
       "      <td>0</td>\n",
       "      <td>128.00</td>\n",
       "      <td>64</td>\n",
       "      <td>2</td>\n",
       "      <td>1</td>\n",
       "      <td>227</td>\n",
       "      <td>4.0</td>\n",
       "    </tr>\n",
       "    <tr>\n",
       "      <th>12</th>\n",
       "      <td>13</td>\n",
       "      <td>0</td>\n",
       "      <td>109.80</td>\n",
       "      <td>60</td>\n",
       "      <td>1</td>\n",
       "      <td>0</td>\n",
       "      <td>40</td>\n",
       "      <td>0.0</td>\n",
       "    </tr>\n",
       "    <tr>\n",
       "      <th>13</th>\n",
       "      <td>14</td>\n",
       "      <td>0</td>\n",
       "      <td>104.50</td>\n",
       "      <td>55</td>\n",
       "      <td>1</td>\n",
       "      <td>1</td>\n",
       "      <td>213</td>\n",
       "      <td>3.0</td>\n",
       "    </tr>\n",
       "    <tr>\n",
       "      <th>14</th>\n",
       "      <td>15</td>\n",
       "      <td>0</td>\n",
       "      <td>142.56</td>\n",
       "      <td>81</td>\n",
       "      <td>3</td>\n",
       "      <td>0</td>\n",
       "      <td>36</td>\n",
       "      <td>5.0</td>\n",
       "    </tr>\n",
       "    <tr>\n",
       "      <th>15</th>\n",
       "      <td>16</td>\n",
       "      <td>0</td>\n",
       "      <td>55.66</td>\n",
       "      <td>46</td>\n",
       "      <td>2</td>\n",
       "      <td>0</td>\n",
       "      <td>204</td>\n",
       "      <td>2.0</td>\n",
       "    </tr>\n",
       "    <tr>\n",
       "      <th>16</th>\n",
       "      <td>17</td>\n",
       "      <td>0</td>\n",
       "      <td>43.46</td>\n",
       "      <td>53</td>\n",
       "      <td>5</td>\n",
       "      <td>1</td>\n",
       "      <td>132</td>\n",
       "      <td>5.0</td>\n",
       "    </tr>\n",
       "    <tr>\n",
       "      <th>17</th>\n",
       "      <td>18</td>\n",
       "      <td>0</td>\n",
       "      <td>82.08</td>\n",
       "      <td>54</td>\n",
       "      <td>5</td>\n",
       "      <td>0</td>\n",
       "      <td>244</td>\n",
       "      <td>7.0</td>\n",
       "    </tr>\n",
       "    <tr>\n",
       "      <th>18</th>\n",
       "      <td>19</td>\n",
       "      <td>0</td>\n",
       "      <td>109.98</td>\n",
       "      <td>78</td>\n",
       "      <td>2</td>\n",
       "      <td>0</td>\n",
       "      <td>156</td>\n",
       "      <td>3.0</td>\n",
       "    </tr>\n",
       "    <tr>\n",
       "      <th>19</th>\n",
       "      <td>20</td>\n",
       "      <td>0</td>\n",
       "      <td>99.40</td>\n",
       "      <td>71</td>\n",
       "      <td>3</td>\n",
       "      <td>0</td>\n",
       "      <td>12</td>\n",
       "      <td>12.0</td>\n",
       "    </tr>\n",
       "  </tbody>\n",
       "</table>\n",
       "</div>"
      ],
      "text/plain": [
       "    vehicle_id  technology  actual_price  recommended_price  num_images  \\\n",
       "0            1           1         67.85                 59           5   \n",
       "1            2           0        100.70                 53           5   \n",
       "2            3           0         74.00                 74           4   \n",
       "3            4           0        135.00                 75           1   \n",
       "4            5           0         59.36                 53           2   \n",
       "5            6           0         82.15                 53           5   \n",
       "6            7           0        165.17                 83           3   \n",
       "7            8           0         98.56                 88           5   \n",
       "8            9           1         69.96                 44           4   \n",
       "9           10           0         98.04                 76           4   \n",
       "10          11           0        123.08                 68           2   \n",
       "11          12           0        128.00                 64           2   \n",
       "12          13           0        109.80                 60           1   \n",
       "13          14           0        104.50                 55           1   \n",
       "14          15           0        142.56                 81           3   \n",
       "15          16           0         55.66                 46           2   \n",
       "16          17           0         43.46                 53           5   \n",
       "17          18           0         82.08                 54           5   \n",
       "18          19           0        109.98                 78           2   \n",
       "19          20           0         99.40                 71           3   \n",
       "\n",
       "    street_parked  description  total_reservations  \n",
       "0               0            7                 1.0  \n",
       "1               0          224                 7.0  \n",
       "2               1           21                17.0  \n",
       "3               0          184                 2.0  \n",
       "4               1           31                 2.0  \n",
       "5               1           44                13.0  \n",
       "6               0           32                 0.0  \n",
       "7               1          174                 8.0  \n",
       "8               1           32                11.0  \n",
       "9               1          204                 9.0  \n",
       "10              0           46                 4.0  \n",
       "11              1          227                 4.0  \n",
       "12              0           40                 0.0  \n",
       "13              1          213                 3.0  \n",
       "14              0           36                 5.0  \n",
       "15              0          204                 2.0  \n",
       "16              1          132                 5.0  \n",
       "17              0          244                 7.0  \n",
       "18              0          156                 3.0  \n",
       "19              0           12                12.0  "
      ]
     },
     "execution_count": 373,
     "metadata": {},
     "output_type": "execute_result"
    }
   ],
   "source": [
    "# Join the tables.\n",
    "new_vehicles = pd.merge(vehicles,total_reservation_dataframe,how=\"left\",on=\"vehicle_id\")\n",
    "\n",
    "# Impute the values.\n",
    "new_vehicles = new_vehicles.fillna(0)\n",
    "print(new_vehicles.shape)\n",
    "new_vehicles.head(20)\n"
   ]
  },
  {
   "cell_type": "code",
   "execution_count": 374,
   "metadata": {
    "collapsed": false
   },
   "outputs": [
    {
     "name": "stdout",
     "output_type": "stream",
     "text": [
      "<class 'pandas.core.frame.DataFrame'>\n",
      "Int64Index: 1000 entries, 0 to 999\n",
      "Data columns (total 8 columns):\n",
      "vehicle_id            1000 non-null int64\n",
      "technology            1000 non-null int64\n",
      "actual_price          1000 non-null float64\n",
      "recommended_price     1000 non-null int64\n",
      "num_images            1000 non-null int64\n",
      "street_parked         1000 non-null int64\n",
      "description           1000 non-null int64\n",
      "total_reservations    1000 non-null float64\n",
      "dtypes: float64(2), int64(6)\n",
      "memory usage: 70.3 KB\n"
     ]
    }
   ],
   "source": [
    "new_vehicles.shape\n",
    "new_vehicles.info()"
   ]
  },
  {
   "cell_type": "code",
   "execution_count": 375,
   "metadata": {
    "collapsed": false
   },
   "outputs": [
    {
     "data": {
      "text/plain": [
       "(1000, 6)"
      ]
     },
     "execution_count": 375,
     "metadata": {},
     "output_type": "execute_result"
    }
   ],
   "source": [
    "from sklearn.linear_model import ElasticNet\n",
    "from sklearn.preprocessing import StandardScaler\n",
    "columns = new_vehicles.columns[1:new_vehicles.shape[1]-1]\n",
    "sc = StandardScaler()\n",
    "sc.fit(new_vehicles.iloc[:,1:new_vehicles.shape[1]-1])\n",
    "new_vehicle_std = sc.transform(new_vehicles.iloc[:,1:new_vehicles.shape[1]-1])\n",
    "new_vehicle_std.shape"
   ]
  },
  {
   "cell_type": "code",
   "execution_count": 376,
   "metadata": {
    "collapsed": false
   },
   "outputs": [
    {
     "data": {
      "text/plain": [
       "ElasticNet(alpha=0.05, copy_X=True, fit_intercept=True, l1_ratio=0.6,\n",
       "      max_iter=1000, normalize=False, positive=False, precompute=False,\n",
       "      random_state=None, selection='cyclic', tol=0.0001, warm_start=False)"
      ]
     },
     "execution_count": 376,
     "metadata": {},
     "output_type": "execute_result"
    }
   ],
   "source": [
    "lr = ElasticNet(alpha=0.05,l1_ratio = 0.6)\n",
    "y = new_vehicles.iloc[:,[new_vehicles.shape[1]-1]]\n",
    "lr.fit(new_vehicle_std,y)"
   ]
  },
  {
   "cell_type": "code",
   "execution_count": 434,
   "metadata": {
    "collapsed": false,
    "scrolled": true
   },
   "outputs": [
    {
     "data": {
      "image/png": "[encoded data removed]",
      "text/plain": [
       "<matplotlib.figure.Figure at 0x7f4a7880ccf8>"
      ]
     },
     "metadata": {},
     "output_type": "display_data"
    }
   ],
   "source": [
    "plt.figure(figsize=(20,30))\n",
    "plt.title('Importance of Feature using Elastic Net',fontsize=30)\n",
    "plt.bar(range(new_vehicle_std.shape[1]),abs(lr.coef_),color='grey',align='center')\n",
    "plt.xticks(range(new_vehicle_std.shape[1]),columns,rotation=90,fontsize=20)\n",
    "plt.yticks(fontsize=20)\n",
    "plt.xlabel(\"Features\",fontsize=30)\n",
    "plt.ylabel(\"Weights\",fontsize=30)\n",
    "plt.savefig(\"elastic_net.png\",dpi=150)"
   ]
  },
  {
   "cell_type": "code",
   "execution_count": 378,
   "metadata": {
    "collapsed": false
   },
   "outputs": [
    {
     "name": "stdout",
     "output_type": "stream",
     "text": [
      "SSE= 19138.0923301\n"
     ]
    }
   ],
   "source": [
    "y_pred = lr.predict(new_vehicle_std)\n",
    "y = np.array(y[\"total_reservations\"])\n",
    "error = sum((y-y_pred)**2)\n",
    "print(\"SSE=\",error)"
   ]
  },
  {
   "cell_type": "markdown",
   "metadata": {},
   "source": [
    "This shows that the linear regression gives high weights on the actual_price,num_images available. These two features appears to be highly important as per weight coefficients in linear regression."
   ]
  },
  {
   "cell_type": "code",
   "execution_count": 379,
   "metadata": {
    "collapsed": false
   },
   "outputs": [
    {
     "data": {
      "text/plain": [
       "RandomForestRegressor(bootstrap=True, criterion='mse', max_depth=None,\n",
       "           max_features='auto', max_leaf_nodes=None,\n",
       "           min_impurity_split=1e-07, min_samples_leaf=1,\n",
       "           min_samples_split=2, min_weight_fraction_leaf=0.0,\n",
       "           n_estimators=10000, n_jobs=-1, oob_score=False, random_state=0,\n",
       "           verbose=0, warm_start=False)"
      ]
     },
     "execution_count": 379,
     "metadata": {},
     "output_type": "execute_result"
    }
   ],
   "source": [
    "from sklearn.ensemble import RandomForestRegressor\n",
    "forest = RandomForestRegressor(n_estimators=10000,random_state=0,n_jobs=-1)\n",
    "forest.fit(new_vehicle_std,y)"
   ]
  },
  {
   "cell_type": "code",
   "execution_count": 380,
   "metadata": {
    "collapsed": false
   },
   "outputs": [],
   "source": [
    "importances = forest.feature_importances_\n",
    "indices = np.argsort(importances)[::-1]"
   ]
  },
  {
   "cell_type": "code",
   "execution_count": 439,
   "metadata": {
    "collapsed": false
   },
   "outputs": [
    {
     "data": {
      "image/png": "[encoded data removed]",
      "text/plain": [
       "<matplotlib.figure.Figure at 0x7f4a680fa390>"
      ]
     },
     "metadata": {},
     "output_type": "display_data"
    }
   ],
   "source": [
    "plt.figure(figsize=(20,30))\n",
    "plt.title('Importance of Feature Using Random Forests',fontsize=30)\n",
    "plt.bar(range(new_vehicle_std.shape[1]),importances[indices],color='grey',align='center')\n",
    "plt.xlabel(\"Features\",fontsize=30)\n",
    "plt.ylabel(\"Probability\",fontsize=30)\n",
    "plt.xticks(range(new_vehicle_std.shape[1]),columns[indices],rotation=90,fontsize=20)\n",
    "plt.yticks(fontsize=20)\n",
    "plt.savefig(\"Random_Forest.png\",dpi=150)\n",
    "plt.show()"
   ]
  },
  {
   "cell_type": "markdown",
   "metadata": {
    "collapsed": true
   },
   "source": [
    "Now, according to random forest actual_price, recommended_price and description are the most important. Right now we are only sure that **pricings** are the key important features. Taking the votes from Elastic Net and Random Forests."
   ]
  },
  {
   "cell_type": "markdown",
   "metadata": {},
   "source": [
    "In real world, this often true. The better the price are and better the description is, that car is highly likely to be booked."
   ]
  },
  {
   "cell_type": "markdown",
   "metadata": {},
   "source": [
    "Now, lets see if our experiment and finding were actually correct or not."
   ]
  },
  {
   "cell_type": "code",
   "execution_count": 382,
   "metadata": {
    "collapsed": false
   },
   "outputs": [],
   "source": [
    "# Subselect the features {acutal_price, recommended_price and description}\n",
    "vehicle_subset = new_vehicles.loc[:,[\"vehicle_id\",\"actual_price\",\"recommended_price\",\"description\",\"total_reservations\"]]"
   ]
  },
  {
   "cell_type": "code",
   "execution_count": 383,
   "metadata": {
    "collapsed": false
   },
   "outputs": [
    {
     "data": {
      "text/html": [
       "<div>\n",
       "<table border=\"1\" class=\"dataframe\">\n",
       "  <thead>\n",
       "    <tr style=\"text-align: right;\">\n",
       "      <th></th>\n",
       "      <th>vehicle_id</th>\n",
       "      <th>actual_price</th>\n",
       "      <th>recommended_price</th>\n",
       "      <th>description</th>\n",
       "      <th>total_reservations</th>\n",
       "    </tr>\n",
       "  </thead>\n",
       "  <tbody>\n",
       "    <tr>\n",
       "      <th>0</th>\n",
       "      <td>1</td>\n",
       "      <td>67.85</td>\n",
       "      <td>59</td>\n",
       "      <td>7</td>\n",
       "      <td>1.0</td>\n",
       "    </tr>\n",
       "    <tr>\n",
       "      <th>1</th>\n",
       "      <td>2</td>\n",
       "      <td>100.70</td>\n",
       "      <td>53</td>\n",
       "      <td>224</td>\n",
       "      <td>7.0</td>\n",
       "    </tr>\n",
       "    <tr>\n",
       "      <th>2</th>\n",
       "      <td>3</td>\n",
       "      <td>74.00</td>\n",
       "      <td>74</td>\n",
       "      <td>21</td>\n",
       "      <td>17.0</td>\n",
       "    </tr>\n",
       "    <tr>\n",
       "      <th>3</th>\n",
       "      <td>4</td>\n",
       "      <td>135.00</td>\n",
       "      <td>75</td>\n",
       "      <td>184</td>\n",
       "      <td>2.0</td>\n",
       "    </tr>\n",
       "    <tr>\n",
       "      <th>4</th>\n",
       "      <td>5</td>\n",
       "      <td>59.36</td>\n",
       "      <td>53</td>\n",
       "      <td>31</td>\n",
       "      <td>2.0</td>\n",
       "    </tr>\n",
       "  </tbody>\n",
       "</table>\n",
       "</div>"
      ],
      "text/plain": [
       "   vehicle_id  actual_price  recommended_price  description  \\\n",
       "0           1         67.85                 59            7   \n",
       "1           2        100.70                 53          224   \n",
       "2           3         74.00                 74           21   \n",
       "3           4        135.00                 75          184   \n",
       "4           5         59.36                 53           31   \n",
       "\n",
       "   total_reservations  \n",
       "0                 1.0  \n",
       "1                 7.0  \n",
       "2                17.0  \n",
       "3                 2.0  \n",
       "4                 2.0  "
      ]
     },
     "execution_count": 383,
     "metadata": {},
     "output_type": "execute_result"
    }
   ],
   "source": [
    "vehicle_subset.head()"
   ]
  },
  {
   "cell_type": "code",
   "execution_count": 384,
   "metadata": {
    "collapsed": false
   },
   "outputs": [
    {
     "name": "stdout",
     "output_type": "stream",
     "text": [
      "<class 'pandas.core.frame.DataFrame'>\n",
      "Int64Index: 1000 entries, 0 to 999\n",
      "Data columns (total 5 columns):\n",
      "vehicle_id            1000 non-null int64\n",
      "actual_price          1000 non-null float64\n",
      "recommended_price     1000 non-null int64\n",
      "description           1000 non-null int64\n",
      "total_reservations    1000 non-null float64\n",
      "dtypes: float64(2), int64(3)\n",
      "memory usage: 46.9 KB\n"
     ]
    }
   ],
   "source": [
    "vehicle_subset.info()"
   ]
  },
  {
   "cell_type": "code",
   "execution_count": 385,
   "metadata": {
    "collapsed": false
   },
   "outputs": [
    {
     "data": {
      "text/html": [
       "<div>\n",
       "<table border=\"1\" class=\"dataframe\">\n",
       "  <thead>\n",
       "    <tr style=\"text-align: right;\">\n",
       "      <th></th>\n",
       "      <th>vehicle_id</th>\n",
       "      <th>actual_price</th>\n",
       "      <th>recommended_price</th>\n",
       "      <th>description</th>\n",
       "      <th>total_reservations</th>\n",
       "    </tr>\n",
       "  </thead>\n",
       "  <tbody>\n",
       "    <tr>\n",
       "      <th>246</th>\n",
       "      <td>247</td>\n",
       "      <td>61.80</td>\n",
       "      <td>60</td>\n",
       "      <td>208</td>\n",
       "      <td>25.0</td>\n",
       "    </tr>\n",
       "    <tr>\n",
       "      <th>482</th>\n",
       "      <td>483</td>\n",
       "      <td>51.50</td>\n",
       "      <td>50</td>\n",
       "      <td>50</td>\n",
       "      <td>25.0</td>\n",
       "    </tr>\n",
       "    <tr>\n",
       "      <th>686</th>\n",
       "      <td>687</td>\n",
       "      <td>82.62</td>\n",
       "      <td>81</td>\n",
       "      <td>10</td>\n",
       "      <td>25.0</td>\n",
       "    </tr>\n",
       "    <tr>\n",
       "      <th>811</th>\n",
       "      <td>812</td>\n",
       "      <td>86.86</td>\n",
       "      <td>86</td>\n",
       "      <td>142</td>\n",
       "      <td>24.0</td>\n",
       "    </tr>\n",
       "    <tr>\n",
       "      <th>689</th>\n",
       "      <td>690</td>\n",
       "      <td>58.14</td>\n",
       "      <td>57</td>\n",
       "      <td>24</td>\n",
       "      <td>24.0</td>\n",
       "    </tr>\n",
       "    <tr>\n",
       "      <th>633</th>\n",
       "      <td>634</td>\n",
       "      <td>83.43</td>\n",
       "      <td>81</td>\n",
       "      <td>4</td>\n",
       "      <td>21.0</td>\n",
       "    </tr>\n",
       "    <tr>\n",
       "      <th>270</th>\n",
       "      <td>271</td>\n",
       "      <td>64.64</td>\n",
       "      <td>64</td>\n",
       "      <td>1</td>\n",
       "      <td>21.0</td>\n",
       "    </tr>\n",
       "    <tr>\n",
       "      <th>344</th>\n",
       "      <td>345</td>\n",
       "      <td>46.20</td>\n",
       "      <td>44</td>\n",
       "      <td>216</td>\n",
       "      <td>20.0</td>\n",
       "    </tr>\n",
       "    <tr>\n",
       "      <th>177</th>\n",
       "      <td>178</td>\n",
       "      <td>47.85</td>\n",
       "      <td>55</td>\n",
       "      <td>46</td>\n",
       "      <td>20.0</td>\n",
       "    </tr>\n",
       "    <tr>\n",
       "      <th>606</th>\n",
       "      <td>607</td>\n",
       "      <td>58.32</td>\n",
       "      <td>54</td>\n",
       "      <td>204</td>\n",
       "      <td>20.0</td>\n",
       "    </tr>\n",
       "    <tr>\n",
       "      <th>76</th>\n",
       "      <td>77</td>\n",
       "      <td>53.00</td>\n",
       "      <td>50</td>\n",
       "      <td>233</td>\n",
       "      <td>20.0</td>\n",
       "    </tr>\n",
       "    <tr>\n",
       "      <th>498</th>\n",
       "      <td>499</td>\n",
       "      <td>56.73</td>\n",
       "      <td>61</td>\n",
       "      <td>47</td>\n",
       "      <td>20.0</td>\n",
       "    </tr>\n",
       "    <tr>\n",
       "      <th>936</th>\n",
       "      <td>937</td>\n",
       "      <td>45.45</td>\n",
       "      <td>45</td>\n",
       "      <td>9</td>\n",
       "      <td>20.0</td>\n",
       "    </tr>\n",
       "    <tr>\n",
       "      <th>581</th>\n",
       "      <td>582</td>\n",
       "      <td>60.60</td>\n",
       "      <td>60</td>\n",
       "      <td>36</td>\n",
       "      <td>20.0</td>\n",
       "    </tr>\n",
       "    <tr>\n",
       "      <th>523</th>\n",
       "      <td>524</td>\n",
       "      <td>76.65</td>\n",
       "      <td>73</td>\n",
       "      <td>47</td>\n",
       "      <td>19.0</td>\n",
       "    </tr>\n",
       "    <tr>\n",
       "      <th>27</th>\n",
       "      <td>28</td>\n",
       "      <td>51.45</td>\n",
       "      <td>49</td>\n",
       "      <td>52</td>\n",
       "      <td>19.0</td>\n",
       "    </tr>\n",
       "    <tr>\n",
       "      <th>65</th>\n",
       "      <td>66</td>\n",
       "      <td>49.28</td>\n",
       "      <td>56</td>\n",
       "      <td>237</td>\n",
       "      <td>19.0</td>\n",
       "    </tr>\n",
       "    <tr>\n",
       "      <th>231</th>\n",
       "      <td>232</td>\n",
       "      <td>69.01</td>\n",
       "      <td>67</td>\n",
       "      <td>5</td>\n",
       "      <td>19.0</td>\n",
       "    </tr>\n",
       "    <tr>\n",
       "      <th>426</th>\n",
       "      <td>427</td>\n",
       "      <td>62.40</td>\n",
       "      <td>60</td>\n",
       "      <td>195</td>\n",
       "      <td>19.0</td>\n",
       "    </tr>\n",
       "    <tr>\n",
       "      <th>853</th>\n",
       "      <td>854</td>\n",
       "      <td>82.16</td>\n",
       "      <td>79</td>\n",
       "      <td>39</td>\n",
       "      <td>19.0</td>\n",
       "    </tr>\n",
       "  </tbody>\n",
       "</table>\n",
       "</div>"
      ],
      "text/plain": [
       "     vehicle_id  actual_price  recommended_price  description  \\\n",
       "246         247         61.80                 60          208   \n",
       "482         483         51.50                 50           50   \n",
       "686         687         82.62                 81           10   \n",
       "811         812         86.86                 86          142   \n",
       "689         690         58.14                 57           24   \n",
       "633         634         83.43                 81            4   \n",
       "270         271         64.64                 64            1   \n",
       "344         345         46.20                 44          216   \n",
       "177         178         47.85                 55           46   \n",
       "606         607         58.32                 54          204   \n",
       "76           77         53.00                 50          233   \n",
       "498         499         56.73                 61           47   \n",
       "936         937         45.45                 45            9   \n",
       "581         582         60.60                 60           36   \n",
       "523         524         76.65                 73           47   \n",
       "27           28         51.45                 49           52   \n",
       "65           66         49.28                 56          237   \n",
       "231         232         69.01                 67            5   \n",
       "426         427         62.40                 60          195   \n",
       "853         854         82.16                 79           39   \n",
       "\n",
       "     total_reservations  \n",
       "246                25.0  \n",
       "482                25.0  \n",
       "686                25.0  \n",
       "811                24.0  \n",
       "689                24.0  \n",
       "633                21.0  \n",
       "270                21.0  \n",
       "344                20.0  \n",
       "177                20.0  \n",
       "606                20.0  \n",
       "76                 20.0  \n",
       "498                20.0  \n",
       "936                20.0  \n",
       "581                20.0  \n",
       "523                19.0  \n",
       "27                 19.0  \n",
       "65                 19.0  \n",
       "231                19.0  \n",
       "426                19.0  \n",
       "853                19.0  "
      ]
     },
     "execution_count": 385,
     "metadata": {},
     "output_type": "execute_result"
    }
   ],
   "source": [
    "vehicle_subset_sorted = vehicle_subset.sort_values(by=\"total_reservations\",ascending=False)\n",
    "vehicle_subset_sorted.head(20)"
   ]
  },
  {
   "cell_type": "code",
   "execution_count": 386,
   "metadata": {
    "collapsed": false
   },
   "outputs": [
    {
     "data": {
      "text/html": [
       "<div>\n",
       "<table border=\"1\" class=\"dataframe\">\n",
       "  <thead>\n",
       "    <tr style=\"text-align: right;\">\n",
       "      <th></th>\n",
       "      <th>vehicle_id</th>\n",
       "      <th>actual_price</th>\n",
       "      <th>recommended_price</th>\n",
       "      <th>description</th>\n",
       "      <th>total_reservations</th>\n",
       "    </tr>\n",
       "  </thead>\n",
       "  <tbody>\n",
       "    <tr>\n",
       "      <th>254</th>\n",
       "      <td>255</td>\n",
       "      <td>70.30</td>\n",
       "      <td>37</td>\n",
       "      <td>3</td>\n",
       "      <td>0.0</td>\n",
       "    </tr>\n",
       "    <tr>\n",
       "      <th>453</th>\n",
       "      <td>454</td>\n",
       "      <td>59.20</td>\n",
       "      <td>37</td>\n",
       "      <td>218</td>\n",
       "      <td>0.0</td>\n",
       "    </tr>\n",
       "    <tr>\n",
       "      <th>653</th>\n",
       "      <td>654</td>\n",
       "      <td>74.70</td>\n",
       "      <td>83</td>\n",
       "      <td>183</td>\n",
       "      <td>0.0</td>\n",
       "    </tr>\n",
       "    <tr>\n",
       "      <th>238</th>\n",
       "      <td>239</td>\n",
       "      <td>122.67</td>\n",
       "      <td>87</td>\n",
       "      <td>27</td>\n",
       "      <td>0.0</td>\n",
       "    </tr>\n",
       "    <tr>\n",
       "      <th>671</th>\n",
       "      <td>672</td>\n",
       "      <td>97.41</td>\n",
       "      <td>51</td>\n",
       "      <td>48</td>\n",
       "      <td>0.0</td>\n",
       "    </tr>\n",
       "    <tr>\n",
       "      <th>451</th>\n",
       "      <td>452</td>\n",
       "      <td>101.68</td>\n",
       "      <td>62</td>\n",
       "      <td>27</td>\n",
       "      <td>0.0</td>\n",
       "    </tr>\n",
       "    <tr>\n",
       "      <th>924</th>\n",
       "      <td>925</td>\n",
       "      <td>118.20</td>\n",
       "      <td>60</td>\n",
       "      <td>83</td>\n",
       "      <td>0.0</td>\n",
       "    </tr>\n",
       "    <tr>\n",
       "      <th>682</th>\n",
       "      <td>683</td>\n",
       "      <td>117.04</td>\n",
       "      <td>77</td>\n",
       "      <td>190</td>\n",
       "      <td>0.0</td>\n",
       "    </tr>\n",
       "    <tr>\n",
       "      <th>754</th>\n",
       "      <td>755</td>\n",
       "      <td>148.00</td>\n",
       "      <td>74</td>\n",
       "      <td>115</td>\n",
       "      <td>0.0</td>\n",
       "    </tr>\n",
       "    <tr>\n",
       "      <th>705</th>\n",
       "      <td>706</td>\n",
       "      <td>89.46</td>\n",
       "      <td>63</td>\n",
       "      <td>216</td>\n",
       "      <td>0.0</td>\n",
       "    </tr>\n",
       "    <tr>\n",
       "      <th>213</th>\n",
       "      <td>214</td>\n",
       "      <td>60.96</td>\n",
       "      <td>48</td>\n",
       "      <td>24</td>\n",
       "      <td>0.0</td>\n",
       "    </tr>\n",
       "    <tr>\n",
       "      <th>208</th>\n",
       "      <td>209</td>\n",
       "      <td>156.62</td>\n",
       "      <td>82</td>\n",
       "      <td>12</td>\n",
       "      <td>0.0</td>\n",
       "    </tr>\n",
       "    <tr>\n",
       "      <th>910</th>\n",
       "      <td>911</td>\n",
       "      <td>78.31</td>\n",
       "      <td>41</td>\n",
       "      <td>46</td>\n",
       "      <td>0.0</td>\n",
       "    </tr>\n",
       "    <tr>\n",
       "      <th>85</th>\n",
       "      <td>86</td>\n",
       "      <td>103.32</td>\n",
       "      <td>84</td>\n",
       "      <td>239</td>\n",
       "      <td>0.0</td>\n",
       "    </tr>\n",
       "    <tr>\n",
       "      <th>197</th>\n",
       "      <td>198</td>\n",
       "      <td>64.89</td>\n",
       "      <td>63</td>\n",
       "      <td>32</td>\n",
       "      <td>0.0</td>\n",
       "    </tr>\n",
       "    <tr>\n",
       "      <th>443</th>\n",
       "      <td>444</td>\n",
       "      <td>72.61</td>\n",
       "      <td>53</td>\n",
       "      <td>38</td>\n",
       "      <td>0.0</td>\n",
       "    </tr>\n",
       "    <tr>\n",
       "      <th>904</th>\n",
       "      <td>905</td>\n",
       "      <td>91.80</td>\n",
       "      <td>68</td>\n",
       "      <td>9</td>\n",
       "      <td>0.0</td>\n",
       "    </tr>\n",
       "    <tr>\n",
       "      <th>902</th>\n",
       "      <td>903</td>\n",
       "      <td>57.82</td>\n",
       "      <td>49</td>\n",
       "      <td>44</td>\n",
       "      <td>0.0</td>\n",
       "    </tr>\n",
       "    <tr>\n",
       "      <th>901</th>\n",
       "      <td>902</td>\n",
       "      <td>105.21</td>\n",
       "      <td>63</td>\n",
       "      <td>116</td>\n",
       "      <td>0.0</td>\n",
       "    </tr>\n",
       "    <tr>\n",
       "      <th>737</th>\n",
       "      <td>738</td>\n",
       "      <td>111.72</td>\n",
       "      <td>57</td>\n",
       "      <td>19</td>\n",
       "      <td>0.0</td>\n",
       "    </tr>\n",
       "  </tbody>\n",
       "</table>\n",
       "</div>"
      ],
      "text/plain": [
       "     vehicle_id  actual_price  recommended_price  description  \\\n",
       "254         255         70.30                 37            3   \n",
       "453         454         59.20                 37          218   \n",
       "653         654         74.70                 83          183   \n",
       "238         239        122.67                 87           27   \n",
       "671         672         97.41                 51           48   \n",
       "451         452        101.68                 62           27   \n",
       "924         925        118.20                 60           83   \n",
       "682         683        117.04                 77          190   \n",
       "754         755        148.00                 74          115   \n",
       "705         706         89.46                 63          216   \n",
       "213         214         60.96                 48           24   \n",
       "208         209        156.62                 82           12   \n",
       "910         911         78.31                 41           46   \n",
       "85           86        103.32                 84          239   \n",
       "197         198         64.89                 63           32   \n",
       "443         444         72.61                 53           38   \n",
       "904         905         91.80                 68            9   \n",
       "902         903         57.82                 49           44   \n",
       "901         902        105.21                 63          116   \n",
       "737         738        111.72                 57           19   \n",
       "\n",
       "     total_reservations  \n",
       "254                 0.0  \n",
       "453                 0.0  \n",
       "653                 0.0  \n",
       "238                 0.0  \n",
       "671                 0.0  \n",
       "451                 0.0  \n",
       "924                 0.0  \n",
       "682                 0.0  \n",
       "754                 0.0  \n",
       "705                 0.0  \n",
       "213                 0.0  \n",
       "208                 0.0  \n",
       "910                 0.0  \n",
       "85                  0.0  \n",
       "197                 0.0  \n",
       "443                 0.0  \n",
       "904                 0.0  \n",
       "902                 0.0  \n",
       "901                 0.0  \n",
       "737                 0.0  "
      ]
     },
     "execution_count": 386,
     "metadata": {},
     "output_type": "execute_result"
    }
   ],
   "source": [
    "vehicle_subset_sorted.tail(20)"
   ]
  },
  {
   "cell_type": "markdown",
   "metadata": {},
   "source": [
    "That is interesting. See people who are actually having *actual_price* near to that of *recommended_price* have been better rewarded by more number of reservations. They get better reservations. There can be many other hidden variables but this data doesn't have that information."
   ]
  },
  {
   "cell_type": "code",
   "execution_count": 387,
   "metadata": {
    "collapsed": false
   },
   "outputs": [
    {
     "name": "stdout",
     "output_type": "stream",
     "text": [
      "(24, 2)\n"
     ]
    },
    {
     "data": {
      "text/html": [
       "<div>\n",
       "<table border=\"1\" class=\"dataframe\">\n",
       "  <thead>\n",
       "    <tr style=\"text-align: right;\">\n",
       "      <th></th>\n",
       "      <th>actual_price</th>\n",
       "      <th>recommended_price</th>\n",
       "    </tr>\n",
       "    <tr>\n",
       "      <th>total_reservations</th>\n",
       "      <th></th>\n",
       "      <th></th>\n",
       "    </tr>\n",
       "  </thead>\n",
       "  <tbody>\n",
       "    <tr>\n",
       "      <th>0.0</th>\n",
       "      <td>90.516517</td>\n",
       "      <td>61.000000</td>\n",
       "    </tr>\n",
       "    <tr>\n",
       "      <th>1.0</th>\n",
       "      <td>91.550164</td>\n",
       "      <td>61.245902</td>\n",
       "    </tr>\n",
       "    <tr>\n",
       "      <th>2.0</th>\n",
       "      <td>97.547640</td>\n",
       "      <td>64.595506</td>\n",
       "    </tr>\n",
       "    <tr>\n",
       "      <th>3.0</th>\n",
       "      <td>92.107526</td>\n",
       "      <td>62.175258</td>\n",
       "    </tr>\n",
       "    <tr>\n",
       "      <th>4.0</th>\n",
       "      <td>95.871979</td>\n",
       "      <td>62.500000</td>\n",
       "    </tr>\n",
       "    <tr>\n",
       "      <th>5.0</th>\n",
       "      <td>94.831609</td>\n",
       "      <td>62.103448</td>\n",
       "    </tr>\n",
       "    <tr>\n",
       "      <th>6.0</th>\n",
       "      <td>88.943396</td>\n",
       "      <td>62.641509</td>\n",
       "    </tr>\n",
       "    <tr>\n",
       "      <th>7.0</th>\n",
       "      <td>86.430645</td>\n",
       "      <td>62.338710</td>\n",
       "    </tr>\n",
       "    <tr>\n",
       "      <th>8.0</th>\n",
       "      <td>87.309649</td>\n",
       "      <td>62.157895</td>\n",
       "    </tr>\n",
       "    <tr>\n",
       "      <th>9.0</th>\n",
       "      <td>89.644462</td>\n",
       "      <td>65.492308</td>\n",
       "    </tr>\n",
       "    <tr>\n",
       "      <th>10.0</th>\n",
       "      <td>81.966444</td>\n",
       "      <td>58.311111</td>\n",
       "    </tr>\n",
       "    <tr>\n",
       "      <th>11.0</th>\n",
       "      <td>82.248889</td>\n",
       "      <td>60.944444</td>\n",
       "    </tr>\n",
       "    <tr>\n",
       "      <th>12.0</th>\n",
       "      <td>83.561556</td>\n",
       "      <td>64.200000</td>\n",
       "    </tr>\n",
       "    <tr>\n",
       "      <th>13.0</th>\n",
       "      <td>75.753333</td>\n",
       "      <td>61.400000</td>\n",
       "    </tr>\n",
       "    <tr>\n",
       "      <th>14.0</th>\n",
       "      <td>60.527857</td>\n",
       "      <td>54.428571</td>\n",
       "    </tr>\n",
       "    <tr>\n",
       "      <th>15.0</th>\n",
       "      <td>64.982143</td>\n",
       "      <td>59.500000</td>\n",
       "    </tr>\n",
       "    <tr>\n",
       "      <th>16.0</th>\n",
       "      <td>65.380000</td>\n",
       "      <td>64.666667</td>\n",
       "    </tr>\n",
       "    <tr>\n",
       "      <th>17.0</th>\n",
       "      <td>60.031111</td>\n",
       "      <td>61.111111</td>\n",
       "    </tr>\n",
       "    <tr>\n",
       "      <th>18.0</th>\n",
       "      <td>61.401000</td>\n",
       "      <td>65.900000</td>\n",
       "    </tr>\n",
       "    <tr>\n",
       "      <th>19.0</th>\n",
       "      <td>63.377778</td>\n",
       "      <td>61.888889</td>\n",
       "    </tr>\n",
       "    <tr>\n",
       "      <th>20.0</th>\n",
       "      <td>52.592857</td>\n",
       "      <td>52.714286</td>\n",
       "    </tr>\n",
       "    <tr>\n",
       "      <th>21.0</th>\n",
       "      <td>74.035000</td>\n",
       "      <td>72.500000</td>\n",
       "    </tr>\n",
       "    <tr>\n",
       "      <th>24.0</th>\n",
       "      <td>72.500000</td>\n",
       "      <td>71.500000</td>\n",
       "    </tr>\n",
       "    <tr>\n",
       "      <th>25.0</th>\n",
       "      <td>65.306667</td>\n",
       "      <td>63.666667</td>\n",
       "    </tr>\n",
       "  </tbody>\n",
       "</table>\n",
       "</div>"
      ],
      "text/plain": [
       "                    actual_price  recommended_price\n",
       "total_reservations                                 \n",
       "0.0                    90.516517          61.000000\n",
       "1.0                    91.550164          61.245902\n",
       "2.0                    97.547640          64.595506\n",
       "3.0                    92.107526          62.175258\n",
       "4.0                    95.871979          62.500000\n",
       "5.0                    94.831609          62.103448\n",
       "6.0                    88.943396          62.641509\n",
       "7.0                    86.430645          62.338710\n",
       "8.0                    87.309649          62.157895\n",
       "9.0                    89.644462          65.492308\n",
       "10.0                   81.966444          58.311111\n",
       "11.0                   82.248889          60.944444\n",
       "12.0                   83.561556          64.200000\n",
       "13.0                   75.753333          61.400000\n",
       "14.0                   60.527857          54.428571\n",
       "15.0                   64.982143          59.500000\n",
       "16.0                   65.380000          64.666667\n",
       "17.0                   60.031111          61.111111\n",
       "18.0                   61.401000          65.900000\n",
       "19.0                   63.377778          61.888889\n",
       "20.0                   52.592857          52.714286\n",
       "21.0                   74.035000          72.500000\n",
       "24.0                   72.500000          71.500000\n",
       "25.0                   65.306667          63.666667"
      ]
     },
     "execution_count": 387,
     "metadata": {},
     "output_type": "execute_result"
    }
   ],
   "source": [
    "vehicle_subset_group = vehicle_subset.loc[:,[\"actual_price\",\"recommended_price\"]].groupby(vehicle_subset.total_reservations).mean()\n",
    "print(vehicle_subset_group.shape)\n",
    "vehicle_subset_group"
   ]
  },
  {
   "cell_type": "code",
   "execution_count": 455,
   "metadata": {
    "collapsed": false
   },
   "outputs": [
    {
     "data": {
      "image/png": "[encoded data removed]",
      "text/plain": [
       "<matplotlib.figure.Figure at 0x7f4a783a66a0>"
      ]
     },
     "metadata": {},
     "output_type": "display_data"
    }
   ],
   "source": [
    "plt.figure(figsize=(20,30))\n",
    "plt.plot(vehicle_subset_group.index,\n",
    "         abs(vehicle_subset_group.actual_price - vehicle_subset_group.recommended_price),\n",
    "         linewidth=4,color='grey')\n",
    "plt.xlabel(\"Total Number of Reservations\",fontsize=26)\n",
    "plt.ylabel(\"Average Difference in Actual and Recommended Cost\",fontsize=26)\n",
    "plt.xticks(fontsize=20)\n",
    "plt.yticks(fontsize=20)\n",
    "plt.grid()\n",
    "plt.text(17,5,\"We want the car owners to be here\",fontsize=20)\n",
    "plt.title(\"Total Reservations vs Difference in actual and recommended prices\",fontsize=30)\n",
    "plt.savefig(\"Reservation_actual_recomm.png\",dpi=150)\n",
    "plt.show()"
   ]
  },
  {
   "cell_type": "markdown",
   "metadata": {},
   "source": [
    "The above graph proves that if the owners want to have more reservations they should keep the actual price as near to the recommended price.\n",
    "\n",
    "This shows that the **most important features in the dataset are the pricings, more specifically the difference in actual and recommended prices**. "
   ]
  },
  {
   "cell_type": "markdown",
   "metadata": {},
   "source": [
    "### Car technology and reservations."
   ]
  },
  {
   "cell_type": "code",
   "execution_count": 389,
   "metadata": {
    "collapsed": false
   },
   "outputs": [
    {
     "data": {
      "text/html": [
       "<div>\n",
       "<table border=\"1\" class=\"dataframe\">\n",
       "  <thead>\n",
       "    <tr style=\"text-align: right;\">\n",
       "      <th></th>\n",
       "      <th>vehicle_id</th>\n",
       "      <th>technology</th>\n",
       "      <th>total_reservations</th>\n",
       "    </tr>\n",
       "  </thead>\n",
       "  <tbody>\n",
       "    <tr>\n",
       "      <th>0</th>\n",
       "      <td>1</td>\n",
       "      <td>1</td>\n",
       "      <td>1.0</td>\n",
       "    </tr>\n",
       "    <tr>\n",
       "      <th>1</th>\n",
       "      <td>2</td>\n",
       "      <td>0</td>\n",
       "      <td>7.0</td>\n",
       "    </tr>\n",
       "    <tr>\n",
       "      <th>2</th>\n",
       "      <td>3</td>\n",
       "      <td>0</td>\n",
       "      <td>17.0</td>\n",
       "    </tr>\n",
       "    <tr>\n",
       "      <th>3</th>\n",
       "      <td>4</td>\n",
       "      <td>0</td>\n",
       "      <td>2.0</td>\n",
       "    </tr>\n",
       "    <tr>\n",
       "      <th>4</th>\n",
       "      <td>5</td>\n",
       "      <td>0</td>\n",
       "      <td>2.0</td>\n",
       "    </tr>\n",
       "  </tbody>\n",
       "</table>\n",
       "</div>"
      ],
      "text/plain": [
       "   vehicle_id  technology  total_reservations\n",
       "0           1           1                 1.0\n",
       "1           2           0                 7.0\n",
       "2           3           0                17.0\n",
       "3           4           0                 2.0\n",
       "4           5           0                 2.0"
      ]
     },
     "execution_count": 389,
     "metadata": {},
     "output_type": "execute_result"
    }
   ],
   "source": [
    "vehicle_tech = new_vehicles.loc[:,[\"vehicle_id\",\"technology\",\"total_reservations\"]]\n",
    "vehicle_tech.head()"
   ]
  },
  {
   "cell_type": "code",
   "execution_count": 390,
   "metadata": {
    "collapsed": false
   },
   "outputs": [
    {
     "name": "stdout",
     "output_type": "stream",
     "text": [
      "<class 'pandas.core.frame.DataFrame'>\n",
      "Int64Index: 1000 entries, 0 to 999\n",
      "Data columns (total 3 columns):\n",
      "vehicle_id            1000 non-null int64\n",
      "technology            1000 non-null int64\n",
      "total_reservations    1000 non-null float64\n",
      "dtypes: float64(1), int64(2)\n",
      "memory usage: 31.2 KB\n"
     ]
    }
   ],
   "source": [
    "vehicle_tech.info()"
   ]
  },
  {
   "cell_type": "code",
   "execution_count": 391,
   "metadata": {
    "collapsed": false
   },
   "outputs": [
    {
     "data": {
      "text/html": [
       "<div>\n",
       "<table border=\"1\" class=\"dataframe\">\n",
       "  <thead>\n",
       "    <tr style=\"text-align: right;\">\n",
       "      <th></th>\n",
       "      <th>total_reservations</th>\n",
       "    </tr>\n",
       "    <tr>\n",
       "      <th>technology</th>\n",
       "      <th></th>\n",
       "    </tr>\n",
       "  </thead>\n",
       "  <tbody>\n",
       "    <tr>\n",
       "      <th>0</th>\n",
       "      <td>5043.0</td>\n",
       "    </tr>\n",
       "    <tr>\n",
       "      <th>1</th>\n",
       "      <td>1333.0</td>\n",
       "    </tr>\n",
       "  </tbody>\n",
       "</table>\n",
       "</div>"
      ],
      "text/plain": [
       "            total_reservations\n",
       "technology                    \n",
       "0                       5043.0\n",
       "1                       1333.0"
      ]
     },
     "execution_count": 391,
     "metadata": {},
     "output_type": "execute_result"
    }
   ],
   "source": [
    "veh_tec_tot_res = vehicle_tech.groupby(\"technology\").sum().loc[:,[\"total_reservations\"]]\n",
    "veh_tec_tot_res"
   ]
  },
  {
   "cell_type": "code",
   "execution_count": 462,
   "metadata": {
    "collapsed": false
   },
   "outputs": [
    {
     "data": {
      "image/png": "[encoded data removed]",
      "text/plain": [
       "<matplotlib.figure.Figure at 0x7f4a7843d4e0>"
      ]
     },
     "metadata": {},
     "output_type": "display_data"
    }
   ],
   "source": [
    "import matplotlib.ticker as ticker\n",
    "pos_list = (\"No\",\"Yes\")\n",
    "plt.figure(figsize=(20,30))\n",
    "ax = plt.axes()\n",
    "ax.xaxis.set_major_locator(ticker.FixedLocator([0,1]))\n",
    "ax.xaxis.set_major_formatter(ticker.FixedFormatter(pos_list))\n",
    "plt.xticks(fontsize=26)\n",
    "plt.yticks(fontsize=26)\n",
    "plt.xlabel(\"Technology Installed\",fontsize=30)\n",
    "plt.ylabel(\"Total reservations\",fontsize=30)\n",
    "plt.title(\"Technology and Total reservations\",fontsize=30)\n",
    "plt.bar([0,1],veh_tec_tot_res.total_reservations,align='center',color=\"purple\")\n",
    "plt.savefig(\"tech_res.png\",dpi=150)\n",
    "plt.show()"
   ]
  },
  {
   "cell_type": "markdown",
   "metadata": {},
   "source": [
    "From this it seems that most of reservations that were made didn't have any technology involved in it. So, it seems most people don't want technology in their cars. "
   ]
  },
  {
   "cell_type": "code",
   "execution_count": 393,
   "metadata": {
    "collapsed": false
   },
   "outputs": [
    {
     "data": {
      "image/png": "[encoded data removed]",
      "text/plain": [
       "<matplotlib.figure.Figure at 0x7f4a6b59ad68>"
      ]
     },
     "metadata": {},
     "output_type": "display_data"
    }
   ],
   "source": [
    "plt.title('Feature Importances')\n",
    "plt.bar(range(new_vehicle_std.shape[1]),importances[indices],color='lightblue',align='center')\n",
    "plt.xticks(range(new_vehicle_std.shape[1]),columns[indices],rotation=90)\n",
    "plt.show()"
   ]
  },
  {
   "cell_type": "markdown",
   "metadata": {},
   "source": [
    "Also from our feature importance graph we can see that technology is the least important feature in the whole dataset and doesn't affect the total reservations much."
   ]
  },
  {
   "cell_type": "code",
   "execution_count": 394,
   "metadata": {
    "collapsed": false
   },
   "outputs": [],
   "source": [
    "hourly_reservations = reservations.loc[(reservations.reservation_type == 1),:]\n",
    "daily_reservations = reservations.loc[(reservations.reservation_type == 2),:]\n",
    "weekly_reservations = reservations.loc[(reservations.reservation_type == 3),:]"
   ]
  },
  {
   "cell_type": "code",
   "execution_count": 395,
   "metadata": {
    "collapsed": false
   },
   "outputs": [
    {
     "name": "stdout",
     "output_type": "stream",
     "text": [
      "## Hourly Reservations ##\n",
      "<class 'pandas.core.frame.DataFrame'>\n",
      "Int64Index: 2339 entries, 0 to 6370\n",
      "Data columns (total 2 columns):\n",
      "vehicle_id          2339 non-null int64\n",
      "reservation_type    2339 non-null int64\n",
      "dtypes: int64(2)\n",
      "memory usage: 54.8 KB\n",
      "\n",
      "\n",
      "## Daily Reservations ##\n",
      "<class 'pandas.core.frame.DataFrame'>\n",
      "Int64Index: 2057 entries, 3 to 6375\n",
      "Data columns (total 2 columns):\n",
      "vehicle_id          2057 non-null int64\n",
      "reservation_type    2057 non-null int64\n",
      "dtypes: int64(2)\n",
      "memory usage: 48.2 KB\n",
      "\n",
      "\n",
      "## Weekly Reservations ##\n",
      "<class 'pandas.core.frame.DataFrame'>\n",
      "Int64Index: 1980 entries, 1 to 6373\n",
      "Data columns (total 2 columns):\n",
      "vehicle_id          1980 non-null int64\n",
      "reservation_type    1980 non-null int64\n",
      "dtypes: int64(2)\n",
      "memory usage: 46.4 KB\n"
     ]
    }
   ],
   "source": [
    "print(\"## Hourly Reservations ##\")\n",
    "hourly_reservations.info()\n",
    "print(\"\\n\")\n",
    "\n",
    "print(\"## Daily Reservations ##\")\n",
    "daily_reservations.info()\n",
    "print(\"\\n\")\n",
    "\n",
    "print(\"## Weekly Reservations ##\")\n",
    "weekly_reservations.info()\n"
   ]
  },
  {
   "cell_type": "code",
   "execution_count": 396,
   "metadata": {
    "collapsed": false
   },
   "outputs": [
    {
     "name": "stdout",
     "output_type": "stream",
     "text": [
      "<class 'pandas.core.frame.DataFrame'>\n",
      "Int64Index: 2339 entries, 0 to 2338\n",
      "Data columns (total 8 columns):\n",
      "vehicle_id           2339 non-null int64\n",
      "technology           2339 non-null int64\n",
      "actual_price         2339 non-null float64\n",
      "recommended_price    2339 non-null int64\n",
      "num_images           2339 non-null int64\n",
      "street_parked        2339 non-null int64\n",
      "description          2339 non-null int64\n",
      "reservation_type     2339 non-null int64\n",
      "dtypes: float64(1), int64(7)\n",
      "memory usage: 164.5 KB\n"
     ]
    }
   ],
   "source": [
    "hourly_veh_res = pd.merge(vehicles,hourly_reservations,on=\"vehicle_id\",how=\"inner\")\n",
    "hourly_veh_res.info()"
   ]
  },
  {
   "cell_type": "code",
   "execution_count": 397,
   "metadata": {
    "collapsed": false
   },
   "outputs": [
    {
     "name": "stdout",
     "output_type": "stream",
     "text": [
      "Hourly with technology: 650\n",
      "Hourly without technology: 1689\n",
      "With technology 27.790 %\n",
      "Without technology 72.210 %\n"
     ]
    }
   ],
   "source": [
    "print(\"Hourly with technology:\",hourly_veh_res.technology.sum())\n",
    "print(\"Hourly without technology:\",hourly_veh_res.shape[0] - hourly_veh_res.technology.sum())\n",
    "print(\"With technology {:0.3f} %\".format(hourly_veh_res.technology.sum()/(hourly_veh_res.shape[0])*100))\n",
    "print(\"Without technology {:0.3f} %\".format(100-(hourly_veh_res.technology.sum()/(hourly_veh_res.shape[0])*100)))"
   ]
  },
  {
   "cell_type": "code",
   "execution_count": 398,
   "metadata": {
    "collapsed": false
   },
   "outputs": [
    {
     "data": {
      "text/html": [
       "<div>\n",
       "<table border=\"1\" class=\"dataframe\">\n",
       "  <thead>\n",
       "    <tr style=\"text-align: right;\">\n",
       "      <th></th>\n",
       "      <th>vehicle_id</th>\n",
       "      <th>technology</th>\n",
       "      <th>actual_price</th>\n",
       "      <th>recommended_price</th>\n",
       "      <th>num_images</th>\n",
       "      <th>street_parked</th>\n",
       "      <th>description</th>\n",
       "      <th>reservation_type</th>\n",
       "    </tr>\n",
       "  </thead>\n",
       "  <tbody>\n",
       "    <tr>\n",
       "      <th>0</th>\n",
       "      <td>2</td>\n",
       "      <td>0</td>\n",
       "      <td>100.7</td>\n",
       "      <td>53</td>\n",
       "      <td>5</td>\n",
       "      <td>0</td>\n",
       "      <td>224</td>\n",
       "      <td>2</td>\n",
       "    </tr>\n",
       "    <tr>\n",
       "      <th>1</th>\n",
       "      <td>2</td>\n",
       "      <td>0</td>\n",
       "      <td>100.7</td>\n",
       "      <td>53</td>\n",
       "      <td>5</td>\n",
       "      <td>0</td>\n",
       "      <td>224</td>\n",
       "      <td>2</td>\n",
       "    </tr>\n",
       "    <tr>\n",
       "      <th>2</th>\n",
       "      <td>2</td>\n",
       "      <td>0</td>\n",
       "      <td>100.7</td>\n",
       "      <td>53</td>\n",
       "      <td>5</td>\n",
       "      <td>0</td>\n",
       "      <td>224</td>\n",
       "      <td>2</td>\n",
       "    </tr>\n",
       "    <tr>\n",
       "      <th>3</th>\n",
       "      <td>3</td>\n",
       "      <td>0</td>\n",
       "      <td>74.0</td>\n",
       "      <td>74</td>\n",
       "      <td>4</td>\n",
       "      <td>1</td>\n",
       "      <td>21</td>\n",
       "      <td>2</td>\n",
       "    </tr>\n",
       "    <tr>\n",
       "      <th>4</th>\n",
       "      <td>3</td>\n",
       "      <td>0</td>\n",
       "      <td>74.0</td>\n",
       "      <td>74</td>\n",
       "      <td>4</td>\n",
       "      <td>1</td>\n",
       "      <td>21</td>\n",
       "      <td>2</td>\n",
       "    </tr>\n",
       "  </tbody>\n",
       "</table>\n",
       "</div>"
      ],
      "text/plain": [
       "   vehicle_id  technology  actual_price  recommended_price  num_images  \\\n",
       "0           2           0         100.7                 53           5   \n",
       "1           2           0         100.7                 53           5   \n",
       "2           2           0         100.7                 53           5   \n",
       "3           3           0          74.0                 74           4   \n",
       "4           3           0          74.0                 74           4   \n",
       "\n",
       "   street_parked  description  reservation_type  \n",
       "0              0          224                 2  \n",
       "1              0          224                 2  \n",
       "2              0          224                 2  \n",
       "3              1           21                 2  \n",
       "4              1           21                 2  "
      ]
     },
     "execution_count": 398,
     "metadata": {},
     "output_type": "execute_result"
    }
   ],
   "source": [
    "daily_veh_res = pd.merge(vehicles,daily_reservations,on=\"vehicle_id\",how=\"inner\")\n",
    "daily_veh_res.head()"
   ]
  },
  {
   "cell_type": "code",
   "execution_count": 399,
   "metadata": {
    "collapsed": false
   },
   "outputs": [
    {
     "name": "stdout",
     "output_type": "stream",
     "text": [
      "Daily with technology: 352\n",
      "Daily without technology: 1705\n",
      "With technology 17.112 %\n",
      "Without technology 82.888 %\n"
     ]
    }
   ],
   "source": [
    "print(\"Daily with technology:\",daily_veh_res.technology.sum())\n",
    "print(\"Daily without technology:\",daily_veh_res.shape[0] - daily_veh_res.technology.sum())\n",
    "print(\"With technology {:0.3f} %\".format(daily_veh_res.technology.sum()/(daily_veh_res.shape[0])*100))\n",
    "print(\"Without technology {:0.3f} %\".format(100-(daily_veh_res.technology.sum()/(daily_veh_res.shape[0])*100)))"
   ]
  },
  {
   "cell_type": "code",
   "execution_count": 400,
   "metadata": {
    "collapsed": false
   },
   "outputs": [
    {
     "data": {
      "text/html": [
       "<div>\n",
       "<table border=\"1\" class=\"dataframe\">\n",
       "  <thead>\n",
       "    <tr style=\"text-align: right;\">\n",
       "      <th></th>\n",
       "      <th>vehicle_id</th>\n",
       "      <th>technology</th>\n",
       "      <th>actual_price</th>\n",
       "      <th>recommended_price</th>\n",
       "      <th>num_images</th>\n",
       "      <th>street_parked</th>\n",
       "      <th>description</th>\n",
       "      <th>reservation_type</th>\n",
       "    </tr>\n",
       "  </thead>\n",
       "  <tbody>\n",
       "    <tr>\n",
       "      <th>0</th>\n",
       "      <td>3</td>\n",
       "      <td>0</td>\n",
       "      <td>74.0</td>\n",
       "      <td>74</td>\n",
       "      <td>4</td>\n",
       "      <td>1</td>\n",
       "      <td>21</td>\n",
       "      <td>3</td>\n",
       "    </tr>\n",
       "    <tr>\n",
       "      <th>1</th>\n",
       "      <td>3</td>\n",
       "      <td>0</td>\n",
       "      <td>74.0</td>\n",
       "      <td>74</td>\n",
       "      <td>4</td>\n",
       "      <td>1</td>\n",
       "      <td>21</td>\n",
       "      <td>3</td>\n",
       "    </tr>\n",
       "    <tr>\n",
       "      <th>2</th>\n",
       "      <td>3</td>\n",
       "      <td>0</td>\n",
       "      <td>74.0</td>\n",
       "      <td>74</td>\n",
       "      <td>4</td>\n",
       "      <td>1</td>\n",
       "      <td>21</td>\n",
       "      <td>3</td>\n",
       "    </tr>\n",
       "    <tr>\n",
       "      <th>3</th>\n",
       "      <td>3</td>\n",
       "      <td>0</td>\n",
       "      <td>74.0</td>\n",
       "      <td>74</td>\n",
       "      <td>4</td>\n",
       "      <td>1</td>\n",
       "      <td>21</td>\n",
       "      <td>3</td>\n",
       "    </tr>\n",
       "    <tr>\n",
       "      <th>4</th>\n",
       "      <td>3</td>\n",
       "      <td>0</td>\n",
       "      <td>74.0</td>\n",
       "      <td>74</td>\n",
       "      <td>4</td>\n",
       "      <td>1</td>\n",
       "      <td>21</td>\n",
       "      <td>3</td>\n",
       "    </tr>\n",
       "  </tbody>\n",
       "</table>\n",
       "</div>"
      ],
      "text/plain": [
       "   vehicle_id  technology  actual_price  recommended_price  num_images  \\\n",
       "0           3           0          74.0                 74           4   \n",
       "1           3           0          74.0                 74           4   \n",
       "2           3           0          74.0                 74           4   \n",
       "3           3           0          74.0                 74           4   \n",
       "4           3           0          74.0                 74           4   \n",
       "\n",
       "   street_parked  description  reservation_type  \n",
       "0              1           21                 3  \n",
       "1              1           21                 3  \n",
       "2              1           21                 3  \n",
       "3              1           21                 3  \n",
       "4              1           21                 3  "
      ]
     },
     "execution_count": 400,
     "metadata": {},
     "output_type": "execute_result"
    }
   ],
   "source": [
    "weekly_veh_res = pd.merge(vehicles,weekly_reservations,on=\"vehicle_id\",how=\"inner\")\n",
    "weekly_veh_res.head()"
   ]
  },
  {
   "cell_type": "code",
   "execution_count": 401,
   "metadata": {
    "collapsed": false
   },
   "outputs": [
    {
     "name": "stdout",
     "output_type": "stream",
     "text": [
      "Weekly with technology: 331\n",
      "Weekly without technology: 1628\n",
      "With technology 16.717 %\n",
      "Without technology 83.283 %\n"
     ]
    }
   ],
   "source": [
    "print(\"Weekly with technology:\",weekly_veh_res.technology.sum())\n",
    "print(\"Weekly without technology:\",weekly_veh_res.shape[0] - daily_veh_res.technology.sum())\n",
    "print(\"With technology {:0.3f} %\".format(weekly_veh_res.technology.sum()/(weekly_veh_res.shape[0])*100))\n",
    "print(\"Without technology {:0.3f} %\".format(100-(weekly_veh_res.technology.sum()/(weekly_veh_res.shape[0])*100)))"
   ]
  },
  {
   "cell_type": "markdown",
   "metadata": {},
   "source": [
    "It appears people don't want high technology cars. Question is why?"
   ]
  }
 ],
 "metadata": {
  "anaconda-cloud": {},
  "kernelspec": {
   "display_name": "Python [Root]",
   "language": "python",
   "name": "Python [Root]"
  },
  "language_info": {
   "codemirror_mode": {
    "name": "ipython",
    "version": 3
   },
   "file_extension": ".py",
   "mimetype": "text/x-python",
   "name": "python",
   "nbconvert_exporter": "python",
   "pygments_lexer": "ipython3",
   "version": "3.5.2"
  }
 },
 "nbformat": 4,
 "nbformat_minor": 0
}
