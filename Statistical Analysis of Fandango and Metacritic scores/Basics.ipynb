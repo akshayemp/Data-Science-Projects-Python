{
 "cells": [
  {
   "cell_type": "markdown",
   "metadata": {},
   "source": [
    "# Statistical analysis movie reviews"
   ]
  },
  {
   "cell_type": "code",
   "execution_count": 1,
   "metadata": {
    "collapsed": false
   },
   "outputs": [
    {
     "data": {
      "text/html": [
       "<div style=\"max-height:1000px;max-width:1500px;overflow:auto;\">\n",
       "<table border=\"1\" class=\"dataframe\">\n",
       "  <thead>\n",
       "    <tr style=\"text-align: right;\">\n",
       "      <th></th>\n",
       "      <th>FILM</th>\n",
       "      <th>RottenTomatoes</th>\n",
       "      <th>RottenTomatoes_User</th>\n",
       "      <th>Metacritic</th>\n",
       "      <th>Metacritic_User</th>\n",
       "      <th>IMDB</th>\n",
       "      <th>Fandango_Stars</th>\n",
       "      <th>Fandango_Ratingvalue</th>\n",
       "      <th>RT_norm</th>\n",
       "      <th>RT_user_norm</th>\n",
       "      <th>...</th>\n",
       "      <th>IMDB_norm</th>\n",
       "      <th>RT_norm_round</th>\n",
       "      <th>RT_user_norm_round</th>\n",
       "      <th>Metacritic_norm_round</th>\n",
       "      <th>Metacritic_user_norm_round</th>\n",
       "      <th>IMDB_norm_round</th>\n",
       "      <th>Metacritic_user_vote_count</th>\n",
       "      <th>IMDB_user_vote_count</th>\n",
       "      <th>Fandango_votes</th>\n",
       "      <th>Fandango_Difference</th>\n",
       "    </tr>\n",
       "  </thead>\n",
       "  <tbody>\n",
       "    <tr>\n",
       "      <th>0</th>\n",
       "      <td> Avengers: Age of Ultron (2015)</td>\n",
       "      <td> 74</td>\n",
       "      <td> 86</td>\n",
       "      <td> 66</td>\n",
       "      <td> 7.1</td>\n",
       "      <td> 7.8</td>\n",
       "      <td> 5.0</td>\n",
       "      <td> 4.5</td>\n",
       "      <td> 3.70</td>\n",
       "      <td> 4.3</td>\n",
       "      <td>...</td>\n",
       "      <td> 3.90</td>\n",
       "      <td> 3.5</td>\n",
       "      <td> 4.5</td>\n",
       "      <td> 3.5</td>\n",
       "      <td> 3.5</td>\n",
       "      <td> 4.0</td>\n",
       "      <td> 1330</td>\n",
       "      <td> 271107</td>\n",
       "      <td> 14846</td>\n",
       "      <td> 0.5</td>\n",
       "    </tr>\n",
       "    <tr>\n",
       "      <th>1</th>\n",
       "      <td>              Cinderella (2015)</td>\n",
       "      <td> 85</td>\n",
       "      <td> 80</td>\n",
       "      <td> 67</td>\n",
       "      <td> 7.5</td>\n",
       "      <td> 7.1</td>\n",
       "      <td> 5.0</td>\n",
       "      <td> 4.5</td>\n",
       "      <td> 4.25</td>\n",
       "      <td> 4.0</td>\n",
       "      <td>...</td>\n",
       "      <td> 3.55</td>\n",
       "      <td> 4.5</td>\n",
       "      <td> 4.0</td>\n",
       "      <td> 3.5</td>\n",
       "      <td> 4.0</td>\n",
       "      <td> 3.5</td>\n",
       "      <td>  249</td>\n",
       "      <td>  65709</td>\n",
       "      <td> 12640</td>\n",
       "      <td> 0.5</td>\n",
       "    </tr>\n",
       "    <tr>\n",
       "      <th>2</th>\n",
       "      <td>                 Ant-Man (2015)</td>\n",
       "      <td> 80</td>\n",
       "      <td> 90</td>\n",
       "      <td> 64</td>\n",
       "      <td> 8.1</td>\n",
       "      <td> 7.8</td>\n",
       "      <td> 5.0</td>\n",
       "      <td> 4.5</td>\n",
       "      <td> 4.00</td>\n",
       "      <td> 4.5</td>\n",
       "      <td>...</td>\n",
       "      <td> 3.90</td>\n",
       "      <td> 4.0</td>\n",
       "      <td> 4.5</td>\n",
       "      <td> 3.0</td>\n",
       "      <td> 4.0</td>\n",
       "      <td> 4.0</td>\n",
       "      <td>  627</td>\n",
       "      <td> 103660</td>\n",
       "      <td> 12055</td>\n",
       "      <td> 0.5</td>\n",
       "    </tr>\n",
       "    <tr>\n",
       "      <th>3</th>\n",
       "      <td>         Do You Believe? (2015)</td>\n",
       "      <td> 18</td>\n",
       "      <td> 84</td>\n",
       "      <td> 22</td>\n",
       "      <td> 4.7</td>\n",
       "      <td> 5.4</td>\n",
       "      <td> 5.0</td>\n",
       "      <td> 4.5</td>\n",
       "      <td> 0.90</td>\n",
       "      <td> 4.2</td>\n",
       "      <td>...</td>\n",
       "      <td> 2.70</td>\n",
       "      <td> 1.0</td>\n",
       "      <td> 4.0</td>\n",
       "      <td> 1.0</td>\n",
       "      <td> 2.5</td>\n",
       "      <td> 2.5</td>\n",
       "      <td>   31</td>\n",
       "      <td>   3136</td>\n",
       "      <td>  1793</td>\n",
       "      <td> 0.5</td>\n",
       "    </tr>\n",
       "    <tr>\n",
       "      <th>4</th>\n",
       "      <td>  Hot Tub Time Machine 2 (2015)</td>\n",
       "      <td> 14</td>\n",
       "      <td> 28</td>\n",
       "      <td> 29</td>\n",
       "      <td> 3.4</td>\n",
       "      <td> 5.1</td>\n",
       "      <td> 3.5</td>\n",
       "      <td> 3.0</td>\n",
       "      <td> 0.70</td>\n",
       "      <td> 1.4</td>\n",
       "      <td>...</td>\n",
       "      <td> 2.55</td>\n",
       "      <td> 0.5</td>\n",
       "      <td> 1.5</td>\n",
       "      <td> 1.5</td>\n",
       "      <td> 1.5</td>\n",
       "      <td> 2.5</td>\n",
       "      <td>   88</td>\n",
       "      <td>  19560</td>\n",
       "      <td>  1021</td>\n",
       "      <td> 0.5</td>\n",
       "    </tr>\n",
       "  </tbody>\n",
       "</table>\n",
       "<p>5 rows × 22 columns</p>\n",
       "</div>"
      ],
      "text/plain": [
       "                             FILM  RottenTomatoes  RottenTomatoes_User  \\\n",
       "0  Avengers: Age of Ultron (2015)              74                   86   \n",
       "1               Cinderella (2015)              85                   80   \n",
       "2                  Ant-Man (2015)              80                   90   \n",
       "3          Do You Believe? (2015)              18                   84   \n",
       "4   Hot Tub Time Machine 2 (2015)              14                   28   \n",
       "\n",
       "   Metacritic  Metacritic_User  IMDB  Fandango_Stars  Fandango_Ratingvalue  \\\n",
       "0          66              7.1   7.8             5.0                   4.5   \n",
       "1          67              7.5   7.1             5.0                   4.5   \n",
       "2          64              8.1   7.8             5.0                   4.5   \n",
       "3          22              4.7   5.4             5.0                   4.5   \n",
       "4          29              3.4   5.1             3.5                   3.0   \n",
       "\n",
       "   RT_norm  RT_user_norm         ...           IMDB_norm  RT_norm_round  \\\n",
       "0     3.70           4.3         ...                3.90            3.5   \n",
       "1     4.25           4.0         ...                3.55            4.5   \n",
       "2     4.00           4.5         ...                3.90            4.0   \n",
       "3     0.90           4.2         ...                2.70            1.0   \n",
       "4     0.70           1.4         ...                2.55            0.5   \n",
       "\n",
       "   RT_user_norm_round  Metacritic_norm_round  Metacritic_user_norm_round  \\\n",
       "0                 4.5                    3.5                         3.5   \n",
       "1                 4.0                    3.5                         4.0   \n",
       "2                 4.5                    3.0                         4.0   \n",
       "3                 4.0                    1.0                         2.5   \n",
       "4                 1.5                    1.5                         1.5   \n",
       "\n",
       "   IMDB_norm_round  Metacritic_user_vote_count  IMDB_user_vote_count  \\\n",
       "0              4.0                        1330                271107   \n",
       "1              3.5                         249                 65709   \n",
       "2              4.0                         627                103660   \n",
       "3              2.5                          31                  3136   \n",
       "4              2.5                          88                 19560   \n",
       "\n",
       "   Fandango_votes  Fandango_Difference  \n",
       "0           14846                  0.5  \n",
       "1           12640                  0.5  \n",
       "2           12055                  0.5  \n",
       "3            1793                  0.5  \n",
       "4            1021                  0.5  \n",
       "\n",
       "[5 rows x 22 columns]"
      ]
     },
     "execution_count": 1,
     "metadata": {},
     "output_type": "execute_result"
    }
   ],
   "source": [
    "import pandas as pd\n",
    "import matplotlib.pyplot as plt\n",
    "import numpy as np\n",
    "%matplotlib inline\n",
    "\n",
    "movies = pd.read_csv('fandango_score_comparison.csv')\n",
    "movies.head()"
   ]
  },
  {
   "cell_type": "markdown",
   "metadata": {},
   "source": [
    "## Data Exploration"
   ]
  },
  {
   "cell_type": "code",
   "execution_count": 7,
   "metadata": {
    "collapsed": false
   },
   "outputs": [
    {
     "data": {
      "image/png": "[encoded data removed]",
      "text/plain": [
       "<matplotlib.figure.Figure at 0x7fdb91565d30>"
      ]
     },
     "metadata": {},
     "output_type": "display_data"
    },
    {
     "data": {
      "image/png": "[encoded data removed]",
      "text/plain": [
       "<matplotlib.figure.Figure at 0x7fdb9150ba58>"
      ]
     },
     "metadata": {},
     "output_type": "display_data"
    }
   ],
   "source": [
    "movies[\"Fandango_Stars\"].hist()\n",
    "plt.xlabel(\"Fandango_Stars\")\n",
    "plt.show()\n",
    "movies[\"Metacritic_norm_round\"].hist()\n",
    "plt.xlabel(\"Metacritic_norm_round\")\n",
    "plt.show()"
   ]
  },
  {
   "cell_type": "markdown",
   "metadata": {},
   "source": [
    "The reviews given by Fandango is really very high every movie has atleast scored a 3 which is very fishy. On the other hand Metacritic scores are evenly distributed."
   ]
  },
  {
   "cell_type": "markdown",
   "metadata": {},
   "source": [
    "## Mean, median and standard deviation"
   ]
  },
  {
   "cell_type": "code",
   "execution_count": 12,
   "metadata": {
    "collapsed": false
   },
   "outputs": [
    {
     "name": "stdout",
     "output_type": "stream",
     "text": [
      "Means: \n",
      "Fandango:  4.08904109589\n",
      "Metacritic:  2.97260273973\n",
      "\n",
      "Median: \n",
      "Fandango:  4.0\n",
      "Metacritic:  3.0\n",
      "\n",
      "Standard Deviation: \n",
      "Fandango:  0.540385977979\n",
      "Metacritic:  0.990960561374\n"
     ]
    }
   ],
   "source": [
    "fandango_stars = movies[\"Fandango_Stars\"]\n",
    "metacritic_norm_round = movies[\"Metacritic_norm_round\"]\n",
    "# Mean\n",
    "\n",
    "f_mean = fandango_stars.mean()\n",
    "m_mean = metacritic_norm_round.mean()\n",
    "\n",
    "# Median\n",
    "f_median = fandango_stars.median()\n",
    "m_median = metacritic_norm_round.median()\n",
    "\n",
    "# Standard Deviation\n",
    "\n",
    "f_std = fandango_stars.std()\n",
    "m_std = metacritic_norm_round.std()\n",
    "\n",
    "print(\"Means: \")\n",
    "print(\"Fandango: \", f_mean)\n",
    "print(\"Metacritic: \",m_mean)\n",
    "\n",
    "print(\"\\nMedian: \")\n",
    "print(\"Fandango: \",f_median)\n",
    "print(\"Metacritic: \",m_median)\n",
    "\n",
    "print(\"\\nStandard Deviation: \")\n",
    "print(\"Fandango: \",f_std)\n",
    "print(\"Metacritic: \",m_std)"
   ]
  },
  {
   "cell_type": "markdown",
   "metadata": {},
   "source": [
    "The median of Metacritic is 3.0 and mean 2.97 . Therefore 50% of the sample has a score of 3.0 or less and others are above 3.0."
   ]
  },
  {
   "cell_type": "markdown",
   "metadata": {},
   "source": [
    "The standard deviation of Fandango is lower that means that the scores are very closely packed and vary the least."
   ]
  },
  {
   "cell_type": "code",
   "execution_count": 14,
   "metadata": {
    "collapsed": false
   },
   "outputs": [
    {
     "data": {
      "image/png": "[encoded data removed]",
      "text/plain": [
       "<matplotlib.figure.Figure at 0x7fdb91344e48>"
      ]
     },
     "metadata": {},
     "output_type": "display_data"
    }
   ],
   "source": [
    "plt.scatter(fandango_stars, metacritic_norm_round)\n",
    "plt.xlabel(\"Fandango Stars\")\n",
    "plt.ylabel(\"Metacritic norm rounds\")\n",
    "plt.show()"
   ]
  },
  {
   "cell_type": "code",
   "execution_count": 19,
   "metadata": {
    "collapsed": false
   },
   "outputs": [
    {
     "data": {
      "text/html": [
       "<div style=\"max-height:1000px;max-width:1500px;overflow:auto;\">\n",
       "<table border=\"1\" class=\"dataframe\">\n",
       "  <thead>\n",
       "    <tr style=\"text-align: right;\">\n",
       "      <th></th>\n",
       "      <th>FILM</th>\n",
       "      <th>fm_diff</th>\n",
       "    </tr>\n",
       "  </thead>\n",
       "  <tbody>\n",
       "    <tr>\n",
       "      <th>0</th>\n",
       "      <td> Avengers: Age of Ultron (2015)</td>\n",
       "      <td> 1.5</td>\n",
       "    </tr>\n",
       "    <tr>\n",
       "      <th>1</th>\n",
       "      <td>              Cinderella (2015)</td>\n",
       "      <td> 1.5</td>\n",
       "    </tr>\n",
       "    <tr>\n",
       "      <th>2</th>\n",
       "      <td>                 Ant-Man (2015)</td>\n",
       "      <td> 2.0</td>\n",
       "    </tr>\n",
       "    <tr>\n",
       "      <th>3</th>\n",
       "      <td>         Do You Believe? (2015)</td>\n",
       "      <td> 4.0</td>\n",
       "    </tr>\n",
       "    <tr>\n",
       "      <th>4</th>\n",
       "      <td>  Hot Tub Time Machine 2 (2015)</td>\n",
       "      <td> 2.0</td>\n",
       "    </tr>\n",
       "  </tbody>\n",
       "</table>\n",
       "</div>"
      ],
      "text/plain": [
       "                             FILM  fm_diff\n",
       "0  Avengers: Age of Ultron (2015)      1.5\n",
       "1               Cinderella (2015)      1.5\n",
       "2                  Ant-Man (2015)      2.0\n",
       "3          Do You Believe? (2015)      4.0\n",
       "4   Hot Tub Time Machine 2 (2015)      2.0"
      ]
     },
     "execution_count": 19,
     "metadata": {},
     "output_type": "execute_result"
    }
   ],
   "source": [
    "fm_diff = metacritic_norm_round - fandango_stars\n",
    "movies[\"fm_diff\"] = np.abs(fm_diff)\n",
    "movies.sort(columns = \"fm_diff\")\n",
    "movies[[\"FILM\",\"fm_diff\"]].head()"
   ]
  },
  {
   "cell_type": "code",
   "execution_count": 22,
   "metadata": {
    "collapsed": false
   },
   "outputs": [
    {
     "data": {
      "text/html": [
       "<div style=\"max-height:1000px;max-width:1500px;overflow:auto;\">\n",
       "<table border=\"1\" class=\"dataframe\">\n",
       "  <thead>\n",
       "    <tr style=\"text-align: right;\">\n",
       "      <th></th>\n",
       "      <th>Fandango_Stars</th>\n",
       "      <th>Metacritic_norm_round</th>\n",
       "    </tr>\n",
       "  </thead>\n",
       "  <tbody>\n",
       "    <tr>\n",
       "      <th>Fandango_Stars</th>\n",
       "      <td> 1.000000</td>\n",
       "      <td> 0.178449</td>\n",
       "    </tr>\n",
       "    <tr>\n",
       "      <th>Metacritic_norm_round</th>\n",
       "      <td> 0.178449</td>\n",
       "      <td> 1.000000</td>\n",
       "    </tr>\n",
       "  </tbody>\n",
       "</table>\n",
       "</div>"
      ],
      "text/plain": [
       "                       Fandango_Stars  Metacritic_norm_round\n",
       "Fandango_Stars               1.000000               0.178449\n",
       "Metacritic_norm_round        0.178449               1.000000"
      ]
     },
     "execution_count": 22,
     "metadata": {},
     "output_type": "execute_result"
    }
   ],
   "source": [
    "movies[[\"Fandango_Stars\",\"Metacritic_norm_round\"]].corr(method = \"pearson\")"
   ]
  },
  {
   "cell_type": "markdown",
   "metadata": {},
   "source": [
    "There's a small yet positive correlation between the Fandango's rating and Metacritic scores. Therefore, the ratings are fairly independent."
   ]
  },
  {
   "cell_type": "code",
   "execution_count": 25,
   "metadata": {
    "collapsed": false
   },
   "outputs": [],
   "source": [
    "from scipy.stats import linregress\n",
    "slope, intercept, r_value, p_value, std_err = linregress(metacritic_norm_round, fandango_stars)"
   ]
  },
  {
   "cell_type": "markdown",
   "metadata": {},
   "source": [
    "#### Predicting the values of Fandango using linear regression"
   ]
  },
  {
   "cell_type": "code",
   "execution_count": 28,
   "metadata": {
    "collapsed": false
   },
   "outputs": [
    {
     "name": "stdout",
     "output_type": "stream",
     "text": [
      "Fandango stars:  4.09170715282\n"
     ]
    }
   ],
   "source": [
    "y1 = slope * 3.0 + intercept\n",
    "print(\"Fandango stars: \", y1)"
   ]
  },
  {
   "cell_type": "markdown",
   "metadata": {},
   "source": [
    "So a movie which has scored a 3.0 on a metacritic scale will score a 4.0 on the Fandango scale. Which is very likely to be unusually higher."
   ]
  },
  {
   "cell_type": "code",
   "execution_count": 38,
   "metadata": {
    "collapsed": false
   },
   "outputs": [
    {
     "data": {
      "image/png": "[encoded data removed]",
      "text/plain": [
       "<matplotlib.figure.Figure at 0x7fdac005a668>"
      ]
     },
     "metadata": {},
     "output_type": "display_data"
    }
   ],
   "source": [
    "y2 = slope * 4.0 + intercept\n",
    "plt.scatter(metacritic_norm_round, fandango_stars)\n",
    "plt.plot([3,4],[y1,y2])\n",
    "plt.xlim([3,4])\n",
    "plt.xlabel(\"Metacritic scores\")\n",
    "plt.ylabel(\"Fandango Stars\")\n",
    "plt.show()"
   ]
  },
  {
   "cell_type": "code",
   "execution_count": null,
   "metadata": {
    "collapsed": true
   },
   "outputs": [],
   "source": []
  }
 ],
 "metadata": {
  "kernelspec": {
   "display_name": "Python 3",
   "language": "python",
   "name": "python3"
  },
  "language_info": {
   "codemirror_mode": {
    "name": "ipython",
    "version": 3
   },
   "file_extension": ".py",
   "mimetype": "text/x-python",
   "name": "python",
   "nbconvert_exporter": "python",
   "pygments_lexer": "ipython3",
   "version": "3.4.3"
  }
 },
 "nbformat": 4,
 "nbformat_minor": 0
}
