{
 "cells": [
  {
   "cell_type": "markdown",
   "metadata": {},
   "source": [
    "# Predicting Stock Market"
   ]
  },
  {
   "cell_type": "code",
   "execution_count": 4,
   "metadata": {
    "collapsed": false
   },
   "outputs": [
    {
     "name": "stderr",
     "output_type": "stream",
     "text": [
      "C:\\Users\\panwe\\Anaconda3\\lib\\site-packages\\ipykernel\\__main__.py:7: FutureWarning: sort(columns=....) is deprecated, use sort_values(by=.....)\n"
     ]
    }
   ],
   "source": [
    "import pandas as pd\n",
    "from datetime import datetime\n",
    "import numpy as np\n",
    "from sklearn.linear_model import LinearRegression\n",
    "stocks = pd.read_csv(\"sphist.csv\")\n",
    "stocks[[\"Date\"]] = pd.to_datetime(stocks[\"Date\"])\n",
    "stocks.sort(columns = \"Date\",axis = 0, ascending = True, inplace = True)\n",
    "\n",
    "# Finding the close values.\n",
    "close_values = []\n",
    "for stock in stocks.iterrows():\n",
    "    close_values.append(stock[1][\"Close\"])\n",
    "    \n",
    "\n",
    "\n"
   ]
  },
  {
   "cell_type": "markdown",
   "metadata": {},
   "source": [
    "## Finding the Indicators"
   ]
  },
  {
   "cell_type": "code",
   "execution_count": 5,
   "metadata": {
    "collapsed": true
   },
   "outputs": [],
   "source": [
    "def aggregate_timeseries(values_list, days, func):\n",
    "    append_tolist = list(np.zeros((days,), dtype=np.int))\n",
    "    j = None\n",
    "    for i in range(len(values_list)):\n",
    "        if i >= days:\n",
    "            if i-days != 0:\n",
    "                j = i-days\n",
    "            append_tolist.append(func(values_list[i:j:-1]))\n",
    "    return append_tolist\n",
    "\n",
    "            \n",
    "stocks[\"Close_5\"] = aggregate_timeseries(close_values, 5, np.mean)\n",
    "stocks[\"Close_30\"] = aggregate_timeseries(close_values, 30, np.mean)\n",
    "stocks[\"Std_5\"] = aggregate_timeseries(close_values, 5, np.std)"
   ]
  },
  {
   "cell_type": "markdown",
   "metadata": {},
   "source": [
    "## Cleaning the data and splitting the data."
   ]
  },
  {
   "cell_type": "code",
   "execution_count": 6,
   "metadata": {
    "collapsed": false
   },
   "outputs": [
    {
     "name": "stdout",
     "output_type": "stream",
     "text": [
      "Shape of training data: (15821, 10)\n",
      "Shape of test data (739, 10)\n"
     ]
    }
   ],
   "source": [
    "stocks = stocks[stocks[\"Close_30\"] != 0]\n",
    "stocks = stocks.dropna(axis = 0)\n",
    "\n",
    "train = stocks[stocks[\"Date\"] < datetime(year=2013, month =1 , day = 1)]\n",
    "test = stocks[stocks[\"Date\"] >= datetime(year=2013, month =1 , day = 1)]\n",
    "\n",
    "print(\"Shape of training data:\",train.shape)\n",
    "print(\"Shape of test data\",test.shape)\n"
   ]
  },
  {
   "cell_type": "markdown",
   "metadata": {},
   "source": [
    "## Applying Linear Regression"
   ]
  },
  {
   "cell_type": "code",
   "execution_count": 7,
   "metadata": {
    "collapsed": false
   },
   "outputs": [
    {
     "name": "stdout",
     "output_type": "stream",
     "text": [
      "The mean absolute error is  11.805415538137291\n"
     ]
    }
   ],
   "source": [
    "model = LinearRegression()\n",
    "model.fit(train[[\"Close_5\",\"Close_30\",\"Std_5\"]], train[\"Close\"])\n",
    "predict_close = model.predict(test[[\"Close_5\",\"Close_30\",\"Std_5\"]])\n",
    "actual_close = test[\"Close\"]\n",
    "\n",
    "mean_absolute_error = np.mean(abs(predict_close - actual_close))\n",
    "print(\"The mean absolute error is \", mean_absolute_error)"
   ]
  }
 ],
 "metadata": {
  "kernelspec": {
   "display_name": "Python 3",
   "language": "python",
   "name": "python3"
  },
  "language_info": {
   "codemirror_mode": {
    "name": "ipython",
    "version": 3
   },
   "file_extension": ".py",
   "mimetype": "text/x-python",
   "name": "python",
   "nbconvert_exporter": "python",
   "pygments_lexer": "ipython3",
   "version": "3.5.1"
  }
 },
 "nbformat": 4,
 "nbformat_minor": 0
}
