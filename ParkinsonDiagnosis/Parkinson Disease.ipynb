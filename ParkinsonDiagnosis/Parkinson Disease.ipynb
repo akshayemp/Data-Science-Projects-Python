{
 "cells": [
  {
   "cell_type": "markdown",
   "metadata": {},
   "source": [
    "### Parkinson's Diagnosis"
   ]
  },
  {
   "cell_type": "code",
   "execution_count": 336,
   "metadata": {
    "collapsed": true
   },
   "outputs": [],
   "source": [
    "import pandas as pd\n",
    "import numpy as np\n",
    "import matplotlib.pyplot as plt\n",
    "%matplotlib inline\n",
    "import seaborn as sns"
   ]
  },
  {
   "cell_type": "code",
   "execution_count": 337,
   "metadata": {
    "collapsed": false
   },
   "outputs": [],
   "source": [
    "data = pd.read_csv(\"../../Classes/DSHD/Project/parkinsons.data\")\n",
    "targets = data['status']"
   ]
  },
  {
   "cell_type": "code",
   "execution_count": 338,
   "metadata": {
    "collapsed": false
   },
   "outputs": [
    {
     "data": {
      "text/html": [
       "<div>\n",
       "<table border=\"1\" class=\"dataframe\">\n",
       "  <thead>\n",
       "    <tr style=\"text-align: right;\">\n",
       "      <th></th>\n",
       "      <th>name</th>\n",
       "      <th>MDVP:Fo(Hz)</th>\n",
       "      <th>MDVP:Fhi(Hz)</th>\n",
       "      <th>MDVP:Flo(Hz)</th>\n",
       "      <th>MDVP:Jitter(%)</th>\n",
       "      <th>MDVP:Jitter(Abs)</th>\n",
       "      <th>MDVP:RAP</th>\n",
       "      <th>MDVP:PPQ</th>\n",
       "      <th>Jitter:DDP</th>\n",
       "      <th>MDVP:Shimmer</th>\n",
       "      <th>...</th>\n",
       "      <th>Shimmer:DDA</th>\n",
       "      <th>NHR</th>\n",
       "      <th>HNR</th>\n",
       "      <th>status</th>\n",
       "      <th>RPDE</th>\n",
       "      <th>DFA</th>\n",
       "      <th>spread1</th>\n",
       "      <th>spread2</th>\n",
       "      <th>D2</th>\n",
       "      <th>PPE</th>\n",
       "    </tr>\n",
       "  </thead>\n",
       "  <tbody>\n",
       "    <tr>\n",
       "      <th>0</th>\n",
       "      <td>phon_R01_S01_1</td>\n",
       "      <td>119.992</td>\n",
       "      <td>157.302</td>\n",
       "      <td>74.997</td>\n",
       "      <td>0.00784</td>\n",
       "      <td>0.00007</td>\n",
       "      <td>0.00370</td>\n",
       "      <td>0.00554</td>\n",
       "      <td>0.01109</td>\n",
       "      <td>0.04374</td>\n",
       "      <td>...</td>\n",
       "      <td>0.06545</td>\n",
       "      <td>0.02211</td>\n",
       "      <td>21.033</td>\n",
       "      <td>1</td>\n",
       "      <td>0.414783</td>\n",
       "      <td>0.815285</td>\n",
       "      <td>-4.813031</td>\n",
       "      <td>0.266482</td>\n",
       "      <td>2.301442</td>\n",
       "      <td>0.284654</td>\n",
       "    </tr>\n",
       "    <tr>\n",
       "      <th>1</th>\n",
       "      <td>phon_R01_S01_2</td>\n",
       "      <td>122.400</td>\n",
       "      <td>148.650</td>\n",
       "      <td>113.819</td>\n",
       "      <td>0.00968</td>\n",
       "      <td>0.00008</td>\n",
       "      <td>0.00465</td>\n",
       "      <td>0.00696</td>\n",
       "      <td>0.01394</td>\n",
       "      <td>0.06134</td>\n",
       "      <td>...</td>\n",
       "      <td>0.09403</td>\n",
       "      <td>0.01929</td>\n",
       "      <td>19.085</td>\n",
       "      <td>1</td>\n",
       "      <td>0.458359</td>\n",
       "      <td>0.819521</td>\n",
       "      <td>-4.075192</td>\n",
       "      <td>0.335590</td>\n",
       "      <td>2.486855</td>\n",
       "      <td>0.368674</td>\n",
       "    </tr>\n",
       "    <tr>\n",
       "      <th>2</th>\n",
       "      <td>phon_R01_S01_3</td>\n",
       "      <td>116.682</td>\n",
       "      <td>131.111</td>\n",
       "      <td>111.555</td>\n",
       "      <td>0.01050</td>\n",
       "      <td>0.00009</td>\n",
       "      <td>0.00544</td>\n",
       "      <td>0.00781</td>\n",
       "      <td>0.01633</td>\n",
       "      <td>0.05233</td>\n",
       "      <td>...</td>\n",
       "      <td>0.08270</td>\n",
       "      <td>0.01309</td>\n",
       "      <td>20.651</td>\n",
       "      <td>1</td>\n",
       "      <td>0.429895</td>\n",
       "      <td>0.825288</td>\n",
       "      <td>-4.443179</td>\n",
       "      <td>0.311173</td>\n",
       "      <td>2.342259</td>\n",
       "      <td>0.332634</td>\n",
       "    </tr>\n",
       "    <tr>\n",
       "      <th>3</th>\n",
       "      <td>phon_R01_S01_4</td>\n",
       "      <td>116.676</td>\n",
       "      <td>137.871</td>\n",
       "      <td>111.366</td>\n",
       "      <td>0.00997</td>\n",
       "      <td>0.00009</td>\n",
       "      <td>0.00502</td>\n",
       "      <td>0.00698</td>\n",
       "      <td>0.01505</td>\n",
       "      <td>0.05492</td>\n",
       "      <td>...</td>\n",
       "      <td>0.08771</td>\n",
       "      <td>0.01353</td>\n",
       "      <td>20.644</td>\n",
       "      <td>1</td>\n",
       "      <td>0.434969</td>\n",
       "      <td>0.819235</td>\n",
       "      <td>-4.117501</td>\n",
       "      <td>0.334147</td>\n",
       "      <td>2.405554</td>\n",
       "      <td>0.368975</td>\n",
       "    </tr>\n",
       "    <tr>\n",
       "      <th>4</th>\n",
       "      <td>phon_R01_S01_5</td>\n",
       "      <td>116.014</td>\n",
       "      <td>141.781</td>\n",
       "      <td>110.655</td>\n",
       "      <td>0.01284</td>\n",
       "      <td>0.00011</td>\n",
       "      <td>0.00655</td>\n",
       "      <td>0.00908</td>\n",
       "      <td>0.01966</td>\n",
       "      <td>0.06425</td>\n",
       "      <td>...</td>\n",
       "      <td>0.10470</td>\n",
       "      <td>0.01767</td>\n",
       "      <td>19.649</td>\n",
       "      <td>1</td>\n",
       "      <td>0.417356</td>\n",
       "      <td>0.823484</td>\n",
       "      <td>-3.747787</td>\n",
       "      <td>0.234513</td>\n",
       "      <td>2.332180</td>\n",
       "      <td>0.410335</td>\n",
       "    </tr>\n",
       "  </tbody>\n",
       "</table>\n",
       "<p>5 rows × 24 columns</p>\n",
       "</div>"
      ],
      "text/plain": [
       "             name  MDVP:Fo(Hz)  MDVP:Fhi(Hz)  MDVP:Flo(Hz)  MDVP:Jitter(%)  \\\n",
       "0  phon_R01_S01_1      119.992       157.302        74.997         0.00784   \n",
       "1  phon_R01_S01_2      122.400       148.650       113.819         0.00968   \n",
       "2  phon_R01_S01_3      116.682       131.111       111.555         0.01050   \n",
       "3  phon_R01_S01_4      116.676       137.871       111.366         0.00997   \n",
       "4  phon_R01_S01_5      116.014       141.781       110.655         0.01284   \n",
       "\n",
       "   MDVP:Jitter(Abs)  MDVP:RAP  MDVP:PPQ  Jitter:DDP  MDVP:Shimmer    ...     \\\n",
       "0           0.00007   0.00370   0.00554     0.01109       0.04374    ...      \n",
       "1           0.00008   0.00465   0.00696     0.01394       0.06134    ...      \n",
       "2           0.00009   0.00544   0.00781     0.01633       0.05233    ...      \n",
       "3           0.00009   0.00502   0.00698     0.01505       0.05492    ...      \n",
       "4           0.00011   0.00655   0.00908     0.01966       0.06425    ...      \n",
       "\n",
       "   Shimmer:DDA      NHR     HNR  status      RPDE       DFA   spread1  \\\n",
       "0      0.06545  0.02211  21.033       1  0.414783  0.815285 -4.813031   \n",
       "1      0.09403  0.01929  19.085       1  0.458359  0.819521 -4.075192   \n",
       "2      0.08270  0.01309  20.651       1  0.429895  0.825288 -4.443179   \n",
       "3      0.08771  0.01353  20.644       1  0.434969  0.819235 -4.117501   \n",
       "4      0.10470  0.01767  19.649       1  0.417356  0.823484 -3.747787   \n",
       "\n",
       "    spread2        D2       PPE  \n",
       "0  0.266482  2.301442  0.284654  \n",
       "1  0.335590  2.486855  0.368674  \n",
       "2  0.311173  2.342259  0.332634  \n",
       "3  0.334147  2.405554  0.368975  \n",
       "4  0.234513  2.332180  0.410335  \n",
       "\n",
       "[5 rows x 24 columns]"
      ]
     },
     "execution_count": 338,
     "metadata": {},
     "output_type": "execute_result"
    }
   ],
   "source": [
    "data.head()"
   ]
  },
  {
   "cell_type": "markdown",
   "metadata": {},
   "source": [
    "#### MDVP:Fo(Hz) - Average vocal fundamental frequency "
   ]
  },
  {
   "cell_type": "code",
   "execution_count": 339,
   "metadata": {
    "collapsed": false
   },
   "outputs": [],
   "source": [
    "actual_hi_lo_vocal_fundamental_freq = data.iloc[:,2:4]\n",
    "actual_average_vocal_fundamental_freq = actual_hi_lo_vocal_fundamental_freq.mean(axis = 1)\n",
    "error_in_measurement = data.iloc[:,1] - actual_average_vocal_fundamental_freq\n",
    "data[\"Error.MDVP.Fo (Hz)\"] = error_in_measurement"
   ]
  },
  {
   "cell_type": "code",
   "execution_count": 340,
   "metadata": {
    "collapsed": true
   },
   "outputs": [],
   "source": [
    "#data = data.drop(['MDVP:Fhi(Hz)','MDVP:Flo(Hz)'],axis = 1)"
   ]
  },
  {
   "cell_type": "code",
   "execution_count": 341,
   "metadata": {
    "collapsed": false
   },
   "outputs": [
    {
     "data": {
      "text/plain": [
       "Index(['name', 'MDVP:Fo(Hz)', 'MDVP:Fhi(Hz)', 'MDVP:Flo(Hz)', 'MDVP:Jitter(%)',\n",
       "       'MDVP:Jitter(Abs)', 'MDVP:RAP', 'MDVP:PPQ', 'Jitter:DDP',\n",
       "       'MDVP:Shimmer', 'MDVP:Shimmer(dB)', 'Shimmer:APQ3', 'Shimmer:APQ5',\n",
       "       'MDVP:APQ', 'Shimmer:DDA', 'NHR', 'HNR', 'status', 'RPDE', 'DFA',\n",
       "       'spread1', 'spread2', 'D2', 'PPE', 'Error.MDVP.Fo (Hz)'],\n",
       "      dtype='object')"
      ]
     },
     "execution_count": 341,
     "metadata": {},
     "output_type": "execute_result"
    }
   ],
   "source": [
    "data.columns"
   ]
  },
  {
   "cell_type": "markdown",
   "metadata": {},
   "source": [
    "## Vocal Jitters"
   ]
  },
  {
   "cell_type": "markdown",
   "metadata": {},
   "source": [
    "Frequency of a speakers voice will vary from one cycle to the next\n",
    "The random period variability= frequency perturbation or vocal jitter\n",
    "Vocal jitter increases in voice disorder & is responsible for hoarse, harsh or rough voice quality\n",
    "Jitter is a measurement of vocal stability\n",
    "Normal voices are usually less than 1% frequency variability"
   ]
  },
  {
   "cell_type": "markdown",
   "metadata": {},
   "source": [
    "Despite these complications, some authorities do declare so-called thresholds of pathology. For example, the Multi-Dimensional Voice Program (MDVP) (Kay Elemetrics, 2008) indicates a threshold of pathology of <=1.040% for jitter and <=3.810% for shimmer (their parameters Jitt and Shim respectively). Clearly, any percentage score above these threshold figures is considered to be a sign of potential pathology. [I am using the term pathology here in its weak sense, to mean simply a departure or deviation from expected typical functioning – and not to indicate any particular organic pathology.] Now, as indicated above, there are many ways of calculating jitter and shimmer – each using a different formula. In fact, the Praat software (Boersma and Weenink, 2009) can calculate five different measures of jitter and six different measures of shimmer.`"
   ]
  },
  {
   "cell_type": "markdown",
   "metadata": {},
   "source": [
    "http://www.fon.hum.uva.nl/praat/\n",
    "http://www.sltinfo.com/acoustic-measures-norms/"
   ]
  },
  {
   "cell_type": "code",
   "execution_count": 342,
   "metadata": {
    "collapsed": false
   },
   "outputs": [
    {
     "data": {
      "text/html": [
       "<div>\n",
       "<table border=\"1\" class=\"dataframe\">\n",
       "  <thead>\n",
       "    <tr style=\"text-align: right;\">\n",
       "      <th></th>\n",
       "      <th>Jitter:DDP</th>\n",
       "      <th>MDVP:RAP</th>\n",
       "    </tr>\n",
       "  </thead>\n",
       "  <tbody>\n",
       "    <tr>\n",
       "      <th>0</th>\n",
       "      <td>0.01109</td>\n",
       "      <td>0.00370</td>\n",
       "    </tr>\n",
       "    <tr>\n",
       "      <th>1</th>\n",
       "      <td>0.01394</td>\n",
       "      <td>0.00465</td>\n",
       "    </tr>\n",
       "    <tr>\n",
       "      <th>2</th>\n",
       "      <td>0.01633</td>\n",
       "      <td>0.00544</td>\n",
       "    </tr>\n",
       "    <tr>\n",
       "      <th>3</th>\n",
       "      <td>0.01505</td>\n",
       "      <td>0.00502</td>\n",
       "    </tr>\n",
       "    <tr>\n",
       "      <th>4</th>\n",
       "      <td>0.01966</td>\n",
       "      <td>0.00655</td>\n",
       "    </tr>\n",
       "  </tbody>\n",
       "</table>\n",
       "</div>"
      ],
      "text/plain": [
       "   Jitter:DDP  MDVP:RAP\n",
       "0     0.01109   0.00370\n",
       "1     0.01394   0.00465\n",
       "2     0.01633   0.00544\n",
       "3     0.01505   0.00502\n",
       "4     0.01966   0.00655"
      ]
     },
     "execution_count": 342,
     "metadata": {},
     "output_type": "execute_result"
    }
   ],
   "source": [
    "data.loc[:,['Jitter:DDP','MDVP:RAP']].head()"
   ]
  },
  {
   "cell_type": "code",
   "execution_count": 343,
   "metadata": {
    "collapsed": false
   },
   "outputs": [
    {
     "data": {
      "text/plain": [
       "0    0.01110\n",
       "1    0.01395\n",
       "2    0.01632\n",
       "3    0.01506\n",
       "4    0.01965\n",
       "Name: MDVP:RAP, dtype: float64"
      ]
     },
     "execution_count": 343,
     "metadata": {},
     "output_type": "execute_result"
    }
   ],
   "source": [
    "compare_rap_ddp = 3*data.loc[:,'MDVP:RAP']\n",
    "compare_rap_ddp.head()"
   ]
  },
  {
   "cell_type": "markdown",
   "metadata": {},
   "source": [
    "As you can see from the above results the Jitter:DDP is three times the MDVP:RAP"
   ]
  },
  {
   "cell_type": "code",
   "execution_count": 344,
   "metadata": {
    "collapsed": false
   },
   "outputs": [
    {
     "data": {
      "image/png": "[encoded data removed]",
      "text/plain": [
       "<matplotlib.figure.Figure at 0x7ff1759824a8>"
      ]
     },
     "metadata": {},
     "output_type": "display_data"
    }
   ],
   "source": [
    "# correlation between PPQ and F0\n",
    "x = data['MDVP:Fo(Hz)']\n",
    "y = data['MDVP:PPQ']\n",
    "plt.title(\"Fundamental vocal frequecy vs Pitch Perturbation Quiotent\")\n",
    "plt.xlabel(\"F0 (Hz)\")\n",
    "plt.ylabel(\"ppq (Hz)\")\n",
    "plt.scatter(x,y)\n",
    "plt.show()"
   ]
  },
  {
   "cell_type": "code",
   "execution_count": 345,
   "metadata": {
    "collapsed": false
   },
   "outputs": [
    {
     "data": {
      "text/plain": [
       "-0.11216542705872048"
      ]
     },
     "execution_count": 345,
     "metadata": {},
     "output_type": "execute_result"
    }
   ],
   "source": [
    "x.corr(y)"
   ]
  },
  {
   "cell_type": "code",
   "execution_count": 346,
   "metadata": {
    "collapsed": false
   },
   "outputs": [],
   "source": [
    "with_parkinsons = data[data['status'] == 1]\n",
    "without_parkinsons = data[data['status'] == 0]"
   ]
  },
  {
   "cell_type": "code",
   "execution_count": 347,
   "metadata": {
    "collapsed": false
   },
   "outputs": [
    {
     "data": {
      "text/html": [
       "<div>\n",
       "<table border=\"1\" class=\"dataframe\">\n",
       "  <thead>\n",
       "    <tr style=\"text-align: right;\">\n",
       "      <th></th>\n",
       "      <th>name</th>\n",
       "      <th>MDVP:Fo(Hz)</th>\n",
       "      <th>MDVP:Fhi(Hz)</th>\n",
       "      <th>MDVP:Flo(Hz)</th>\n",
       "      <th>MDVP:Jitter(%)</th>\n",
       "      <th>MDVP:Jitter(Abs)</th>\n",
       "      <th>MDVP:RAP</th>\n",
       "      <th>MDVP:PPQ</th>\n",
       "      <th>Jitter:DDP</th>\n",
       "      <th>MDVP:Shimmer</th>\n",
       "      <th>...</th>\n",
       "      <th>NHR</th>\n",
       "      <th>HNR</th>\n",
       "      <th>status</th>\n",
       "      <th>RPDE</th>\n",
       "      <th>DFA</th>\n",
       "      <th>spread1</th>\n",
       "      <th>spread2</th>\n",
       "      <th>D2</th>\n",
       "      <th>PPE</th>\n",
       "      <th>Error.MDVP.Fo (Hz)</th>\n",
       "    </tr>\n",
       "  </thead>\n",
       "  <tbody>\n",
       "    <tr>\n",
       "      <th>0</th>\n",
       "      <td>phon_R01_S01_1</td>\n",
       "      <td>119.992</td>\n",
       "      <td>157.302</td>\n",
       "      <td>74.997</td>\n",
       "      <td>0.00784</td>\n",
       "      <td>0.00007</td>\n",
       "      <td>0.00370</td>\n",
       "      <td>0.00554</td>\n",
       "      <td>0.01109</td>\n",
       "      <td>0.04374</td>\n",
       "      <td>...</td>\n",
       "      <td>0.02211</td>\n",
       "      <td>21.033</td>\n",
       "      <td>1</td>\n",
       "      <td>0.414783</td>\n",
       "      <td>0.815285</td>\n",
       "      <td>-4.813031</td>\n",
       "      <td>0.266482</td>\n",
       "      <td>2.301442</td>\n",
       "      <td>0.284654</td>\n",
       "      <td>3.8425</td>\n",
       "    </tr>\n",
       "    <tr>\n",
       "      <th>1</th>\n",
       "      <td>phon_R01_S01_2</td>\n",
       "      <td>122.400</td>\n",
       "      <td>148.650</td>\n",
       "      <td>113.819</td>\n",
       "      <td>0.00968</td>\n",
       "      <td>0.00008</td>\n",
       "      <td>0.00465</td>\n",
       "      <td>0.00696</td>\n",
       "      <td>0.01394</td>\n",
       "      <td>0.06134</td>\n",
       "      <td>...</td>\n",
       "      <td>0.01929</td>\n",
       "      <td>19.085</td>\n",
       "      <td>1</td>\n",
       "      <td>0.458359</td>\n",
       "      <td>0.819521</td>\n",
       "      <td>-4.075192</td>\n",
       "      <td>0.335590</td>\n",
       "      <td>2.486855</td>\n",
       "      <td>0.368674</td>\n",
       "      <td>-8.8345</td>\n",
       "    </tr>\n",
       "    <tr>\n",
       "      <th>2</th>\n",
       "      <td>phon_R01_S01_3</td>\n",
       "      <td>116.682</td>\n",
       "      <td>131.111</td>\n",
       "      <td>111.555</td>\n",
       "      <td>0.01050</td>\n",
       "      <td>0.00009</td>\n",
       "      <td>0.00544</td>\n",
       "      <td>0.00781</td>\n",
       "      <td>0.01633</td>\n",
       "      <td>0.05233</td>\n",
       "      <td>...</td>\n",
       "      <td>0.01309</td>\n",
       "      <td>20.651</td>\n",
       "      <td>1</td>\n",
       "      <td>0.429895</td>\n",
       "      <td>0.825288</td>\n",
       "      <td>-4.443179</td>\n",
       "      <td>0.311173</td>\n",
       "      <td>2.342259</td>\n",
       "      <td>0.332634</td>\n",
       "      <td>-4.6510</td>\n",
       "    </tr>\n",
       "    <tr>\n",
       "      <th>3</th>\n",
       "      <td>phon_R01_S01_4</td>\n",
       "      <td>116.676</td>\n",
       "      <td>137.871</td>\n",
       "      <td>111.366</td>\n",
       "      <td>0.00997</td>\n",
       "      <td>0.00009</td>\n",
       "      <td>0.00502</td>\n",
       "      <td>0.00698</td>\n",
       "      <td>0.01505</td>\n",
       "      <td>0.05492</td>\n",
       "      <td>...</td>\n",
       "      <td>0.01353</td>\n",
       "      <td>20.644</td>\n",
       "      <td>1</td>\n",
       "      <td>0.434969</td>\n",
       "      <td>0.819235</td>\n",
       "      <td>-4.117501</td>\n",
       "      <td>0.334147</td>\n",
       "      <td>2.405554</td>\n",
       "      <td>0.368975</td>\n",
       "      <td>-7.9425</td>\n",
       "    </tr>\n",
       "    <tr>\n",
       "      <th>4</th>\n",
       "      <td>phon_R01_S01_5</td>\n",
       "      <td>116.014</td>\n",
       "      <td>141.781</td>\n",
       "      <td>110.655</td>\n",
       "      <td>0.01284</td>\n",
       "      <td>0.00011</td>\n",
       "      <td>0.00655</td>\n",
       "      <td>0.00908</td>\n",
       "      <td>0.01966</td>\n",
       "      <td>0.06425</td>\n",
       "      <td>...</td>\n",
       "      <td>0.01767</td>\n",
       "      <td>19.649</td>\n",
       "      <td>1</td>\n",
       "      <td>0.417356</td>\n",
       "      <td>0.823484</td>\n",
       "      <td>-3.747787</td>\n",
       "      <td>0.234513</td>\n",
       "      <td>2.332180</td>\n",
       "      <td>0.410335</td>\n",
       "      <td>-10.2040</td>\n",
       "    </tr>\n",
       "  </tbody>\n",
       "</table>\n",
       "<p>5 rows × 25 columns</p>\n",
       "</div>"
      ],
      "text/plain": [
       "             name  MDVP:Fo(Hz)  MDVP:Fhi(Hz)  MDVP:Flo(Hz)  MDVP:Jitter(%)  \\\n",
       "0  phon_R01_S01_1      119.992       157.302        74.997         0.00784   \n",
       "1  phon_R01_S01_2      122.400       148.650       113.819         0.00968   \n",
       "2  phon_R01_S01_3      116.682       131.111       111.555         0.01050   \n",
       "3  phon_R01_S01_4      116.676       137.871       111.366         0.00997   \n",
       "4  phon_R01_S01_5      116.014       141.781       110.655         0.01284   \n",
       "\n",
       "   MDVP:Jitter(Abs)  MDVP:RAP  MDVP:PPQ  Jitter:DDP  MDVP:Shimmer  \\\n",
       "0           0.00007   0.00370   0.00554     0.01109       0.04374   \n",
       "1           0.00008   0.00465   0.00696     0.01394       0.06134   \n",
       "2           0.00009   0.00544   0.00781     0.01633       0.05233   \n",
       "3           0.00009   0.00502   0.00698     0.01505       0.05492   \n",
       "4           0.00011   0.00655   0.00908     0.01966       0.06425   \n",
       "\n",
       "          ...              NHR     HNR  status      RPDE       DFA   spread1  \\\n",
       "0         ...          0.02211  21.033       1  0.414783  0.815285 -4.813031   \n",
       "1         ...          0.01929  19.085       1  0.458359  0.819521 -4.075192   \n",
       "2         ...          0.01309  20.651       1  0.429895  0.825288 -4.443179   \n",
       "3         ...          0.01353  20.644       1  0.434969  0.819235 -4.117501   \n",
       "4         ...          0.01767  19.649       1  0.417356  0.823484 -3.747787   \n",
       "\n",
       "    spread2        D2       PPE  Error.MDVP.Fo (Hz)  \n",
       "0  0.266482  2.301442  0.284654              3.8425  \n",
       "1  0.335590  2.486855  0.368674             -8.8345  \n",
       "2  0.311173  2.342259  0.332634             -4.6510  \n",
       "3  0.334147  2.405554  0.368975             -7.9425  \n",
       "4  0.234513  2.332180  0.410335            -10.2040  \n",
       "\n",
       "[5 rows x 25 columns]"
      ]
     },
     "execution_count": 347,
     "metadata": {},
     "output_type": "execute_result"
    }
   ],
   "source": [
    "with_parkinsons.head()"
   ]
  },
  {
   "cell_type": "code",
   "execution_count": 348,
   "metadata": {
    "collapsed": false
   },
   "outputs": [
    {
     "data": {
      "text/html": [
       "<div>\n",
       "<table border=\"1\" class=\"dataframe\">\n",
       "  <thead>\n",
       "    <tr style=\"text-align: right;\">\n",
       "      <th></th>\n",
       "      <th>name</th>\n",
       "      <th>MDVP:Fo(Hz)</th>\n",
       "      <th>MDVP:Fhi(Hz)</th>\n",
       "      <th>MDVP:Flo(Hz)</th>\n",
       "      <th>MDVP:Jitter(%)</th>\n",
       "      <th>MDVP:Jitter(Abs)</th>\n",
       "      <th>MDVP:RAP</th>\n",
       "      <th>MDVP:PPQ</th>\n",
       "      <th>Jitter:DDP</th>\n",
       "      <th>MDVP:Shimmer</th>\n",
       "      <th>...</th>\n",
       "      <th>NHR</th>\n",
       "      <th>HNR</th>\n",
       "      <th>status</th>\n",
       "      <th>RPDE</th>\n",
       "      <th>DFA</th>\n",
       "      <th>spread1</th>\n",
       "      <th>spread2</th>\n",
       "      <th>D2</th>\n",
       "      <th>PPE</th>\n",
       "      <th>Error.MDVP.Fo (Hz)</th>\n",
       "    </tr>\n",
       "  </thead>\n",
       "  <tbody>\n",
       "    <tr>\n",
       "      <th>30</th>\n",
       "      <td>phon_R01_S07_1</td>\n",
       "      <td>197.076</td>\n",
       "      <td>206.896</td>\n",
       "      <td>192.055</td>\n",
       "      <td>0.00289</td>\n",
       "      <td>0.000010</td>\n",
       "      <td>0.00166</td>\n",
       "      <td>0.00168</td>\n",
       "      <td>0.00498</td>\n",
       "      <td>0.01098</td>\n",
       "      <td>...</td>\n",
       "      <td>0.00339</td>\n",
       "      <td>26.775</td>\n",
       "      <td>0</td>\n",
       "      <td>0.422229</td>\n",
       "      <td>0.741367</td>\n",
       "      <td>-7.348300</td>\n",
       "      <td>0.177551</td>\n",
       "      <td>1.743867</td>\n",
       "      <td>0.085569</td>\n",
       "      <td>-2.3995</td>\n",
       "    </tr>\n",
       "    <tr>\n",
       "      <th>31</th>\n",
       "      <td>phon_R01_S07_2</td>\n",
       "      <td>199.228</td>\n",
       "      <td>209.512</td>\n",
       "      <td>192.091</td>\n",
       "      <td>0.00241</td>\n",
       "      <td>0.000010</td>\n",
       "      <td>0.00134</td>\n",
       "      <td>0.00138</td>\n",
       "      <td>0.00402</td>\n",
       "      <td>0.01015</td>\n",
       "      <td>...</td>\n",
       "      <td>0.00167</td>\n",
       "      <td>30.940</td>\n",
       "      <td>0</td>\n",
       "      <td>0.432439</td>\n",
       "      <td>0.742055</td>\n",
       "      <td>-7.682587</td>\n",
       "      <td>0.173319</td>\n",
       "      <td>2.103106</td>\n",
       "      <td>0.068501</td>\n",
       "      <td>-1.5735</td>\n",
       "    </tr>\n",
       "    <tr>\n",
       "      <th>32</th>\n",
       "      <td>phon_R01_S07_3</td>\n",
       "      <td>198.383</td>\n",
       "      <td>215.203</td>\n",
       "      <td>193.104</td>\n",
       "      <td>0.00212</td>\n",
       "      <td>0.000010</td>\n",
       "      <td>0.00113</td>\n",
       "      <td>0.00135</td>\n",
       "      <td>0.00339</td>\n",
       "      <td>0.01263</td>\n",
       "      <td>...</td>\n",
       "      <td>0.00119</td>\n",
       "      <td>30.775</td>\n",
       "      <td>0</td>\n",
       "      <td>0.465946</td>\n",
       "      <td>0.738703</td>\n",
       "      <td>-7.067931</td>\n",
       "      <td>0.175181</td>\n",
       "      <td>1.512275</td>\n",
       "      <td>0.096320</td>\n",
       "      <td>-5.7705</td>\n",
       "    </tr>\n",
       "    <tr>\n",
       "      <th>33</th>\n",
       "      <td>phon_R01_S07_4</td>\n",
       "      <td>202.266</td>\n",
       "      <td>211.604</td>\n",
       "      <td>197.079</td>\n",
       "      <td>0.00180</td>\n",
       "      <td>0.000009</td>\n",
       "      <td>0.00093</td>\n",
       "      <td>0.00107</td>\n",
       "      <td>0.00278</td>\n",
       "      <td>0.00954</td>\n",
       "      <td>...</td>\n",
       "      <td>0.00072</td>\n",
       "      <td>32.684</td>\n",
       "      <td>0</td>\n",
       "      <td>0.368535</td>\n",
       "      <td>0.742133</td>\n",
       "      <td>-7.695734</td>\n",
       "      <td>0.178540</td>\n",
       "      <td>1.544609</td>\n",
       "      <td>0.056141</td>\n",
       "      <td>-2.0755</td>\n",
       "    </tr>\n",
       "    <tr>\n",
       "      <th>34</th>\n",
       "      <td>phon_R01_S07_5</td>\n",
       "      <td>203.184</td>\n",
       "      <td>211.526</td>\n",
       "      <td>196.160</td>\n",
       "      <td>0.00178</td>\n",
       "      <td>0.000009</td>\n",
       "      <td>0.00094</td>\n",
       "      <td>0.00106</td>\n",
       "      <td>0.00283</td>\n",
       "      <td>0.00958</td>\n",
       "      <td>...</td>\n",
       "      <td>0.00065</td>\n",
       "      <td>33.047</td>\n",
       "      <td>0</td>\n",
       "      <td>0.340068</td>\n",
       "      <td>0.741899</td>\n",
       "      <td>-7.964984</td>\n",
       "      <td>0.163519</td>\n",
       "      <td>1.423287</td>\n",
       "      <td>0.044539</td>\n",
       "      <td>-0.6590</td>\n",
       "    </tr>\n",
       "  </tbody>\n",
       "</table>\n",
       "<p>5 rows × 25 columns</p>\n",
       "</div>"
      ],
      "text/plain": [
       "              name  MDVP:Fo(Hz)  MDVP:Fhi(Hz)  MDVP:Flo(Hz)  MDVP:Jitter(%)  \\\n",
       "30  phon_R01_S07_1      197.076       206.896       192.055         0.00289   \n",
       "31  phon_R01_S07_2      199.228       209.512       192.091         0.00241   \n",
       "32  phon_R01_S07_3      198.383       215.203       193.104         0.00212   \n",
       "33  phon_R01_S07_4      202.266       211.604       197.079         0.00180   \n",
       "34  phon_R01_S07_5      203.184       211.526       196.160         0.00178   \n",
       "\n",
       "    MDVP:Jitter(Abs)  MDVP:RAP  MDVP:PPQ  Jitter:DDP  MDVP:Shimmer  \\\n",
       "30          0.000010   0.00166   0.00168     0.00498       0.01098   \n",
       "31          0.000010   0.00134   0.00138     0.00402       0.01015   \n",
       "32          0.000010   0.00113   0.00135     0.00339       0.01263   \n",
       "33          0.000009   0.00093   0.00107     0.00278       0.00954   \n",
       "34          0.000009   0.00094   0.00106     0.00283       0.00958   \n",
       "\n",
       "           ...              NHR     HNR  status      RPDE       DFA   spread1  \\\n",
       "30         ...          0.00339  26.775       0  0.422229  0.741367 -7.348300   \n",
       "31         ...          0.00167  30.940       0  0.432439  0.742055 -7.682587   \n",
       "32         ...          0.00119  30.775       0  0.465946  0.738703 -7.067931   \n",
       "33         ...          0.00072  32.684       0  0.368535  0.742133 -7.695734   \n",
       "34         ...          0.00065  33.047       0  0.340068  0.741899 -7.964984   \n",
       "\n",
       "     spread2        D2       PPE  Error.MDVP.Fo (Hz)  \n",
       "30  0.177551  1.743867  0.085569             -2.3995  \n",
       "31  0.173319  2.103106  0.068501             -1.5735  \n",
       "32  0.175181  1.512275  0.096320             -5.7705  \n",
       "33  0.178540  1.544609  0.056141             -2.0755  \n",
       "34  0.163519  1.423287  0.044539             -0.6590  \n",
       "\n",
       "[5 rows x 25 columns]"
      ]
     },
     "execution_count": 348,
     "metadata": {},
     "output_type": "execute_result"
    }
   ],
   "source": [
    "without_parkinsons.head()"
   ]
  },
  {
   "cell_type": "code",
   "execution_count": 349,
   "metadata": {
    "collapsed": false
   },
   "outputs": [
    {
     "data": {
      "text/plain": [
       "<matplotlib.collections.PathCollection at 0x7ff175c48b38>"
      ]
     },
     "execution_count": 349,
     "metadata": {},
     "output_type": "execute_result"
    },
    {
     "data": {
      "image/png": "[encoded data removed]",
      "text/plain": [
       "<matplotlib.figure.Figure at 0x7ff175875ef0>"
      ]
     },
     "metadata": {},
     "output_type": "display_data"
    }
   ],
   "source": [
    "plt.title(\"Average fundamental voice frequency (With Parkinson's)\")\n",
    "plt.xlabel(\"Patient Number\")\n",
    "plt.ylabel(\"F0 (Hz)\")\n",
    "plt.scatter(range(with_parkinsons.loc[:,'MDVP:Fo(Hz)'].shape[0]),with_parkinsons.loc[:,'MDVP:Fo(Hz)'],color = 'red')"
   ]
  },
  {
   "cell_type": "markdown",
   "metadata": {},
   "source": [
    "1.040 % is the pathology threshold for Fo (Hz)"
   ]
  },
  {
   "cell_type": "code",
   "execution_count": 350,
   "metadata": {
    "collapsed": false
   },
   "outputs": [
    {
     "data": {
      "text/plain": [
       "<matplotlib.legend.Legend at 0x7ff175678898>"
      ]
     },
     "execution_count": 350,
     "metadata": {},
     "output_type": "execute_result"
    },
    {
     "data": {
      "image/png": "[encoded data removed]",
      "text/plain": [
       "<matplotlib.figure.Figure at 0x7ff175c30588>"
      ]
     },
     "metadata": {},
     "output_type": "display_data"
    }
   ],
   "source": [
    "plt.title(\"Average fundamental voice frequency (Without Parkinson's)\")\n",
    "plt.xlabel(\"Patient Number\")\n",
    "plt.ylabel(\"F0 (Hz)\")\n",
    "plt.scatter(range(without_parkinsons.loc[without_parkinsons['MDVP:Fo(Hz)'] < 180,'MDVP:Fo(Hz)'].shape[0]),without_parkinsons.loc[without_parkinsons['MDVP:Fo(Hz)'] < 180,'MDVP:Fo(Hz)'],color = 'green',label = 'Males',marker = \"^\")\n",
    "plt.scatter(range(without_parkinsons.loc[without_parkinsons['MDVP:Fo(Hz)'] > 180,'MDVP:Fo(Hz)'].shape[0]),without_parkinsons.loc[without_parkinsons['MDVP:Fo(Hz)'] > 180,'MDVP:Fo(Hz)'],color = 'blue',label = \"Females\",marker = \"o\")\n",
    "plt.legend(loc = 'lower right')"
   ]
  },
  {
   "cell_type": "markdown",
   "metadata": {},
   "source": [
    "The average fundametal frequency of patients without parkinsons was lower than the people with parkinson's that means that the voice is really affected during parkinson's disease."
   ]
  },
  {
   "cell_type": "code",
   "execution_count": 351,
   "metadata": {
    "collapsed": false
   },
   "outputs": [
    {
     "data": {
      "text/html": [
       "<div>\n",
       "<table border=\"1\" class=\"dataframe\">\n",
       "  <thead>\n",
       "    <tr style=\"text-align: right;\">\n",
       "      <th></th>\n",
       "      <th>MDVP:Fo(Hz)</th>\n",
       "      <th>MDVP:Fhi(Hz)</th>\n",
       "      <th>MDVP:Flo(Hz)</th>\n",
       "      <th>MDVP:Jitter(%)</th>\n",
       "      <th>MDVP:Jitter(Abs)</th>\n",
       "      <th>MDVP:RAP</th>\n",
       "      <th>MDVP:PPQ</th>\n",
       "      <th>Jitter:DDP</th>\n",
       "      <th>MDVP:Shimmer</th>\n",
       "      <th>MDVP:Shimmer(dB)</th>\n",
       "      <th>...</th>\n",
       "      <th>NHR</th>\n",
       "      <th>HNR</th>\n",
       "      <th>status</th>\n",
       "      <th>RPDE</th>\n",
       "      <th>DFA</th>\n",
       "      <th>spread1</th>\n",
       "      <th>spread2</th>\n",
       "      <th>D2</th>\n",
       "      <th>PPE</th>\n",
       "      <th>Error.MDVP.Fo (Hz)</th>\n",
       "    </tr>\n",
       "  </thead>\n",
       "  <tbody>\n",
       "    <tr>\n",
       "      <th>count</th>\n",
       "      <td>147.000000</td>\n",
       "      <td>147.000000</td>\n",
       "      <td>147.000000</td>\n",
       "      <td>147.000000</td>\n",
       "      <td>147.000000</td>\n",
       "      <td>147.000000</td>\n",
       "      <td>147.000000</td>\n",
       "      <td>147.000000</td>\n",
       "      <td>147.000000</td>\n",
       "      <td>147.000000</td>\n",
       "      <td>...</td>\n",
       "      <td>147.000000</td>\n",
       "      <td>147.000000</td>\n",
       "      <td>147.0</td>\n",
       "      <td>147.000000</td>\n",
       "      <td>147.000000</td>\n",
       "      <td>147.000000</td>\n",
       "      <td>147.000000</td>\n",
       "      <td>147.000000</td>\n",
       "      <td>147.000000</td>\n",
       "      <td>147.000000</td>\n",
       "    </tr>\n",
       "    <tr>\n",
       "      <th>mean</th>\n",
       "      <td>145.180762</td>\n",
       "      <td>188.441463</td>\n",
       "      <td>106.893558</td>\n",
       "      <td>0.006989</td>\n",
       "      <td>0.000051</td>\n",
       "      <td>0.003757</td>\n",
       "      <td>0.003900</td>\n",
       "      <td>0.011273</td>\n",
       "      <td>0.033658</td>\n",
       "      <td>0.321204</td>\n",
       "      <td>...</td>\n",
       "      <td>0.029211</td>\n",
       "      <td>20.974048</td>\n",
       "      <td>1.0</td>\n",
       "      <td>0.516816</td>\n",
       "      <td>0.725408</td>\n",
       "      <td>-5.333420</td>\n",
       "      <td>0.248133</td>\n",
       "      <td>2.456058</td>\n",
       "      <td>0.233828</td>\n",
       "      <td>-2.486748</td>\n",
       "    </tr>\n",
       "    <tr>\n",
       "      <th>std</th>\n",
       "      <td>32.348050</td>\n",
       "      <td>88.339180</td>\n",
       "      <td>32.274358</td>\n",
       "      <td>0.005240</td>\n",
       "      <td>0.000037</td>\n",
       "      <td>0.003241</td>\n",
       "      <td>0.002998</td>\n",
       "      <td>0.009724</td>\n",
       "      <td>0.019970</td>\n",
       "      <td>0.207798</td>\n",
       "      <td>...</td>\n",
       "      <td>0.044447</td>\n",
       "      <td>4.339143</td>\n",
       "      <td>0.0</td>\n",
       "      <td>0.101254</td>\n",
       "      <td>0.054786</td>\n",
       "      <td>0.970792</td>\n",
       "      <td>0.077809</td>\n",
       "      <td>0.375742</td>\n",
       "      <td>0.084271</td>\n",
       "      <td>40.438943</td>\n",
       "    </tr>\n",
       "    <tr>\n",
       "      <th>min</th>\n",
       "      <td>88.333000</td>\n",
       "      <td>102.145000</td>\n",
       "      <td>65.476000</td>\n",
       "      <td>0.001680</td>\n",
       "      <td>0.000010</td>\n",
       "      <td>0.000680</td>\n",
       "      <td>0.000920</td>\n",
       "      <td>0.002040</td>\n",
       "      <td>0.010220</td>\n",
       "      <td>0.090000</td>\n",
       "      <td>...</td>\n",
       "      <td>0.002310</td>\n",
       "      <td>8.441000</td>\n",
       "      <td>1.0</td>\n",
       "      <td>0.263654</td>\n",
       "      <td>0.574282</td>\n",
       "      <td>-7.120925</td>\n",
       "      <td>0.063412</td>\n",
       "      <td>1.765957</td>\n",
       "      <td>0.093193</td>\n",
       "      <td>-235.757000</td>\n",
       "    </tr>\n",
       "    <tr>\n",
       "      <th>25%</th>\n",
       "      <td>117.572000</td>\n",
       "      <td>133.776500</td>\n",
       "      <td>80.875500</td>\n",
       "      <td>0.004005</td>\n",
       "      <td>0.000030</td>\n",
       "      <td>0.002030</td>\n",
       "      <td>0.002190</td>\n",
       "      <td>0.006085</td>\n",
       "      <td>0.018295</td>\n",
       "      <td>0.168000</td>\n",
       "      <td>...</td>\n",
       "      <td>0.008445</td>\n",
       "      <td>18.782000</td>\n",
       "      <td>1.0</td>\n",
       "      <td>0.439064</td>\n",
       "      <td>0.685569</td>\n",
       "      <td>-6.038300</td>\n",
       "      <td>0.199507</td>\n",
       "      <td>2.180933</td>\n",
       "      <td>0.170103</td>\n",
       "      <td>-5.458250</td>\n",
       "    </tr>\n",
       "    <tr>\n",
       "      <th>50%</th>\n",
       "      <td>145.174000</td>\n",
       "      <td>163.335000</td>\n",
       "      <td>99.770000</td>\n",
       "      <td>0.005440</td>\n",
       "      <td>0.000040</td>\n",
       "      <td>0.002840</td>\n",
       "      <td>0.003140</td>\n",
       "      <td>0.008530</td>\n",
       "      <td>0.028380</td>\n",
       "      <td>0.263000</td>\n",
       "      <td>...</td>\n",
       "      <td>0.016580</td>\n",
       "      <td>21.414000</td>\n",
       "      <td>1.0</td>\n",
       "      <td>0.530529</td>\n",
       "      <td>0.726652</td>\n",
       "      <td>-5.440040</td>\n",
       "      <td>0.240875</td>\n",
       "      <td>2.439597</td>\n",
       "      <td>0.222716</td>\n",
       "      <td>0.149000</td>\n",
       "    </tr>\n",
       "    <tr>\n",
       "      <th>75%</th>\n",
       "      <td>170.071000</td>\n",
       "      <td>207.160500</td>\n",
       "      <td>129.240000</td>\n",
       "      <td>0.007670</td>\n",
       "      <td>0.000060</td>\n",
       "      <td>0.004100</td>\n",
       "      <td>0.004360</td>\n",
       "      <td>0.012300</td>\n",
       "      <td>0.042525</td>\n",
       "      <td>0.394500</td>\n",
       "      <td>...</td>\n",
       "      <td>0.027960</td>\n",
       "      <td>24.164500</td>\n",
       "      <td>1.0</td>\n",
       "      <td>0.604573</td>\n",
       "      <td>0.764868</td>\n",
       "      <td>-4.664067</td>\n",
       "      <td>0.303660</td>\n",
       "      <td>2.668479</td>\n",
       "      <td>0.274397</td>\n",
       "      <td>12.188750</td>\n",
       "    </tr>\n",
       "    <tr>\n",
       "      <th>max</th>\n",
       "      <td>223.361000</td>\n",
       "      <td>588.518000</td>\n",
       "      <td>199.020000</td>\n",
       "      <td>0.033160</td>\n",
       "      <td>0.000260</td>\n",
       "      <td>0.021440</td>\n",
       "      <td>0.019580</td>\n",
       "      <td>0.064330</td>\n",
       "      <td>0.119080</td>\n",
       "      <td>1.302000</td>\n",
       "      <td>...</td>\n",
       "      <td>0.314820</td>\n",
       "      <td>29.928000</td>\n",
       "      <td>1.0</td>\n",
       "      <td>0.685151</td>\n",
       "      <td>0.825288</td>\n",
       "      <td>-2.434031</td>\n",
       "      <td>0.450493</td>\n",
       "      <td>3.671155</td>\n",
       "      <td>0.527367</td>\n",
       "      <td>53.386500</td>\n",
       "    </tr>\n",
       "  </tbody>\n",
       "</table>\n",
       "<p>8 rows × 24 columns</p>\n",
       "</div>"
      ],
      "text/plain": [
       "       MDVP:Fo(Hz)  MDVP:Fhi(Hz)  MDVP:Flo(Hz)  MDVP:Jitter(%)  \\\n",
       "count   147.000000    147.000000    147.000000      147.000000   \n",
       "mean    145.180762    188.441463    106.893558        0.006989   \n",
       "std      32.348050     88.339180     32.274358        0.005240   \n",
       "min      88.333000    102.145000     65.476000        0.001680   \n",
       "25%     117.572000    133.776500     80.875500        0.004005   \n",
       "50%     145.174000    163.335000     99.770000        0.005440   \n",
       "75%     170.071000    207.160500    129.240000        0.007670   \n",
       "max     223.361000    588.518000    199.020000        0.033160   \n",
       "\n",
       "       MDVP:Jitter(Abs)    MDVP:RAP    MDVP:PPQ  Jitter:DDP  MDVP:Shimmer  \\\n",
       "count        147.000000  147.000000  147.000000  147.000000    147.000000   \n",
       "mean           0.000051    0.003757    0.003900    0.011273      0.033658   \n",
       "std            0.000037    0.003241    0.002998    0.009724      0.019970   \n",
       "min            0.000010    0.000680    0.000920    0.002040      0.010220   \n",
       "25%            0.000030    0.002030    0.002190    0.006085      0.018295   \n",
       "50%            0.000040    0.002840    0.003140    0.008530      0.028380   \n",
       "75%            0.000060    0.004100    0.004360    0.012300      0.042525   \n",
       "max            0.000260    0.021440    0.019580    0.064330      0.119080   \n",
       "\n",
       "       MDVP:Shimmer(dB)         ...                 NHR         HNR  status  \\\n",
       "count        147.000000         ...          147.000000  147.000000   147.0   \n",
       "mean           0.321204         ...            0.029211   20.974048     1.0   \n",
       "std            0.207798         ...            0.044447    4.339143     0.0   \n",
       "min            0.090000         ...            0.002310    8.441000     1.0   \n",
       "25%            0.168000         ...            0.008445   18.782000     1.0   \n",
       "50%            0.263000         ...            0.016580   21.414000     1.0   \n",
       "75%            0.394500         ...            0.027960   24.164500     1.0   \n",
       "max            1.302000         ...            0.314820   29.928000     1.0   \n",
       "\n",
       "             RPDE         DFA     spread1     spread2          D2         PPE  \\\n",
       "count  147.000000  147.000000  147.000000  147.000000  147.000000  147.000000   \n",
       "mean     0.516816    0.725408   -5.333420    0.248133    2.456058    0.233828   \n",
       "std      0.101254    0.054786    0.970792    0.077809    0.375742    0.084271   \n",
       "min      0.263654    0.574282   -7.120925    0.063412    1.765957    0.093193   \n",
       "25%      0.439064    0.685569   -6.038300    0.199507    2.180933    0.170103   \n",
       "50%      0.530529    0.726652   -5.440040    0.240875    2.439597    0.222716   \n",
       "75%      0.604573    0.764868   -4.664067    0.303660    2.668479    0.274397   \n",
       "max      0.685151    0.825288   -2.434031    0.450493    3.671155    0.527367   \n",
       "\n",
       "       Error.MDVP.Fo (Hz)  \n",
       "count          147.000000  \n",
       "mean            -2.486748  \n",
       "std             40.438943  \n",
       "min           -235.757000  \n",
       "25%             -5.458250  \n",
       "50%              0.149000  \n",
       "75%             12.188750  \n",
       "max             53.386500  \n",
       "\n",
       "[8 rows x 24 columns]"
      ]
     },
     "execution_count": 351,
     "metadata": {},
     "output_type": "execute_result"
    }
   ],
   "source": [
    "with_parkinsons.describe()"
   ]
  },
  {
   "cell_type": "code",
   "execution_count": 352,
   "metadata": {
    "collapsed": false
   },
   "outputs": [
    {
     "data": {
      "text/html": [
       "<div>\n",
       "<table border=\"1\" class=\"dataframe\">\n",
       "  <thead>\n",
       "    <tr style=\"text-align: right;\">\n",
       "      <th></th>\n",
       "      <th>MDVP:Fo(Hz)</th>\n",
       "      <th>MDVP:Fhi(Hz)</th>\n",
       "      <th>MDVP:Flo(Hz)</th>\n",
       "      <th>MDVP:Jitter(%)</th>\n",
       "      <th>MDVP:Jitter(Abs)</th>\n",
       "      <th>MDVP:RAP</th>\n",
       "      <th>MDVP:PPQ</th>\n",
       "      <th>Jitter:DDP</th>\n",
       "      <th>MDVP:Shimmer</th>\n",
       "      <th>MDVP:Shimmer(dB)</th>\n",
       "      <th>...</th>\n",
       "      <th>NHR</th>\n",
       "      <th>HNR</th>\n",
       "      <th>status</th>\n",
       "      <th>RPDE</th>\n",
       "      <th>DFA</th>\n",
       "      <th>spread1</th>\n",
       "      <th>spread2</th>\n",
       "      <th>D2</th>\n",
       "      <th>PPE</th>\n",
       "      <th>Error.MDVP.Fo (Hz)</th>\n",
       "    </tr>\n",
       "  </thead>\n",
       "  <tbody>\n",
       "    <tr>\n",
       "      <th>count</th>\n",
       "      <td>48.000000</td>\n",
       "      <td>48.000000</td>\n",
       "      <td>48.000000</td>\n",
       "      <td>48.000000</td>\n",
       "      <td>48.000000</td>\n",
       "      <td>48.000000</td>\n",
       "      <td>48.000000</td>\n",
       "      <td>48.000000</td>\n",
       "      <td>48.000000</td>\n",
       "      <td>48.000000</td>\n",
       "      <td>...</td>\n",
       "      <td>48.000000</td>\n",
       "      <td>48.00000</td>\n",
       "      <td>48.0</td>\n",
       "      <td>48.000000</td>\n",
       "      <td>48.000000</td>\n",
       "      <td>48.000000</td>\n",
       "      <td>48.000000</td>\n",
       "      <td>48.000000</td>\n",
       "      <td>48.000000</td>\n",
       "      <td>48.000000</td>\n",
       "    </tr>\n",
       "    <tr>\n",
       "      <th>mean</th>\n",
       "      <td>181.937771</td>\n",
       "      <td>223.636750</td>\n",
       "      <td>145.207292</td>\n",
       "      <td>0.003866</td>\n",
       "      <td>0.000023</td>\n",
       "      <td>0.001925</td>\n",
       "      <td>0.002056</td>\n",
       "      <td>0.005776</td>\n",
       "      <td>0.017615</td>\n",
       "      <td>0.162958</td>\n",
       "      <td>...</td>\n",
       "      <td>0.011483</td>\n",
       "      <td>24.67875</td>\n",
       "      <td>0.0</td>\n",
       "      <td>0.442552</td>\n",
       "      <td>0.695716</td>\n",
       "      <td>-6.759264</td>\n",
       "      <td>0.160292</td>\n",
       "      <td>2.154491</td>\n",
       "      <td>0.123017</td>\n",
       "      <td>-2.484250</td>\n",
       "    </tr>\n",
       "    <tr>\n",
       "      <th>std</th>\n",
       "      <td>52.731067</td>\n",
       "      <td>96.727067</td>\n",
       "      <td>58.757070</td>\n",
       "      <td>0.002055</td>\n",
       "      <td>0.000015</td>\n",
       "      <td>0.001066</td>\n",
       "      <td>0.000943</td>\n",
       "      <td>0.003199</td>\n",
       "      <td>0.005544</td>\n",
       "      <td>0.057822</td>\n",
       "      <td>...</td>\n",
       "      <td>0.019088</td>\n",
       "      <td>3.43454</td>\n",
       "      <td>0.0</td>\n",
       "      <td>0.092199</td>\n",
       "      <td>0.051346</td>\n",
       "      <td>0.642782</td>\n",
       "      <td>0.062982</td>\n",
       "      <td>0.310269</td>\n",
       "      <td>0.044820</td>\n",
       "      <td>50.780313</td>\n",
       "    </tr>\n",
       "    <tr>\n",
       "      <th>min</th>\n",
       "      <td>110.739000</td>\n",
       "      <td>113.597000</td>\n",
       "      <td>74.287000</td>\n",
       "      <td>0.001780</td>\n",
       "      <td>0.000007</td>\n",
       "      <td>0.000920</td>\n",
       "      <td>0.001060</td>\n",
       "      <td>0.002760</td>\n",
       "      <td>0.009540</td>\n",
       "      <td>0.085000</td>\n",
       "      <td>...</td>\n",
       "      <td>0.000650</td>\n",
       "      <td>17.88300</td>\n",
       "      <td>0.0</td>\n",
       "      <td>0.256570</td>\n",
       "      <td>0.626710</td>\n",
       "      <td>-7.964984</td>\n",
       "      <td>0.006274</td>\n",
       "      <td>1.423287</td>\n",
       "      <td>0.044539</td>\n",
       "      <td>-222.573000</td>\n",
       "    </tr>\n",
       "    <tr>\n",
       "      <th>25%</th>\n",
       "      <td>120.947500</td>\n",
       "      <td>139.413250</td>\n",
       "      <td>98.243750</td>\n",
       "      <td>0.002655</td>\n",
       "      <td>0.000010</td>\n",
       "      <td>0.001332</td>\n",
       "      <td>0.001480</td>\n",
       "      <td>0.003998</td>\n",
       "      <td>0.014475</td>\n",
       "      <td>0.129000</td>\n",
       "      <td>...</td>\n",
       "      <td>0.004188</td>\n",
       "      <td>22.99325</td>\n",
       "      <td>0.0</td>\n",
       "      <td>0.372126</td>\n",
       "      <td>0.654291</td>\n",
       "      <td>-7.257665</td>\n",
       "      <td>0.120623</td>\n",
       "      <td>1.974217</td>\n",
       "      <td>0.094658</td>\n",
       "      <td>-2.156500</td>\n",
       "    </tr>\n",
       "    <tr>\n",
       "      <th>50%</th>\n",
       "      <td>198.996000</td>\n",
       "      <td>231.161500</td>\n",
       "      <td>113.938500</td>\n",
       "      <td>0.003355</td>\n",
       "      <td>0.000025</td>\n",
       "      <td>0.001625</td>\n",
       "      <td>0.001775</td>\n",
       "      <td>0.004875</td>\n",
       "      <td>0.016705</td>\n",
       "      <td>0.154000</td>\n",
       "      <td>...</td>\n",
       "      <td>0.004825</td>\n",
       "      <td>24.99700</td>\n",
       "      <td>0.0</td>\n",
       "      <td>0.435368</td>\n",
       "      <td>0.682527</td>\n",
       "      <td>-6.826448</td>\n",
       "      <td>0.167356</td>\n",
       "      <td>2.129510</td>\n",
       "      <td>0.115119</td>\n",
       "      <td>0.673500</td>\n",
       "    </tr>\n",
       "    <tr>\n",
       "      <th>75%</th>\n",
       "      <td>229.077000</td>\n",
       "      <td>251.239250</td>\n",
       "      <td>199.183000</td>\n",
       "      <td>0.004530</td>\n",
       "      <td>0.000030</td>\n",
       "      <td>0.001907</td>\n",
       "      <td>0.002228</td>\n",
       "      <td>0.005725</td>\n",
       "      <td>0.020210</td>\n",
       "      <td>0.189250</td>\n",
       "      <td>...</td>\n",
       "      <td>0.009213</td>\n",
       "      <td>26.13925</td>\n",
       "      <td>0.0</td>\n",
       "      <td>0.507748</td>\n",
       "      <td>0.742284</td>\n",
       "      <td>-6.350146</td>\n",
       "      <td>0.193766</td>\n",
       "      <td>2.339487</td>\n",
       "      <td>0.147761</td>\n",
       "      <td>9.637625</td>\n",
       "    </tr>\n",
       "    <tr>\n",
       "      <th>max</th>\n",
       "      <td>260.105000</td>\n",
       "      <td>592.030000</td>\n",
       "      <td>239.170000</td>\n",
       "      <td>0.013600</td>\n",
       "      <td>0.000080</td>\n",
       "      <td>0.006240</td>\n",
       "      <td>0.005640</td>\n",
       "      <td>0.018730</td>\n",
       "      <td>0.040870</td>\n",
       "      <td>0.405000</td>\n",
       "      <td>...</td>\n",
       "      <td>0.107150</td>\n",
       "      <td>33.04700</td>\n",
       "      <td>0.0</td>\n",
       "      <td>0.663842</td>\n",
       "      <td>0.785714</td>\n",
       "      <td>-5.198864</td>\n",
       "      <td>0.291954</td>\n",
       "      <td>2.882450</td>\n",
       "      <td>0.252404</td>\n",
       "      <td>62.800000</td>\n",
       "    </tr>\n",
       "  </tbody>\n",
       "</table>\n",
       "<p>8 rows × 24 columns</p>\n",
       "</div>"
      ],
      "text/plain": [
       "       MDVP:Fo(Hz)  MDVP:Fhi(Hz)  MDVP:Flo(Hz)  MDVP:Jitter(%)  \\\n",
       "count    48.000000     48.000000     48.000000       48.000000   \n",
       "mean    181.937771    223.636750    145.207292        0.003866   \n",
       "std      52.731067     96.727067     58.757070        0.002055   \n",
       "min     110.739000    113.597000     74.287000        0.001780   \n",
       "25%     120.947500    139.413250     98.243750        0.002655   \n",
       "50%     198.996000    231.161500    113.938500        0.003355   \n",
       "75%     229.077000    251.239250    199.183000        0.004530   \n",
       "max     260.105000    592.030000    239.170000        0.013600   \n",
       "\n",
       "       MDVP:Jitter(Abs)   MDVP:RAP   MDVP:PPQ  Jitter:DDP  MDVP:Shimmer  \\\n",
       "count         48.000000  48.000000  48.000000   48.000000     48.000000   \n",
       "mean           0.000023   0.001925   0.002056    0.005776      0.017615   \n",
       "std            0.000015   0.001066   0.000943    0.003199      0.005544   \n",
       "min            0.000007   0.000920   0.001060    0.002760      0.009540   \n",
       "25%            0.000010   0.001332   0.001480    0.003998      0.014475   \n",
       "50%            0.000025   0.001625   0.001775    0.004875      0.016705   \n",
       "75%            0.000030   0.001907   0.002228    0.005725      0.020210   \n",
       "max            0.000080   0.006240   0.005640    0.018730      0.040870   \n",
       "\n",
       "       MDVP:Shimmer(dB)         ...                NHR       HNR  status  \\\n",
       "count         48.000000         ...          48.000000  48.00000    48.0   \n",
       "mean           0.162958         ...           0.011483  24.67875     0.0   \n",
       "std            0.057822         ...           0.019088   3.43454     0.0   \n",
       "min            0.085000         ...           0.000650  17.88300     0.0   \n",
       "25%            0.129000         ...           0.004188  22.99325     0.0   \n",
       "50%            0.154000         ...           0.004825  24.99700     0.0   \n",
       "75%            0.189250         ...           0.009213  26.13925     0.0   \n",
       "max            0.405000         ...           0.107150  33.04700     0.0   \n",
       "\n",
       "            RPDE        DFA    spread1    spread2         D2        PPE  \\\n",
       "count  48.000000  48.000000  48.000000  48.000000  48.000000  48.000000   \n",
       "mean    0.442552   0.695716  -6.759264   0.160292   2.154491   0.123017   \n",
       "std     0.092199   0.051346   0.642782   0.062982   0.310269   0.044820   \n",
       "min     0.256570   0.626710  -7.964984   0.006274   1.423287   0.044539   \n",
       "25%     0.372126   0.654291  -7.257665   0.120623   1.974217   0.094658   \n",
       "50%     0.435368   0.682527  -6.826448   0.167356   2.129510   0.115119   \n",
       "75%     0.507748   0.742284  -6.350146   0.193766   2.339487   0.147761   \n",
       "max     0.663842   0.785714  -5.198864   0.291954   2.882450   0.252404   \n",
       "\n",
       "       Error.MDVP.Fo (Hz)  \n",
       "count           48.000000  \n",
       "mean            -2.484250  \n",
       "std             50.780313  \n",
       "min           -222.573000  \n",
       "25%             -2.156500  \n",
       "50%              0.673500  \n",
       "75%              9.637625  \n",
       "max             62.800000  \n",
       "\n",
       "[8 rows x 24 columns]"
      ]
     },
     "execution_count": 352,
     "metadata": {},
     "output_type": "execute_result"
    }
   ],
   "source": [
    "without_parkinsons.describe()"
   ]
  },
  {
   "cell_type": "markdown",
   "metadata": {
    "collapsed": true
   },
   "source": [
    "#### Checking for Pathology using Shimmer "
   ]
  },
  {
   "cell_type": "code",
   "execution_count": 353,
   "metadata": {
    "collapsed": false
   },
   "outputs": [
    {
     "data": {
      "text/html": [
       "<div>\n",
       "<table border=\"1\" class=\"dataframe\">\n",
       "  <thead>\n",
       "    <tr style=\"text-align: right;\">\n",
       "      <th></th>\n",
       "      <th>MDVP:Shimmer</th>\n",
       "      <th>MDVP:Shimmer(dB)</th>\n",
       "      <th>Shimmer:APQ3</th>\n",
       "      <th>Shimmer:APQ5</th>\n",
       "      <th>MDVP:APQ</th>\n",
       "      <th>Shimmer:DDA</th>\n",
       "    </tr>\n",
       "  </thead>\n",
       "  <tbody>\n",
       "    <tr>\n",
       "      <th>0</th>\n",
       "      <td>0.04374</td>\n",
       "      <td>0.426</td>\n",
       "      <td>0.02182</td>\n",
       "      <td>0.03130</td>\n",
       "      <td>0.02971</td>\n",
       "      <td>0.06545</td>\n",
       "    </tr>\n",
       "    <tr>\n",
       "      <th>1</th>\n",
       "      <td>0.06134</td>\n",
       "      <td>0.626</td>\n",
       "      <td>0.03134</td>\n",
       "      <td>0.04518</td>\n",
       "      <td>0.04368</td>\n",
       "      <td>0.09403</td>\n",
       "    </tr>\n",
       "    <tr>\n",
       "      <th>2</th>\n",
       "      <td>0.05233</td>\n",
       "      <td>0.482</td>\n",
       "      <td>0.02757</td>\n",
       "      <td>0.03858</td>\n",
       "      <td>0.03590</td>\n",
       "      <td>0.08270</td>\n",
       "    </tr>\n",
       "    <tr>\n",
       "      <th>3</th>\n",
       "      <td>0.05492</td>\n",
       "      <td>0.517</td>\n",
       "      <td>0.02924</td>\n",
       "      <td>0.04005</td>\n",
       "      <td>0.03772</td>\n",
       "      <td>0.08771</td>\n",
       "    </tr>\n",
       "    <tr>\n",
       "      <th>4</th>\n",
       "      <td>0.06425</td>\n",
       "      <td>0.584</td>\n",
       "      <td>0.03490</td>\n",
       "      <td>0.04825</td>\n",
       "      <td>0.04465</td>\n",
       "      <td>0.10470</td>\n",
       "    </tr>\n",
       "  </tbody>\n",
       "</table>\n",
       "</div>"
      ],
      "text/plain": [
       "   MDVP:Shimmer  MDVP:Shimmer(dB)  Shimmer:APQ3  Shimmer:APQ5  MDVP:APQ  \\\n",
       "0       0.04374             0.426       0.02182       0.03130   0.02971   \n",
       "1       0.06134             0.626       0.03134       0.04518   0.04368   \n",
       "2       0.05233             0.482       0.02757       0.03858   0.03590   \n",
       "3       0.05492             0.517       0.02924       0.04005   0.03772   \n",
       "4       0.06425             0.584       0.03490       0.04825   0.04465   \n",
       "\n",
       "   Shimmer:DDA  \n",
       "0      0.06545  \n",
       "1      0.09403  \n",
       "2      0.08270  \n",
       "3      0.08771  \n",
       "4      0.10470  "
      ]
     },
     "execution_count": 353,
     "metadata": {},
     "output_type": "execute_result"
    }
   ],
   "source": [
    "shimmers = ['MDVP:Shimmer', 'MDVP:Shimmer(dB)', 'Shimmer:APQ3', 'Shimmer:APQ5',\n",
    "       'MDVP:APQ', 'Shimmer:DDA']\n",
    "shimmer_data = data[shimmers]\n",
    "shimmer_data.head()"
   ]
  },
  {
   "cell_type": "code",
   "execution_count": 354,
   "metadata": {
    "collapsed": false
   },
   "outputs": [
    {
     "data": {
      "text/html": [
       "<div>\n",
       "<table border=\"1\" class=\"dataframe\">\n",
       "  <thead>\n",
       "    <tr style=\"text-align: right;\">\n",
       "      <th></th>\n",
       "      <th>MDVP:Shimmer</th>\n",
       "      <th>MDVP:Shimmer(dB)</th>\n",
       "      <th>Shimmer:APQ3</th>\n",
       "      <th>Shimmer:APQ5</th>\n",
       "      <th>MDVP:APQ</th>\n",
       "      <th>Shimmer:DDA</th>\n",
       "    </tr>\n",
       "  </thead>\n",
       "  <tbody>\n",
       "    <tr>\n",
       "      <th>MDVP:Shimmer</th>\n",
       "      <td>1.000</td>\n",
       "      <td>0.987</td>\n",
       "      <td>0.988</td>\n",
       "      <td>0.983</td>\n",
       "      <td>0.950</td>\n",
       "      <td>0.988</td>\n",
       "    </tr>\n",
       "    <tr>\n",
       "      <th>MDVP:Shimmer(dB)</th>\n",
       "      <td>0.987</td>\n",
       "      <td>1.000</td>\n",
       "      <td>0.963</td>\n",
       "      <td>0.974</td>\n",
       "      <td>0.961</td>\n",
       "      <td>0.963</td>\n",
       "    </tr>\n",
       "    <tr>\n",
       "      <th>Shimmer:APQ3</th>\n",
       "      <td>0.988</td>\n",
       "      <td>0.963</td>\n",
       "      <td>1.000</td>\n",
       "      <td>0.960</td>\n",
       "      <td>0.897</td>\n",
       "      <td>1.000</td>\n",
       "    </tr>\n",
       "    <tr>\n",
       "      <th>Shimmer:APQ5</th>\n",
       "      <td>0.983</td>\n",
       "      <td>0.974</td>\n",
       "      <td>0.960</td>\n",
       "      <td>1.000</td>\n",
       "      <td>0.949</td>\n",
       "      <td>0.960</td>\n",
       "    </tr>\n",
       "    <tr>\n",
       "      <th>MDVP:APQ</th>\n",
       "      <td>0.950</td>\n",
       "      <td>0.961</td>\n",
       "      <td>0.897</td>\n",
       "      <td>0.949</td>\n",
       "      <td>1.000</td>\n",
       "      <td>0.897</td>\n",
       "    </tr>\n",
       "    <tr>\n",
       "      <th>Shimmer:DDA</th>\n",
       "      <td>0.988</td>\n",
       "      <td>0.963</td>\n",
       "      <td>1.000</td>\n",
       "      <td>0.960</td>\n",
       "      <td>0.897</td>\n",
       "      <td>1.000</td>\n",
       "    </tr>\n",
       "  </tbody>\n",
       "</table>\n",
       "</div>"
      ],
      "text/plain": [
       "                  MDVP:Shimmer  MDVP:Shimmer(dB)  Shimmer:APQ3  Shimmer:APQ5  \\\n",
       "MDVP:Shimmer             1.000             0.987         0.988         0.983   \n",
       "MDVP:Shimmer(dB)         0.987             1.000         0.963         0.974   \n",
       "Shimmer:APQ3             0.988             0.963         1.000         0.960   \n",
       "Shimmer:APQ5             0.983             0.974         0.960         1.000   \n",
       "MDVP:APQ                 0.950             0.961         0.897         0.949   \n",
       "Shimmer:DDA              0.988             0.963         1.000         0.960   \n",
       "\n",
       "                  MDVP:APQ  Shimmer:DDA  \n",
       "MDVP:Shimmer         0.950        0.988  \n",
       "MDVP:Shimmer(dB)     0.961        0.963  \n",
       "Shimmer:APQ3         0.897        1.000  \n",
       "Shimmer:APQ5         0.949        0.960  \n",
       "MDVP:APQ             1.000        0.897  \n",
       "Shimmer:DDA          0.897        1.000  "
      ]
     },
     "execution_count": 354,
     "metadata": {},
     "output_type": "execute_result"
    }
   ],
   "source": [
    "shimmer_data.corr().round(3)"
   ]
  },
  {
   "cell_type": "markdown",
   "metadata": {},
   "source": [
    "There is a very high correlation between these shimmer values and the most interesting one is between Shimmer:DDA and Shimmer:APQ3 which is 1.0."
   ]
  },
  {
   "cell_type": "code",
   "execution_count": 355,
   "metadata": {
    "collapsed": false
   },
   "outputs": [
    {
     "data": {
      "image/png": "[encoded data removed]",
      "text/plain": [
       "<matplotlib.figure.Figure at 0x7ff175bd5da0>"
      ]
     },
     "metadata": {},
     "output_type": "display_data"
    }
   ],
   "source": [
    "plt.scatter(shimmer_data[\"Shimmer:DDA\"],shimmer_data[\"Shimmer:APQ3\"])\n",
    "plt.title(\"Correlation between DDA and APQ measurements of Shimmer\")\n",
    "plt.xlabel(\"DDA\")\n",
    "plt.ylabel(\"APQ3\")\n",
    "plt.show()"
   ]
  },
  {
   "cell_type": "markdown",
   "metadata": {},
   "source": [
    "Since all the shimmer variables are correlated we need to remove them while training the model."
   ]
  },
  {
   "cell_type": "markdown",
   "metadata": {},
   "source": [
    "Only keep MDVP:Shimmer, its highly correlated with others"
   ]
  },
  {
   "cell_type": "code",
   "execution_count": 356,
   "metadata": {
    "collapsed": false
   },
   "outputs": [],
   "source": [
    "NH = data[[\"NHR\",\"HNR\"]]"
   ]
  },
  {
   "cell_type": "markdown",
   "metadata": {},
   "source": [
    "To find male and female in the dataset."
   ]
  },
  {
   "cell_type": "code",
   "execution_count": 357,
   "metadata": {
    "collapsed": false
   },
   "outputs": [
    {
     "data": {
      "text/plain": [
       "12    phon_R01_S04_1\n",
       "13    phon_R01_S04_2\n",
       "14    phon_R01_S04_3\n",
       "15    phon_R01_S04_4\n",
       "16    phon_R01_S04_5\n",
       "17    phon_R01_S04_6\n",
       "30    phon_R01_S07_1\n",
       "31    phon_R01_S07_2\n",
       "32    phon_R01_S07_3\n",
       "33    phon_R01_S07_4\n",
       "34    phon_R01_S07_5\n",
       "35    phon_R01_S07_6\n",
       "36    phon_R01_S08_1\n",
       "37    phon_R01_S08_2\n",
       "38    phon_R01_S08_3\n",
       "39    phon_R01_S08_4\n",
       "40    phon_R01_S08_5\n",
       "41    phon_R01_S08_6\n",
       "43    phon_R01_S10_2\n",
       "45    phon_R01_S10_4\n",
       "Name: name, dtype: object"
      ]
     },
     "execution_count": 357,
     "metadata": {},
     "output_type": "execute_result"
    }
   ],
   "source": [
    "male_condition = without_parkinsons['MDVP:Fo(Hz)'] < 180\n",
    "data.loc[male_condition.values,'name']"
   ]
  },
  {
   "cell_type": "markdown",
   "metadata": {},
   "source": [
    "The above results show that There are four patients in the dataset who don't have parkinsons are male and remaining are females. So patient number 4,7,8,10 are males for sure."
   ]
  },
  {
   "cell_type": "markdown",
   "metadata": {},
   "source": [
    "We claimed this because the fundamental frequency of males lies between 85 Hz to 180 Hz."
   ]
  },
  {
   "cell_type": "code",
   "execution_count": 358,
   "metadata": {
    "collapsed": false
   },
   "outputs": [
    {
     "data": {
      "text/html": [
       "<div>\n",
       "<table border=\"1\" class=\"dataframe\">\n",
       "  <thead>\n",
       "    <tr style=\"text-align: right;\">\n",
       "      <th></th>\n",
       "      <th>NHR</th>\n",
       "      <th>HNR</th>\n",
       "      <th>RPDE</th>\n",
       "      <th>DFA</th>\n",
       "      <th>spread1</th>\n",
       "      <th>spread2</th>\n",
       "      <th>D2</th>\n",
       "      <th>PPE</th>\n",
       "    </tr>\n",
       "  </thead>\n",
       "  <tbody>\n",
       "    <tr>\n",
       "      <th>0</th>\n",
       "      <td>0.02211</td>\n",
       "      <td>21.033</td>\n",
       "      <td>0.414783</td>\n",
       "      <td>0.815285</td>\n",
       "      <td>-4.813031</td>\n",
       "      <td>0.266482</td>\n",
       "      <td>2.301442</td>\n",
       "      <td>0.284654</td>\n",
       "    </tr>\n",
       "    <tr>\n",
       "      <th>1</th>\n",
       "      <td>0.01929</td>\n",
       "      <td>19.085</td>\n",
       "      <td>0.458359</td>\n",
       "      <td>0.819521</td>\n",
       "      <td>-4.075192</td>\n",
       "      <td>0.335590</td>\n",
       "      <td>2.486855</td>\n",
       "      <td>0.368674</td>\n",
       "    </tr>\n",
       "    <tr>\n",
       "      <th>2</th>\n",
       "      <td>0.01309</td>\n",
       "      <td>20.651</td>\n",
       "      <td>0.429895</td>\n",
       "      <td>0.825288</td>\n",
       "      <td>-4.443179</td>\n",
       "      <td>0.311173</td>\n",
       "      <td>2.342259</td>\n",
       "      <td>0.332634</td>\n",
       "    </tr>\n",
       "    <tr>\n",
       "      <th>3</th>\n",
       "      <td>0.01353</td>\n",
       "      <td>20.644</td>\n",
       "      <td>0.434969</td>\n",
       "      <td>0.819235</td>\n",
       "      <td>-4.117501</td>\n",
       "      <td>0.334147</td>\n",
       "      <td>2.405554</td>\n",
       "      <td>0.368975</td>\n",
       "    </tr>\n",
       "    <tr>\n",
       "      <th>4</th>\n",
       "      <td>0.01767</td>\n",
       "      <td>19.649</td>\n",
       "      <td>0.417356</td>\n",
       "      <td>0.823484</td>\n",
       "      <td>-3.747787</td>\n",
       "      <td>0.234513</td>\n",
       "      <td>2.332180</td>\n",
       "      <td>0.410335</td>\n",
       "    </tr>\n",
       "  </tbody>\n",
       "</table>\n",
       "</div>"
      ],
      "text/plain": [
       "       NHR     HNR      RPDE       DFA   spread1   spread2        D2       PPE\n",
       "0  0.02211  21.033  0.414783  0.815285 -4.813031  0.266482  2.301442  0.284654\n",
       "1  0.01929  19.085  0.458359  0.819521 -4.075192  0.335590  2.486855  0.368674\n",
       "2  0.01309  20.651  0.429895  0.825288 -4.443179  0.311173  2.342259  0.332634\n",
       "3  0.01353  20.644  0.434969  0.819235 -4.117501  0.334147  2.405554  0.368975\n",
       "4  0.01767  19.649  0.417356  0.823484 -3.747787  0.234513  2.332180  0.410335"
      ]
     },
     "execution_count": 358,
     "metadata": {},
     "output_type": "execute_result"
    }
   ],
   "source": [
    "with_parkinsons.loc[:,['NHR', 'HNR', 'RPDE', 'DFA',\n",
    "       'spread1', 'spread2', 'D2', 'PPE']].head()"
   ]
  },
  {
   "cell_type": "code",
   "execution_count": 359,
   "metadata": {
    "collapsed": false
   },
   "outputs": [
    {
     "data": {
      "text/html": [
       "<div>\n",
       "<table border=\"1\" class=\"dataframe\">\n",
       "  <thead>\n",
       "    <tr style=\"text-align: right;\">\n",
       "      <th></th>\n",
       "      <th>NHR</th>\n",
       "      <th>HNR</th>\n",
       "      <th>RPDE</th>\n",
       "      <th>DFA</th>\n",
       "      <th>spread1</th>\n",
       "      <th>spread2</th>\n",
       "      <th>D2</th>\n",
       "      <th>PPE</th>\n",
       "    </tr>\n",
       "  </thead>\n",
       "  <tbody>\n",
       "    <tr>\n",
       "      <th>30</th>\n",
       "      <td>0.00339</td>\n",
       "      <td>26.775</td>\n",
       "      <td>0.422229</td>\n",
       "      <td>0.741367</td>\n",
       "      <td>-7.348300</td>\n",
       "      <td>0.177551</td>\n",
       "      <td>1.743867</td>\n",
       "      <td>0.085569</td>\n",
       "    </tr>\n",
       "    <tr>\n",
       "      <th>31</th>\n",
       "      <td>0.00167</td>\n",
       "      <td>30.940</td>\n",
       "      <td>0.432439</td>\n",
       "      <td>0.742055</td>\n",
       "      <td>-7.682587</td>\n",
       "      <td>0.173319</td>\n",
       "      <td>2.103106</td>\n",
       "      <td>0.068501</td>\n",
       "    </tr>\n",
       "    <tr>\n",
       "      <th>32</th>\n",
       "      <td>0.00119</td>\n",
       "      <td>30.775</td>\n",
       "      <td>0.465946</td>\n",
       "      <td>0.738703</td>\n",
       "      <td>-7.067931</td>\n",
       "      <td>0.175181</td>\n",
       "      <td>1.512275</td>\n",
       "      <td>0.096320</td>\n",
       "    </tr>\n",
       "    <tr>\n",
       "      <th>33</th>\n",
       "      <td>0.00072</td>\n",
       "      <td>32.684</td>\n",
       "      <td>0.368535</td>\n",
       "      <td>0.742133</td>\n",
       "      <td>-7.695734</td>\n",
       "      <td>0.178540</td>\n",
       "      <td>1.544609</td>\n",
       "      <td>0.056141</td>\n",
       "    </tr>\n",
       "    <tr>\n",
       "      <th>34</th>\n",
       "      <td>0.00065</td>\n",
       "      <td>33.047</td>\n",
       "      <td>0.340068</td>\n",
       "      <td>0.741899</td>\n",
       "      <td>-7.964984</td>\n",
       "      <td>0.163519</td>\n",
       "      <td>1.423287</td>\n",
       "      <td>0.044539</td>\n",
       "    </tr>\n",
       "  </tbody>\n",
       "</table>\n",
       "</div>"
      ],
      "text/plain": [
       "        NHR     HNR      RPDE       DFA   spread1   spread2        D2  \\\n",
       "30  0.00339  26.775  0.422229  0.741367 -7.348300  0.177551  1.743867   \n",
       "31  0.00167  30.940  0.432439  0.742055 -7.682587  0.173319  2.103106   \n",
       "32  0.00119  30.775  0.465946  0.738703 -7.067931  0.175181  1.512275   \n",
       "33  0.00072  32.684  0.368535  0.742133 -7.695734  0.178540  1.544609   \n",
       "34  0.00065  33.047  0.340068  0.741899 -7.964984  0.163519  1.423287   \n",
       "\n",
       "         PPE  \n",
       "30  0.085569  \n",
       "31  0.068501  \n",
       "32  0.096320  \n",
       "33  0.056141  \n",
       "34  0.044539  "
      ]
     },
     "execution_count": 359,
     "metadata": {},
     "output_type": "execute_result"
    }
   ],
   "source": [
    "without_parkinsons.loc[:,['NHR', 'HNR', 'RPDE', 'DFA',\n",
    "       'spread1', 'spread2', 'D2', 'PPE']].head()"
   ]
  },
  {
   "cell_type": "code",
   "execution_count": 360,
   "metadata": {
    "collapsed": false
   },
   "outputs": [
    {
     "data": {
      "text/plain": [
       "<matplotlib.legend.Legend at 0x7ff17554d160>"
      ]
     },
     "execution_count": 360,
     "metadata": {},
     "output_type": "execute_result"
    },
    {
     "data": {
      "image/png": "[encoded data removed]",
      "text/plain": [
       "<matplotlib.figure.Figure at 0x7ff175d00f60>"
      ]
     },
     "metadata": {},
     "output_type": "display_data"
    }
   ],
   "source": [
    "plt.scatter(with_parkinsons.index,with_parkinsons['RPDE'],color='red',label = 'With Parkinsons')\n",
    "plt.scatter(without_parkinsons.index,without_parkinsons['RPDE'],color = 'blue', label = 'Without Parkinsons')\n",
    "plt.legend()"
   ]
  },
  {
   "cell_type": "code",
   "execution_count": 361,
   "metadata": {
    "collapsed": false
   },
   "outputs": [
    {
     "data": {
      "text/plain": [
       "<matplotlib.collections.PathCollection at 0x7ff1754da940>"
      ]
     },
     "execution_count": 361,
     "metadata": {},
     "output_type": "execute_result"
    },
    {
     "data": {
      "image/png": "[encoded data removed]",
      "text/plain": [
       "<matplotlib.figure.Figure at 0x7ff17558dcc0>"
      ]
     },
     "metadata": {},
     "output_type": "display_data"
    }
   ],
   "source": [
    "plt.scatter(with_parkinsons.index, with_parkinsons['MDVP:Fo(Hz)'],color = 'red')\n",
    "plt.scatter(without_parkinsons.index,without_parkinsons['MDVP:Fo(Hz)'],color = 'blue')"
   ]
  },
  {
   "cell_type": "code",
   "execution_count": 362,
   "metadata": {
    "collapsed": false
   },
   "outputs": [],
   "source": [
    "from sklearn.preprocessing import StandardScaler\n",
    "train_var = ['MDVP:Fo(Hz)', 'MDVP:Fhi(Hz)', 'MDVP:Flo(Hz)', 'MDVP:Jitter(%)',\n",
    "       'MDVP:Jitter(Abs)', 'MDVP:RAP', 'MDVP:PPQ', 'Jitter:DDP',\n",
    "       'MDVP:Shimmer', 'MDVP:Shimmer(dB)', 'Shimmer:APQ3', 'Shimmer:APQ5',\n",
    "       'MDVP:APQ', 'Shimmer:DDA', 'NHR', 'HNR', 'RPDE', 'DFA',\n",
    "       'spread1', 'spread2', 'D2', 'PPE', 'Error.MDVP.Fo (Hz)']\n",
    "\n",
    "\n",
    "data = data.sample(frac=1)\n",
    "X,y = data[train_var],data['status']\n",
    "sc = StandardScaler()\n",
    "sc.fit(X)\n",
    "sc.fit_transform(X)\n",
    "\n",
    "X_train,y_train = X[:90], y[:90]\n",
    "X_test, y_test = X[90:],y[90:]"
   ]
  },
  {
   "cell_type": "code",
   "execution_count": 363,
   "metadata": {
    "collapsed": false
   },
   "outputs": [],
   "source": [
    "from sklearn.linear_model import LogisticRegression\n",
    "lr_lasso = LogisticRegression(penalty = 'l1',C=0.45,solver='liblinear')\n",
    "lr_lasso.fit(X_train, y_train)\n",
    "y_pred = lr_lasso.predict(X_test)"
   ]
  },
  {
   "cell_type": "code",
   "execution_count": 364,
   "metadata": {
    "collapsed": false
   },
   "outputs": [
    {
     "data": {
      "text/plain": [
       "array([[13, 14],\n",
       "       [ 0, 78]])"
      ]
     },
     "execution_count": 364,
     "metadata": {},
     "output_type": "execute_result"
    }
   ],
   "source": [
    "from sklearn.metrics import confusion_matrix\n",
    "confusion_matrix(y_test,y_pred)"
   ]
  },
  {
   "cell_type": "code",
   "execution_count": 365,
   "metadata": {
    "collapsed": true
   },
   "outputs": [],
   "source": [
    "from sklearn.metrics import precision_recall_fscore_support"
   ]
  },
  {
   "cell_type": "code",
   "execution_count": 372,
   "metadata": {
    "collapsed": false
   },
   "outputs": [],
   "source": [
    "precision, recall, fscore = precision_recall_fscore_support(y_test, y_pred,average='weighted')[:3]"
   ]
  },
  {
   "cell_type": "code",
   "execution_count": 373,
   "metadata": {
    "collapsed": false
   },
   "outputs": [
    {
     "name": "stdout",
     "output_type": "stream",
     "text": [
      "Precision =  0.886956521739\n",
      "Recall =  0.866666666667\n",
      "Fscore =  0.848823529412\n"
     ]
    }
   ],
   "source": [
    "print(\"Precision = \",precision)\n",
    "print(\"Recall = \",recall)\n",
    "print(\"Fscore = \", fscore)"
   ]
  }
 ],
 "metadata": {
  "anaconda-cloud": {},
  "kernelspec": {
   "display_name": "Python [Root]",
   "language": "python",
   "name": "Python [Root]"
  },
  "language_info": {
   "codemirror_mode": {
    "name": "ipython",
    "version": 3
   },
   "file_extension": ".py",
   "mimetype": "text/x-python",
   "name": "python",
   "nbconvert_exporter": "python",
   "pygments_lexer": "ipython3",
   "version": "3.5.2"
  }
 },
 "nbformat": 4,
 "nbformat_minor": 0
}
